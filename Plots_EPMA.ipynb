{
 "cells": [
  {
   "cell_type": "code",
   "execution_count": 1,
   "metadata": {},
   "outputs": [],
   "source": [
    "# ---------------- plotting mineral chemistry data\n",
    "\n",
    "\n",
    "# --- import modules\n",
    "\n",
    "import numpy as np\n",
    "import pandas as pd\n",
    "import plotly.express as px\n",
    "import matplotlib.pyplot as plt\n",
    "from matplotlib.ticker import (MultipleLocator, AutoMinorLocator)\n",
    "# from matplotlib import gridspec\n",
    "import matplotlib.ticker as ticker"
   ]
  },
  {
   "cell_type": "code",
   "execution_count": 2,
   "metadata": {},
   "outputs": [
    {
     "data": {
      "text/html": [
       "<div>\n",
       "<style scoped>\n",
       "    .dataframe tbody tr th:only-of-type {\n",
       "        vertical-align: middle;\n",
       "    }\n",
       "\n",
       "    .dataframe tbody tr th {\n",
       "        vertical-align: top;\n",
       "    }\n",
       "\n",
       "    .dataframe thead th {\n",
       "        text-align: right;\n",
       "    }\n",
       "</style>\n",
       "<table border=\"1\" class=\"dataframe\">\n",
       "  <thead>\n",
       "    <tr style=\"text-align: right;\">\n",
       "      <th></th>\n",
       "      <th>Facies</th>\n",
       "      <th>Sample</th>\n",
       "      <th>Area</th>\n",
       "      <th>Comment</th>\n",
       "      <th>Mineral</th>\n",
       "      <th>Texture</th>\n",
       "      <th>Ta</th>\n",
       "      <th>Nb</th>\n",
       "      <th>Sn</th>\n",
       "      <th>Ti</th>\n",
       "      <th>...</th>\n",
       "      <th>Nb/Ta</th>\n",
       "      <th>Ti/NbTa</th>\n",
       "      <th>Ti/FeNbTa</th>\n",
       "      <th>Ti/Nb</th>\n",
       "      <th>Ti/Ta</th>\n",
       "      <th>Ti/Sn</th>\n",
       "      <th>Ta#</th>\n",
       "      <th>Mn#</th>\n",
       "      <th>FeMnNb2</th>\n",
       "      <th>FeMnTa2</th>\n",
       "    </tr>\n",
       "  </thead>\n",
       "  <tbody>\n",
       "    <tr>\n",
       "      <th>0</th>\n",
       "      <td>SAPN</td>\n",
       "      <td>BU04</td>\n",
       "      <td>Ore2</td>\n",
       "      <td>BU04-Rut2.2</td>\n",
       "      <td>Rutile</td>\n",
       "      <td>rim</td>\n",
       "      <td>0.884464</td>\n",
       "      <td>0.986626</td>\n",
       "      <td>0.137358</td>\n",
       "      <td>8.845526</td>\n",
       "      <td>...</td>\n",
       "      <td>1.115507</td>\n",
       "      <td>4.727471</td>\n",
       "      <td>2.866136</td>\n",
       "      <td>8.965428</td>\n",
       "      <td>10.000997</td>\n",
       "      <td>64.397800</td>\n",
       "      <td>0.472700</td>\n",
       "      <td>0.011497</td>\n",
       "      <td>3.202514</td>\n",
       "      <td>2.998191</td>\n",
       "    </tr>\n",
       "    <tr>\n",
       "      <th>1</th>\n",
       "      <td>SAPN</td>\n",
       "      <td>BU04</td>\n",
       "      <td>Ore2</td>\n",
       "      <td>BU04-Rut2.3</td>\n",
       "      <td>Rutile</td>\n",
       "      <td>core</td>\n",
       "      <td>0.527495</td>\n",
       "      <td>1.071525</td>\n",
       "      <td>0.141687</td>\n",
       "      <td>9.296263</td>\n",
       "      <td>...</td>\n",
       "      <td>2.031348</td>\n",
       "      <td>5.813724</td>\n",
       "      <td>3.574355</td>\n",
       "      <td>8.675727</td>\n",
       "      <td>17.623418</td>\n",
       "      <td>65.611266</td>\n",
       "      <td>0.329886</td>\n",
       "      <td>0.003365</td>\n",
       "      <td>3.148235</td>\n",
       "      <td>2.060174</td>\n",
       "    </tr>\n",
       "    <tr>\n",
       "      <th>2</th>\n",
       "      <td>SAPN</td>\n",
       "      <td>BU04</td>\n",
       "      <td>Ore2</td>\n",
       "      <td>BU04-Ore2_coltan1</td>\n",
       "      <td>0.0</td>\n",
       "      <td>rim</td>\n",
       "      <td>1.145953</td>\n",
       "      <td>2.195166</td>\n",
       "      <td>0.136091</td>\n",
       "      <td>6.316732</td>\n",
       "      <td>...</td>\n",
       "      <td>1.915582</td>\n",
       "      <td>1.890604</td>\n",
       "      <td>1.344581</td>\n",
       "      <td>2.877564</td>\n",
       "      <td>5.512209</td>\n",
       "      <td>46.415440</td>\n",
       "      <td>0.342985</td>\n",
       "      <td>0.245812</td>\n",
       "      <td>6.189351</td>\n",
       "      <td>4.090924</td>\n",
       "    </tr>\n",
       "    <tr>\n",
       "      <th>3</th>\n",
       "      <td>PAPN</td>\n",
       "      <td>BU19TS(1)</td>\n",
       "      <td>Ore1</td>\n",
       "      <td>BU19TS(1)-rutile1.3</td>\n",
       "      <td>Rutile</td>\n",
       "      <td>core</td>\n",
       "      <td>0.667969</td>\n",
       "      <td>0.130254</td>\n",
       "      <td>0.088939</td>\n",
       "      <td>10.367100</td>\n",
       "      <td>...</td>\n",
       "      <td>0.195000</td>\n",
       "      <td>12.987718</td>\n",
       "      <td>7.643243</td>\n",
       "      <td>79.591272</td>\n",
       "      <td>15.520327</td>\n",
       "      <td>116.564161</td>\n",
       "      <td>0.836820</td>\n",
       "      <td>0.033718</td>\n",
       "      <td>0.838136</td>\n",
       "      <td>1.913566</td>\n",
       "    </tr>\n",
       "    <tr>\n",
       "      <th>4</th>\n",
       "      <td>PAPN</td>\n",
       "      <td>BU19TS(1)</td>\n",
       "      <td>Ore1</td>\n",
       "      <td>BU19TS(1)-rutile1.4</td>\n",
       "      <td>Rutile</td>\n",
       "      <td>core</td>\n",
       "      <td>0.586710</td>\n",
       "      <td>0.164315</td>\n",
       "      <td>0.087896</td>\n",
       "      <td>10.507521</td>\n",
       "      <td>...</td>\n",
       "      <td>0.280062</td>\n",
       "      <td>13.990902</td>\n",
       "      <td>8.023885</td>\n",
       "      <td>63.947263</td>\n",
       "      <td>17.909229</td>\n",
       "      <td>119.544437</td>\n",
       "      <td>0.781212</td>\n",
       "      <td>0.034855</td>\n",
       "      <td>0.907306</td>\n",
       "      <td>1.752094</td>\n",
       "    </tr>\n",
       "    <tr>\n",
       "      <th>...</th>\n",
       "      <td>...</td>\n",
       "      <td>...</td>\n",
       "      <td>...</td>\n",
       "      <td>...</td>\n",
       "      <td>...</td>\n",
       "      <td>...</td>\n",
       "      <td>...</td>\n",
       "      <td>...</td>\n",
       "      <td>...</td>\n",
       "      <td>...</td>\n",
       "      <td>...</td>\n",
       "      <td>...</td>\n",
       "      <td>...</td>\n",
       "      <td>...</td>\n",
       "      <td>...</td>\n",
       "      <td>...</td>\n",
       "      <td>...</td>\n",
       "      <td>...</td>\n",
       "      <td>...</td>\n",
       "      <td>...</td>\n",
       "      <td>...</td>\n",
       "    </tr>\n",
       "    <tr>\n",
       "      <th>87</th>\n",
       "      <td>Albitized</td>\n",
       "      <td>BU24</td>\n",
       "      <td>Ore4</td>\n",
       "      <td>BU24-Ore4.3</td>\n",
       "      <td>CGM</td>\n",
       "      <td>core</td>\n",
       "      <td>0.571426</td>\n",
       "      <td>7.485975</td>\n",
       "      <td>0.008277</td>\n",
       "      <td>0.097147</td>\n",
       "      <td>...</td>\n",
       "      <td>13.100513</td>\n",
       "      <td>0.012057</td>\n",
       "      <td>0.008861</td>\n",
       "      <td>0.012977</td>\n",
       "      <td>0.170008</td>\n",
       "      <td>11.736680</td>\n",
       "      <td>0.070919</td>\n",
       "      <td>0.201634</td>\n",
       "      <td>18.611806</td>\n",
       "      <td>4.782708</td>\n",
       "    </tr>\n",
       "    <tr>\n",
       "      <th>88</th>\n",
       "      <td>Albitized</td>\n",
       "      <td>BU24</td>\n",
       "      <td>Ore4</td>\n",
       "      <td>BU24-Ore4.4</td>\n",
       "      <td>CGM</td>\n",
       "      <td>rim</td>\n",
       "      <td>1.217390</td>\n",
       "      <td>6.894730</td>\n",
       "      <td>0.002894</td>\n",
       "      <td>0.050825</td>\n",
       "      <td>...</td>\n",
       "      <td>5.663533</td>\n",
       "      <td>0.006265</td>\n",
       "      <td>0.004749</td>\n",
       "      <td>0.007372</td>\n",
       "      <td>0.041749</td>\n",
       "      <td>17.562259</td>\n",
       "      <td>0.150071</td>\n",
       "      <td>0.280358</td>\n",
       "      <td>17.387357</td>\n",
       "      <td>6.032678</td>\n",
       "    </tr>\n",
       "    <tr>\n",
       "      <th>89</th>\n",
       "      <td>Albitized</td>\n",
       "      <td>BU24</td>\n",
       "      <td>Ore4</td>\n",
       "      <td>BU24-Ore4.5</td>\n",
       "      <td>CGM</td>\n",
       "      <td>core</td>\n",
       "      <td>0.745160</td>\n",
       "      <td>7.271945</td>\n",
       "      <td>0.017678</td>\n",
       "      <td>0.146145</td>\n",
       "      <td>...</td>\n",
       "      <td>9.758901</td>\n",
       "      <td>0.018229</td>\n",
       "      <td>0.013539</td>\n",
       "      <td>0.020097</td>\n",
       "      <td>0.196125</td>\n",
       "      <td>8.267091</td>\n",
       "      <td>0.092946</td>\n",
       "      <td>0.233437</td>\n",
       "      <td>18.166981</td>\n",
       "      <td>5.113411</td>\n",
       "    </tr>\n",
       "    <tr>\n",
       "      <th>90</th>\n",
       "      <td>Albitized</td>\n",
       "      <td>BU24</td>\n",
       "      <td>Ore4</td>\n",
       "      <td>BU24-Ore4.6</td>\n",
       "      <td>CGM</td>\n",
       "      <td>rim</td>\n",
       "      <td>1.176759</td>\n",
       "      <td>6.932291</td>\n",
       "      <td>0.004441</td>\n",
       "      <td>0.056290</td>\n",
       "      <td>...</td>\n",
       "      <td>5.891003</td>\n",
       "      <td>0.006942</td>\n",
       "      <td>0.005132</td>\n",
       "      <td>0.008120</td>\n",
       "      <td>0.047835</td>\n",
       "      <td>12.676216</td>\n",
       "      <td>0.145117</td>\n",
       "      <td>0.206509</td>\n",
       "      <td>17.469471</td>\n",
       "      <td>5.958406</td>\n",
       "    </tr>\n",
       "    <tr>\n",
       "      <th>91</th>\n",
       "      <td>Albitized</td>\n",
       "      <td>BU24</td>\n",
       "      <td>Ore4</td>\n",
       "      <td>BU24-Ore4.7</td>\n",
       "      <td>CGM</td>\n",
       "      <td>core</td>\n",
       "      <td>0.807920</td>\n",
       "      <td>7.180186</td>\n",
       "      <td>0.017491</td>\n",
       "      <td>0.159604</td>\n",
       "      <td>...</td>\n",
       "      <td>8.887249</td>\n",
       "      <td>0.019980</td>\n",
       "      <td>0.014577</td>\n",
       "      <td>0.022228</td>\n",
       "      <td>0.197550</td>\n",
       "      <td>9.124938</td>\n",
       "      <td>0.101140</td>\n",
       "      <td>0.193600</td>\n",
       "      <td>18.032071</td>\n",
       "      <td>5.287538</td>\n",
       "    </tr>\n",
       "  </tbody>\n",
       "</table>\n",
       "<p>92 rows × 33 columns</p>\n",
       "</div>"
      ],
      "text/plain": [
       "       Facies     Sample  Area              Comment Mineral Texture        Ta  \\\n",
       "0        SAPN       BU04  Ore2          BU04-Rut2.2  Rutile     rim  0.884464   \n",
       "1        SAPN       BU04  Ore2          BU04-Rut2.3  Rutile    core  0.527495   \n",
       "2        SAPN       BU04  Ore2   BU04-Ore2_coltan1      0.0     rim  1.145953   \n",
       "3        PAPN  BU19TS(1)  Ore1  BU19TS(1)-rutile1.3  Rutile    core  0.667969   \n",
       "4        PAPN  BU19TS(1)  Ore1  BU19TS(1)-rutile1.4  Rutile    core  0.586710   \n",
       "..        ...        ...   ...                  ...     ...     ...       ...   \n",
       "87  Albitized       BU24  Ore4          BU24-Ore4.3     CGM    core  0.571426   \n",
       "88  Albitized       BU24  Ore4          BU24-Ore4.4     CGM     rim  1.217390   \n",
       "89  Albitized       BU24  Ore4          BU24-Ore4.5     CGM    core  0.745160   \n",
       "90  Albitized       BU24  Ore4          BU24-Ore4.6     CGM     rim  1.176759   \n",
       "91  Albitized       BU24  Ore4          BU24-Ore4.7     CGM    core  0.807920   \n",
       "\n",
       "          Nb        Sn         Ti  ...      Nb/Ta    Ti/NbTa  Ti/FeNbTa  \\\n",
       "0   0.986626  0.137358   8.845526  ...   1.115507   4.727471   2.866136   \n",
       "1   1.071525  0.141687   9.296263  ...   2.031348   5.813724   3.574355   \n",
       "2   2.195166  0.136091   6.316732  ...   1.915582   1.890604   1.344581   \n",
       "3   0.130254  0.088939  10.367100  ...   0.195000  12.987718   7.643243   \n",
       "4   0.164315  0.087896  10.507521  ...   0.280062  13.990902   8.023885   \n",
       "..       ...       ...        ...  ...        ...        ...        ...   \n",
       "87  7.485975  0.008277   0.097147  ...  13.100513   0.012057   0.008861   \n",
       "88  6.894730  0.002894   0.050825  ...   5.663533   0.006265   0.004749   \n",
       "89  7.271945  0.017678   0.146145  ...   9.758901   0.018229   0.013539   \n",
       "90  6.932291  0.004441   0.056290  ...   5.891003   0.006942   0.005132   \n",
       "91  7.180186  0.017491   0.159604  ...   8.887249   0.019980   0.014577   \n",
       "\n",
       "        Ti/Nb      Ti/Ta       Ti/Sn       Ta#       Mn#    FeMnNb2   FeMnTa2  \n",
       "0    8.965428  10.000997   64.397800  0.472700  0.011497   3.202514  2.998191  \n",
       "1    8.675727  17.623418   65.611266  0.329886  0.003365   3.148235  2.060174  \n",
       "2    2.877564   5.512209   46.415440  0.342985  0.245812   6.189351  4.090924  \n",
       "3   79.591272  15.520327  116.564161  0.836820  0.033718   0.838136  1.913566  \n",
       "4   63.947263  17.909229  119.544437  0.781212  0.034855   0.907306  1.752094  \n",
       "..        ...        ...         ...       ...       ...        ...       ...  \n",
       "87   0.012977   0.170008   11.736680  0.070919  0.201634  18.611806  4.782708  \n",
       "88   0.007372   0.041749   17.562259  0.150071  0.280358  17.387357  6.032678  \n",
       "89   0.020097   0.196125    8.267091  0.092946  0.233437  18.166981  5.113411  \n",
       "90   0.008120   0.047835   12.676216  0.145117  0.206509  17.469471  5.958406  \n",
       "91   0.022228   0.197550    9.124938  0.101140  0.193600  18.032071  5.287538  \n",
       "\n",
       "[92 rows x 33 columns]"
      ]
     },
     "execution_count": 2,
     "metadata": {},
     "output_type": "execute_result"
    }
   ],
   "source": [
    "# --- create dataframe from excel spreadsheet using pandas import command \n",
    "\n",
    "df_analysis = pd.read_csv('./Data/Mineral_chemistry/4-EPMA_apfu.csv', \n",
    "                          encoding = \"ANSI\")\n",
    "\n",
    "# --- fill with 0.0 data where there are no values \n",
    "\n",
    "df_analysis = df_analysis.fillna(0.0)\n",
    "\n",
    "# --- add relevant sums and ratios to dataframe  \n",
    "\n",
    "df_analysis['NbTa'] = df_analysis['Nb'] + df_analysis['Ta']\n",
    "df_analysis['FeMn'] = df_analysis['Fe'] + df_analysis['Mn']\n",
    "df_analysis['TiSn'] = df_analysis['Ti'] + df_analysis['Sn']\n",
    "df_analysis['FeTa'] = df_analysis['Fe'] + df_analysis['Ta']\n",
    "df_analysis['MnNb'] = df_analysis['Mn'] + df_analysis['Nb']\n",
    "df_analysis['FeNbTa'] = df_analysis['Fe'] + df_analysis['Nb'] + df_analysis['Ta']\n",
    "\n",
    "df_analysis['Fe/Mn'] = df_analysis['Fe'] / df_analysis['Mn']\n",
    "df_analysis['Nb/Ta'] = df_analysis['Nb'] / df_analysis['Ta']\n",
    "df_analysis['Ti/NbTa'] = df_analysis['Ti'] / df_analysis['NbTa']\n",
    "df_analysis['Ti/FeNbTa'] = df_analysis['Ti'] / df_analysis['FeNbTa']\n",
    "df_analysis['Ti/Nb'] = df_analysis['Ti'] / df_analysis['Nb']\n",
    "df_analysis['Ti/Ta'] = df_analysis['Ti'] / df_analysis['Ta']\n",
    "df_analysis['Ti/Sn'] = df_analysis['Ti'] / df_analysis['Sn']\n",
    "df_analysis['Ta#'] = df_analysis['Ta'] / df_analysis['NbTa']\n",
    "df_analysis['Mn#'] = df_analysis['Mn'] / df_analysis['FeMn']\n",
    "\n",
    "df_analysis['FeMnNb2'] = df_analysis['FeMn'] + (2*df_analysis['Nb'])\n",
    "df_analysis['FeMnTa2'] = df_analysis['FeMn'] + (2*df_analysis['Ta'])\n",
    "# df_analysis['TiSn3'] = df_analysis['TiSn'] * 3\n",
    "\n",
    "\n",
    "\n",
    "df_analysis"
   ]
  },
  {
   "cell_type": "code",
   "execution_count": null,
   "metadata": {},
   "outputs": [],
   "source": [
    "# --- print the colums of the imported dataframe - can be changed if necessary\n",
    "\n",
    "df_analysis.columns\n"
   ]
  },
  {
   "cell_type": "code",
   "execution_count": 3,
   "metadata": {},
   "outputs": [],
   "source": [
    "# --- filter the dataframe to specific conditions\n",
    "\n",
    "\n",
    "df_rutile = df_analysis.query('Mineral == \"Rutile\"')\n",
    "df_CGM = df_analysis.query('Mineral == \"CGM\"')\n",
    "df_CGM_zoned = df_analysis.query('Sample == \"BU04\"').query('Area==\"Ore1\"')\n"
   ]
  },
  {
   "cell_type": "code",
   "execution_count": 8,
   "metadata": {},
   "outputs": [
    {
     "data": {
      "application/vnd.plotly.v1+json": {
       "config": {
        "plotlyServerURL": "https://plot.ly"
       },
       "data": [
        {
         "customdata": [
          [
           "BU04",
           "BU04-Ore1.2 "
          ],
          [
           "BU04",
           "BU04-Ore1.8 "
          ],
          [
           "BU04",
           "BU04-Ore1.10 "
          ]
         ],
         "hovertemplate": "Facies=SAPN<br>Texture=patchy<br>Ti=%{x}<br>Nb/Ta=%{y}<br>Sample=%{customdata[0]}<br>Comment=%{customdata[1]}<extra></extra>",
         "legendgroup": "SAPN, patchy",
         "marker": {
          "color": "#636efa",
          "size": 10,
          "symbol": "circle"
         },
         "mode": "markers",
         "name": "SAPN, patchy",
         "orientation": "v",
         "showlegend": true,
         "textposition": "top center",
         "type": "scatter",
         "x": [
          0.1535550803810151,
          0.2263395624320251,
          0.1283336125376429
         ],
         "xaxis": "x",
         "y": [
          16.033405905864623,
          5.2927220555797625,
          4.506202920867106
         ],
         "yaxis": "y"
        },
        {
         "customdata": [
          [
           "BU04",
           "BU04-Ore1.3 "
          ],
          [
           "BU04",
           "BU04-Ore1.4 "
          ],
          [
           "BU04",
           "BU04-Ore1.9 "
          ]
         ],
         "hovertemplate": "Facies=SAPN<br>Texture=rim<br>Ti=%{x}<br>Nb/Ta=%{y}<br>Sample=%{customdata[0]}<br>Comment=%{customdata[1]}<extra></extra>",
         "legendgroup": "SAPN, rim",
         "marker": {
          "color": "#636efa",
          "size": 10,
          "symbol": "diamond"
         },
         "mode": "markers",
         "name": "SAPN, rim",
         "orientation": "v",
         "showlegend": true,
         "textposition": "top center",
         "type": "scatter",
         "x": [
          0.246379517268292,
          0.2883855209044205,
          0.3842910023682814
         ],
         "xaxis": "x",
         "y": [
          2.926768088819189,
          3.46544547198509,
          4.843392358349799
         ],
         "yaxis": "y"
        },
        {
         "customdata": [
          [
           "BU04",
           "BU04-Ore1.5 "
          ],
          [
           "BU04",
           "BU04-Ore1.6 "
          ],
          [
           "BU04",
           "BU04-Ore1.7 "
          ],
          [
           "BU04",
           "BU04-Ore2_coltan2 "
          ]
         ],
         "hovertemplate": "Facies=SAPN<br>Texture=core<br>Ti=%{x}<br>Nb/Ta=%{y}<br>Sample=%{customdata[0]}<br>Comment=%{customdata[1]}<extra></extra>",
         "legendgroup": "SAPN, core",
         "marker": {
          "color": "#636efa",
          "size": 10,
          "symbol": "square"
         },
         "mode": "markers",
         "name": "SAPN, core",
         "orientation": "v",
         "showlegend": true,
         "textposition": "top center",
         "type": "scatter",
         "x": [
          0.2902946047832139,
          0.3624918198389054,
          0.3741896937565569,
          1.1831320435758703
         ],
         "xaxis": "x",
         "y": [
          5.126834183730507,
          5.86967422618312,
          5.583711775595585,
          2.948012534590635
         ],
         "yaxis": "y"
        },
        {
         "customdata": [
          [
           "BU19TS",
           "BU19TS-coltan1.3 "
          ],
          [
           "BU19TS",
           "BU19TS-coltan2.4 "
          ],
          [
           "BU19TS",
           "BU19TS-coltan2.5 "
          ]
         ],
         "hovertemplate": "Facies=PAPN<br>Texture=patchy<br>Ti=%{x}<br>Nb/Ta=%{y}<br>Sample=%{customdata[0]}<br>Comment=%{customdata[1]}<extra></extra>",
         "legendgroup": "PAPN, patchy",
         "marker": {
          "color": "#EF553B",
          "size": 10,
          "symbol": "circle"
         },
         "mode": "markers",
         "name": "PAPN, patchy",
         "orientation": "v",
         "showlegend": true,
         "textposition": "top center",
         "type": "scatter",
         "x": [
          0.3812448930553418,
          0.3060730012139109,
          0.3033015217894312
         ],
         "xaxis": "x",
         "y": [
          3.2195877446601084,
          2.033448255899438,
          2.9528915077468056
         ],
         "yaxis": "y"
        },
        {
         "customdata": [
          [
           "BU19TS",
           "BU19TS-coltan1.1 "
          ],
          [
           "BU19TS",
           "BU19TS-coltan1.5 "
          ],
          [
           "BU19TS",
           "BU19TS-coltan1.6 "
          ],
          [
           "BU19TS",
           "BU19TS-coltan2.6 "
          ],
          [
           "BU19TS",
           "BU19TS-coltan3.1 "
          ]
         ],
         "hovertemplate": "Facies=PAPN<br>Texture=rim<br>Ti=%{x}<br>Nb/Ta=%{y}<br>Sample=%{customdata[0]}<br>Comment=%{customdata[1]}<extra></extra>",
         "legendgroup": "PAPN, rim",
         "marker": {
          "color": "#EF553B",
          "size": 10,
          "symbol": "diamond"
         },
         "mode": "markers",
         "name": "PAPN, rim",
         "orientation": "v",
         "showlegend": true,
         "textposition": "top center",
         "type": "scatter",
         "x": [
          0.4784575926381042,
          0.5234875147425581,
          0.533983366357058,
          0.4199498562698549,
          0.3915549180785933
         ],
         "xaxis": "x",
         "y": [
          1.5007337810086514,
          1.5454193991746115,
          1.6871922971344073,
          1.763597514999412,
          2.560857856277827
         ],
         "yaxis": "y"
        },
        {
         "customdata": [
          [
           "BU19TS",
           "BU19TS-coltan1.2 "
          ],
          [
           "BU19TS",
           "BU19TS-coltan1.4 "
          ],
          [
           "BU19TS",
           "BU19TS-coltan1.7 "
          ],
          [
           "BU19TS",
           "BU19TS-coltan2.2 "
          ],
          [
           "BU19TS",
           "BU19TS-coltan2.3 "
          ],
          [
           "BU19TS",
           "BU19TS-coltan3.2 "
          ],
          [
           "BU19TS",
           "BU19TS-coltan3.3 "
          ]
         ],
         "hovertemplate": "Facies=PAPN<br>Texture=core<br>Ti=%{x}<br>Nb/Ta=%{y}<br>Sample=%{customdata[0]}<br>Comment=%{customdata[1]}<extra></extra>",
         "legendgroup": "PAPN, core",
         "marker": {
          "color": "#EF553B",
          "size": 10,
          "symbol": "square"
         },
         "mode": "markers",
         "name": "PAPN, core",
         "orientation": "v",
         "showlegend": true,
         "textposition": "top center",
         "type": "scatter",
         "x": [
          0.378292739745744,
          0.4306932406157909,
          0.5641417269817883,
          0.3232726211556022,
          0.3197243750073593,
          0.649319787161882,
          0.4648422360895017
         ],
         "xaxis": "x",
         "y": [
          2.0290245279402974,
          1.8406797422216925,
          1.5538101920556937,
          2.0117802328456866,
          2.366036316057487,
          1.426282166466414,
          1.377540871141791
         ],
         "yaxis": "y"
        },
        {
         "customdata": [
          [
           "BU24",
           "BU24-coltan1.1 "
          ],
          [
           "BU24",
           "BU24-coltan2.1 "
          ],
          [
           "BU24",
           "BU24-coltan3.2 "
          ],
          [
           "BU24",
           "BU24-coltan3.3 "
          ],
          [
           "BU24",
           "BU24-coltan3.6 "
          ],
          [
           "BU24",
           "BU24-Ore4.1"
          ],
          [
           "BU24",
           "BU24-Ore4.4"
          ],
          [
           "BU24",
           "BU24-Ore4.6"
          ]
         ],
         "hovertemplate": "Facies=Albitized<br>Texture=rim<br>Ti=%{x}<br>Nb/Ta=%{y}<br>Sample=%{customdata[0]}<br>Comment=%{customdata[1]}<extra></extra>",
         "legendgroup": "Albitized, rim",
         "marker": {
          "color": "#00cc96",
          "size": 10,
          "symbol": "diamond"
         },
         "mode": "markers",
         "name": "Albitized, rim",
         "orientation": "v",
         "showlegend": true,
         "textposition": "top center",
         "type": "scatter",
         "x": [
          0.0893836838742745,
          0.1521710209261403,
          0.0980417216908713,
          0.2065282226678478,
          0.1124606444815941,
          0.0659466848552347,
          0.0508246201689186,
          0.0562901056647276
         ],
         "xaxis": "x",
         "y": [
          10.17154273529741,
          6.808313407870618,
          1.2139439316673017,
          2.569323512852684,
          2.386032344294574,
          4.502818307621808,
          5.663533132996791,
          5.89100340370933
         ],
         "yaxis": "y"
        },
        {
         "customdata": [
          [
           "BU24",
           "BU24-coltan1.2 "
          ],
          [
           "BU24",
           "BU24-coltan2.2 "
          ],
          [
           "BU24",
           "BU24-coltan2.3 "
          ],
          [
           "BU24",
           "BU24-coltan3.1 "
          ],
          [
           "BU24",
           "BU24-coltan3.4 "
          ],
          [
           "BU24",
           "BU24-coltan3.5 "
          ],
          [
           "BU24",
           "BU24-Ore4.2"
          ],
          [
           "BU24",
           "BU24-Ore4.3"
          ],
          [
           "BU24",
           "BU24-Ore4.5"
          ],
          [
           "BU24",
           "BU24-Ore4.7"
          ]
         ],
         "hovertemplate": "Facies=Albitized<br>Texture=core<br>Ti=%{x}<br>Nb/Ta=%{y}<br>Sample=%{customdata[0]}<br>Comment=%{customdata[1]}<extra></extra>",
         "legendgroup": "Albitized, core",
         "marker": {
          "color": "#00cc96",
          "size": 10,
          "symbol": "square"
         },
         "mode": "markers",
         "name": "Albitized, core",
         "orientation": "v",
         "showlegend": true,
         "textposition": "top center",
         "type": "scatter",
         "x": [
          0.0839890730655012,
          0.1522547036538767,
          0.1449757480456139,
          0.1004136809124267,
          0.0881999311366197,
          0.089449708645341,
          0.1522809044088685,
          0.0971469388738648,
          0.1461448727589363,
          0.1596044628412277
         ],
         "xaxis": "x",
         "y": [
          9.257695181535574,
          7.245073449975878,
          6.177118344274364,
          7.392847498193192,
          6.712068994559227,
          6.617891142317543,
          8.753695585670963,
          13.100512612038644,
          9.758901072389756,
          8.887249483846983
         ],
         "yaxis": "y"
        }
       ],
       "layout": {
        "font": {
         "color": "black",
         "family": "Arial",
         "size": 16
        },
        "height": 600,
        "legend": {
         "title": {
          "text": "Facies, Texture"
         },
         "tracegroupgap": 0
        },
        "margin": {
         "t": 60
        },
        "plot_bgcolor": "white",
        "template": {
         "data": {
          "bar": [
           {
            "error_x": {
             "color": "#2a3f5f"
            },
            "error_y": {
             "color": "#2a3f5f"
            },
            "marker": {
             "line": {
              "color": "#E5ECF6",
              "width": 0.5
             }
            },
            "type": "bar"
           }
          ],
          "barpolar": [
           {
            "marker": {
             "line": {
              "color": "#E5ECF6",
              "width": 0.5
             }
            },
            "type": "barpolar"
           }
          ],
          "carpet": [
           {
            "aaxis": {
             "endlinecolor": "#2a3f5f",
             "gridcolor": "white",
             "linecolor": "white",
             "minorgridcolor": "white",
             "startlinecolor": "#2a3f5f"
            },
            "baxis": {
             "endlinecolor": "#2a3f5f",
             "gridcolor": "white",
             "linecolor": "white",
             "minorgridcolor": "white",
             "startlinecolor": "#2a3f5f"
            },
            "type": "carpet"
           }
          ],
          "choropleth": [
           {
            "colorbar": {
             "outlinewidth": 0,
             "ticks": ""
            },
            "type": "choropleth"
           }
          ],
          "contour": [
           {
            "colorbar": {
             "outlinewidth": 0,
             "ticks": ""
            },
            "colorscale": [
             [
              0,
              "#0d0887"
             ],
             [
              0.1111111111111111,
              "#46039f"
             ],
             [
              0.2222222222222222,
              "#7201a8"
             ],
             [
              0.3333333333333333,
              "#9c179e"
             ],
             [
              0.4444444444444444,
              "#bd3786"
             ],
             [
              0.5555555555555556,
              "#d8576b"
             ],
             [
              0.6666666666666666,
              "#ed7953"
             ],
             [
              0.7777777777777778,
              "#fb9f3a"
             ],
             [
              0.8888888888888888,
              "#fdca26"
             ],
             [
              1,
              "#f0f921"
             ]
            ],
            "type": "contour"
           }
          ],
          "contourcarpet": [
           {
            "colorbar": {
             "outlinewidth": 0,
             "ticks": ""
            },
            "type": "contourcarpet"
           }
          ],
          "heatmap": [
           {
            "colorbar": {
             "outlinewidth": 0,
             "ticks": ""
            },
            "colorscale": [
             [
              0,
              "#0d0887"
             ],
             [
              0.1111111111111111,
              "#46039f"
             ],
             [
              0.2222222222222222,
              "#7201a8"
             ],
             [
              0.3333333333333333,
              "#9c179e"
             ],
             [
              0.4444444444444444,
              "#bd3786"
             ],
             [
              0.5555555555555556,
              "#d8576b"
             ],
             [
              0.6666666666666666,
              "#ed7953"
             ],
             [
              0.7777777777777778,
              "#fb9f3a"
             ],
             [
              0.8888888888888888,
              "#fdca26"
             ],
             [
              1,
              "#f0f921"
             ]
            ],
            "type": "heatmap"
           }
          ],
          "heatmapgl": [
           {
            "colorbar": {
             "outlinewidth": 0,
             "ticks": ""
            },
            "colorscale": [
             [
              0,
              "#0d0887"
             ],
             [
              0.1111111111111111,
              "#46039f"
             ],
             [
              0.2222222222222222,
              "#7201a8"
             ],
             [
              0.3333333333333333,
              "#9c179e"
             ],
             [
              0.4444444444444444,
              "#bd3786"
             ],
             [
              0.5555555555555556,
              "#d8576b"
             ],
             [
              0.6666666666666666,
              "#ed7953"
             ],
             [
              0.7777777777777778,
              "#fb9f3a"
             ],
             [
              0.8888888888888888,
              "#fdca26"
             ],
             [
              1,
              "#f0f921"
             ]
            ],
            "type": "heatmapgl"
           }
          ],
          "histogram": [
           {
            "marker": {
             "colorbar": {
              "outlinewidth": 0,
              "ticks": ""
             }
            },
            "type": "histogram"
           }
          ],
          "histogram2d": [
           {
            "colorbar": {
             "outlinewidth": 0,
             "ticks": ""
            },
            "colorscale": [
             [
              0,
              "#0d0887"
             ],
             [
              0.1111111111111111,
              "#46039f"
             ],
             [
              0.2222222222222222,
              "#7201a8"
             ],
             [
              0.3333333333333333,
              "#9c179e"
             ],
             [
              0.4444444444444444,
              "#bd3786"
             ],
             [
              0.5555555555555556,
              "#d8576b"
             ],
             [
              0.6666666666666666,
              "#ed7953"
             ],
             [
              0.7777777777777778,
              "#fb9f3a"
             ],
             [
              0.8888888888888888,
              "#fdca26"
             ],
             [
              1,
              "#f0f921"
             ]
            ],
            "type": "histogram2d"
           }
          ],
          "histogram2dcontour": [
           {
            "colorbar": {
             "outlinewidth": 0,
             "ticks": ""
            },
            "colorscale": [
             [
              0,
              "#0d0887"
             ],
             [
              0.1111111111111111,
              "#46039f"
             ],
             [
              0.2222222222222222,
              "#7201a8"
             ],
             [
              0.3333333333333333,
              "#9c179e"
             ],
             [
              0.4444444444444444,
              "#bd3786"
             ],
             [
              0.5555555555555556,
              "#d8576b"
             ],
             [
              0.6666666666666666,
              "#ed7953"
             ],
             [
              0.7777777777777778,
              "#fb9f3a"
             ],
             [
              0.8888888888888888,
              "#fdca26"
             ],
             [
              1,
              "#f0f921"
             ]
            ],
            "type": "histogram2dcontour"
           }
          ],
          "mesh3d": [
           {
            "colorbar": {
             "outlinewidth": 0,
             "ticks": ""
            },
            "type": "mesh3d"
           }
          ],
          "parcoords": [
           {
            "line": {
             "colorbar": {
              "outlinewidth": 0,
              "ticks": ""
             }
            },
            "type": "parcoords"
           }
          ],
          "pie": [
           {
            "automargin": true,
            "type": "pie"
           }
          ],
          "scatter": [
           {
            "marker": {
             "colorbar": {
              "outlinewidth": 0,
              "ticks": ""
             }
            },
            "type": "scatter"
           }
          ],
          "scatter3d": [
           {
            "line": {
             "colorbar": {
              "outlinewidth": 0,
              "ticks": ""
             }
            },
            "marker": {
             "colorbar": {
              "outlinewidth": 0,
              "ticks": ""
             }
            },
            "type": "scatter3d"
           }
          ],
          "scattercarpet": [
           {
            "marker": {
             "colorbar": {
              "outlinewidth": 0,
              "ticks": ""
             }
            },
            "type": "scattercarpet"
           }
          ],
          "scattergeo": [
           {
            "marker": {
             "colorbar": {
              "outlinewidth": 0,
              "ticks": ""
             }
            },
            "type": "scattergeo"
           }
          ],
          "scattergl": [
           {
            "marker": {
             "colorbar": {
              "outlinewidth": 0,
              "ticks": ""
             }
            },
            "type": "scattergl"
           }
          ],
          "scattermapbox": [
           {
            "marker": {
             "colorbar": {
              "outlinewidth": 0,
              "ticks": ""
             }
            },
            "type": "scattermapbox"
           }
          ],
          "scatterpolar": [
           {
            "marker": {
             "colorbar": {
              "outlinewidth": 0,
              "ticks": ""
             }
            },
            "type": "scatterpolar"
           }
          ],
          "scatterpolargl": [
           {
            "marker": {
             "colorbar": {
              "outlinewidth": 0,
              "ticks": ""
             }
            },
            "type": "scatterpolargl"
           }
          ],
          "scatterternary": [
           {
            "marker": {
             "colorbar": {
              "outlinewidth": 0,
              "ticks": ""
             }
            },
            "type": "scatterternary"
           }
          ],
          "surface": [
           {
            "colorbar": {
             "outlinewidth": 0,
             "ticks": ""
            },
            "colorscale": [
             [
              0,
              "#0d0887"
             ],
             [
              0.1111111111111111,
              "#46039f"
             ],
             [
              0.2222222222222222,
              "#7201a8"
             ],
             [
              0.3333333333333333,
              "#9c179e"
             ],
             [
              0.4444444444444444,
              "#bd3786"
             ],
             [
              0.5555555555555556,
              "#d8576b"
             ],
             [
              0.6666666666666666,
              "#ed7953"
             ],
             [
              0.7777777777777778,
              "#fb9f3a"
             ],
             [
              0.8888888888888888,
              "#fdca26"
             ],
             [
              1,
              "#f0f921"
             ]
            ],
            "type": "surface"
           }
          ],
          "table": [
           {
            "cells": {
             "fill": {
              "color": "#EBF0F8"
             },
             "line": {
              "color": "white"
             }
            },
            "header": {
             "fill": {
              "color": "#C8D4E3"
             },
             "line": {
              "color": "white"
             }
            },
            "type": "table"
           }
          ]
         },
         "layout": {
          "annotationdefaults": {
           "arrowcolor": "#2a3f5f",
           "arrowhead": 0,
           "arrowwidth": 1
          },
          "autotypenumbers": "strict",
          "coloraxis": {
           "colorbar": {
            "outlinewidth": 0,
            "ticks": ""
           }
          },
          "colorscale": {
           "diverging": [
            [
             0,
             "#8e0152"
            ],
            [
             0.1,
             "#c51b7d"
            ],
            [
             0.2,
             "#de77ae"
            ],
            [
             0.3,
             "#f1b6da"
            ],
            [
             0.4,
             "#fde0ef"
            ],
            [
             0.5,
             "#f7f7f7"
            ],
            [
             0.6,
             "#e6f5d0"
            ],
            [
             0.7,
             "#b8e186"
            ],
            [
             0.8,
             "#7fbc41"
            ],
            [
             0.9,
             "#4d9221"
            ],
            [
             1,
             "#276419"
            ]
           ],
           "sequential": [
            [
             0,
             "#0d0887"
            ],
            [
             0.1111111111111111,
             "#46039f"
            ],
            [
             0.2222222222222222,
             "#7201a8"
            ],
            [
             0.3333333333333333,
             "#9c179e"
            ],
            [
             0.4444444444444444,
             "#bd3786"
            ],
            [
             0.5555555555555556,
             "#d8576b"
            ],
            [
             0.6666666666666666,
             "#ed7953"
            ],
            [
             0.7777777777777778,
             "#fb9f3a"
            ],
            [
             0.8888888888888888,
             "#fdca26"
            ],
            [
             1,
             "#f0f921"
            ]
           ],
           "sequentialminus": [
            [
             0,
             "#0d0887"
            ],
            [
             0.1111111111111111,
             "#46039f"
            ],
            [
             0.2222222222222222,
             "#7201a8"
            ],
            [
             0.3333333333333333,
             "#9c179e"
            ],
            [
             0.4444444444444444,
             "#bd3786"
            ],
            [
             0.5555555555555556,
             "#d8576b"
            ],
            [
             0.6666666666666666,
             "#ed7953"
            ],
            [
             0.7777777777777778,
             "#fb9f3a"
            ],
            [
             0.8888888888888888,
             "#fdca26"
            ],
            [
             1,
             "#f0f921"
            ]
           ]
          },
          "colorway": [
           "#636efa",
           "#EF553B",
           "#00cc96",
           "#ab63fa",
           "#FFA15A",
           "#19d3f3",
           "#FF6692",
           "#B6E880",
           "#FF97FF",
           "#FECB52"
          ],
          "font": {
           "color": "#2a3f5f"
          },
          "geo": {
           "bgcolor": "white",
           "lakecolor": "white",
           "landcolor": "#E5ECF6",
           "showlakes": true,
           "showland": true,
           "subunitcolor": "white"
          },
          "hoverlabel": {
           "align": "left"
          },
          "hovermode": "closest",
          "mapbox": {
           "style": "light"
          },
          "paper_bgcolor": "white",
          "plot_bgcolor": "#E5ECF6",
          "polar": {
           "angularaxis": {
            "gridcolor": "white",
            "linecolor": "white",
            "ticks": ""
           },
           "bgcolor": "#E5ECF6",
           "radialaxis": {
            "gridcolor": "white",
            "linecolor": "white",
            "ticks": ""
           }
          },
          "scene": {
           "xaxis": {
            "backgroundcolor": "#E5ECF6",
            "gridcolor": "white",
            "gridwidth": 2,
            "linecolor": "white",
            "showbackground": true,
            "ticks": "",
            "zerolinecolor": "white"
           },
           "yaxis": {
            "backgroundcolor": "#E5ECF6",
            "gridcolor": "white",
            "gridwidth": 2,
            "linecolor": "white",
            "showbackground": true,
            "ticks": "",
            "zerolinecolor": "white"
           },
           "zaxis": {
            "backgroundcolor": "#E5ECF6",
            "gridcolor": "white",
            "gridwidth": 2,
            "linecolor": "white",
            "showbackground": true,
            "ticks": "",
            "zerolinecolor": "white"
           }
          },
          "shapedefaults": {
           "line": {
            "color": "#2a3f5f"
           }
          },
          "ternary": {
           "aaxis": {
            "gridcolor": "white",
            "linecolor": "white",
            "ticks": ""
           },
           "baxis": {
            "gridcolor": "white",
            "linecolor": "white",
            "ticks": ""
           },
           "bgcolor": "#E5ECF6",
           "caxis": {
            "gridcolor": "white",
            "linecolor": "white",
            "ticks": ""
           }
          },
          "title": {
           "x": 0.05
          },
          "xaxis": {
           "automargin": true,
           "gridcolor": "white",
           "linecolor": "white",
           "ticks": "",
           "title": {
            "standoff": 15
           },
           "zerolinecolor": "white",
           "zerolinewidth": 2
          },
          "yaxis": {
           "automargin": true,
           "gridcolor": "white",
           "linecolor": "white",
           "ticks": "",
           "title": {
            "standoff": 15
           },
           "zerolinecolor": "white",
           "zerolinewidth": 2
          }
         }
        },
        "width": 800,
        "xaxis": {
         "anchor": "y",
         "domain": [
          0,
          1
         ],
         "linecolor": "black",
         "mirror": "allticks",
         "showgrid": false,
         "ticks": "inside",
         "title": {
          "text": "Ti"
         },
         "zeroline": true
        },
        "yaxis": {
         "anchor": "x",
         "domain": [
          0,
          1
         ],
         "linecolor": "black",
         "mirror": "allticks",
         "showgrid": false,
         "ticks": "inside",
         "title": {
          "text": "Nb/Ta"
         },
         "zeroline": true
        }
       }
      },
      "text/html": [
       "<div>                            <div id=\"6a5c1a9b-1474-4ff3-888e-6dc8b38e3d58\" class=\"plotly-graph-div\" style=\"height:600px; width:800px;\"></div>            <script type=\"text/javascript\">                require([\"plotly\"], function(Plotly) {                    window.PLOTLYENV=window.PLOTLYENV || {};                                    if (document.getElementById(\"6a5c1a9b-1474-4ff3-888e-6dc8b38e3d58\")) {                    Plotly.newPlot(                        \"6a5c1a9b-1474-4ff3-888e-6dc8b38e3d58\",                        [{\"customdata\": [[\"BU04\", \"BU04-Ore1.2 \"], [\"BU04\", \"BU04-Ore1.8 \"], [\"BU04\", \"BU04-Ore1.10 \"]], \"hovertemplate\": \"Facies=SAPN<br>Texture=patchy<br>Ti=%{x}<br>Nb/Ta=%{y}<br>Sample=%{customdata[0]}<br>Comment=%{customdata[1]}<extra></extra>\", \"legendgroup\": \"SAPN, patchy\", \"marker\": {\"color\": \"#636efa\", \"size\": 10, \"symbol\": \"circle\"}, \"mode\": \"markers\", \"name\": \"SAPN, patchy\", \"orientation\": \"v\", \"showlegend\": true, \"textposition\": \"top center\", \"type\": \"scatter\", \"x\": [0.1535550803810151, 0.2263395624320251, 0.1283336125376429], \"xaxis\": \"x\", \"y\": [16.033405905864623, 5.2927220555797625, 4.506202920867106], \"yaxis\": \"y\"}, {\"customdata\": [[\"BU04\", \"BU04-Ore1.3 \"], [\"BU04\", \"BU04-Ore1.4 \"], [\"BU04\", \"BU04-Ore1.9 \"]], \"hovertemplate\": \"Facies=SAPN<br>Texture=rim<br>Ti=%{x}<br>Nb/Ta=%{y}<br>Sample=%{customdata[0]}<br>Comment=%{customdata[1]}<extra></extra>\", \"legendgroup\": \"SAPN, rim\", \"marker\": {\"color\": \"#636efa\", \"size\": 10, \"symbol\": \"diamond\"}, \"mode\": \"markers\", \"name\": \"SAPN, rim\", \"orientation\": \"v\", \"showlegend\": true, \"textposition\": \"top center\", \"type\": \"scatter\", \"x\": [0.246379517268292, 0.2883855209044205, 0.3842910023682814], \"xaxis\": \"x\", \"y\": [2.926768088819189, 3.46544547198509, 4.843392358349799], \"yaxis\": \"y\"}, {\"customdata\": [[\"BU04\", \"BU04-Ore1.5 \"], [\"BU04\", \"BU04-Ore1.6 \"], [\"BU04\", \"BU04-Ore1.7 \"], [\"BU04\", \"BU04-Ore2_coltan2 \"]], \"hovertemplate\": \"Facies=SAPN<br>Texture=core<br>Ti=%{x}<br>Nb/Ta=%{y}<br>Sample=%{customdata[0]}<br>Comment=%{customdata[1]}<extra></extra>\", \"legendgroup\": \"SAPN, core\", \"marker\": {\"color\": \"#636efa\", \"size\": 10, \"symbol\": \"square\"}, \"mode\": \"markers\", \"name\": \"SAPN, core\", \"orientation\": \"v\", \"showlegend\": true, \"textposition\": \"top center\", \"type\": \"scatter\", \"x\": [0.2902946047832139, 0.3624918198389054, 0.3741896937565569, 1.1831320435758703], \"xaxis\": \"x\", \"y\": [5.126834183730507, 5.86967422618312, 5.583711775595585, 2.948012534590635], \"yaxis\": \"y\"}, {\"customdata\": [[\"BU19TS\", \"BU19TS-coltan1.3 \"], [\"BU19TS\", \"BU19TS-coltan2.4 \"], [\"BU19TS\", \"BU19TS-coltan2.5 \"]], \"hovertemplate\": \"Facies=PAPN<br>Texture=patchy<br>Ti=%{x}<br>Nb/Ta=%{y}<br>Sample=%{customdata[0]}<br>Comment=%{customdata[1]}<extra></extra>\", \"legendgroup\": \"PAPN, patchy\", \"marker\": {\"color\": \"#EF553B\", \"size\": 10, \"symbol\": \"circle\"}, \"mode\": \"markers\", \"name\": \"PAPN, patchy\", \"orientation\": \"v\", \"showlegend\": true, \"textposition\": \"top center\", \"type\": \"scatter\", \"x\": [0.3812448930553418, 0.3060730012139109, 0.3033015217894312], \"xaxis\": \"x\", \"y\": [3.2195877446601084, 2.033448255899438, 2.9528915077468056], \"yaxis\": \"y\"}, {\"customdata\": [[\"BU19TS\", \"BU19TS-coltan1.1 \"], [\"BU19TS\", \"BU19TS-coltan1.5 \"], [\"BU19TS\", \"BU19TS-coltan1.6 \"], [\"BU19TS\", \"BU19TS-coltan2.6 \"], [\"BU19TS\", \"BU19TS-coltan3.1 \"]], \"hovertemplate\": \"Facies=PAPN<br>Texture=rim<br>Ti=%{x}<br>Nb/Ta=%{y}<br>Sample=%{customdata[0]}<br>Comment=%{customdata[1]}<extra></extra>\", \"legendgroup\": \"PAPN, rim\", \"marker\": {\"color\": \"#EF553B\", \"size\": 10, \"symbol\": \"diamond\"}, \"mode\": \"markers\", \"name\": \"PAPN, rim\", \"orientation\": \"v\", \"showlegend\": true, \"textposition\": \"top center\", \"type\": \"scatter\", \"x\": [0.4784575926381042, 0.5234875147425581, 0.533983366357058, 0.4199498562698549, 0.3915549180785933], \"xaxis\": \"x\", \"y\": [1.5007337810086514, 1.5454193991746115, 1.6871922971344073, 1.763597514999412, 2.560857856277827], \"yaxis\": \"y\"}, {\"customdata\": [[\"BU19TS\", \"BU19TS-coltan1.2 \"], [\"BU19TS\", \"BU19TS-coltan1.4 \"], [\"BU19TS\", \"BU19TS-coltan1.7 \"], [\"BU19TS\", \"BU19TS-coltan2.2 \"], [\"BU19TS\", \"BU19TS-coltan2.3 \"], [\"BU19TS\", \"BU19TS-coltan3.2 \"], [\"BU19TS\", \"BU19TS-coltan3.3 \"]], \"hovertemplate\": \"Facies=PAPN<br>Texture=core<br>Ti=%{x}<br>Nb/Ta=%{y}<br>Sample=%{customdata[0]}<br>Comment=%{customdata[1]}<extra></extra>\", \"legendgroup\": \"PAPN, core\", \"marker\": {\"color\": \"#EF553B\", \"size\": 10, \"symbol\": \"square\"}, \"mode\": \"markers\", \"name\": \"PAPN, core\", \"orientation\": \"v\", \"showlegend\": true, \"textposition\": \"top center\", \"type\": \"scatter\", \"x\": [0.378292739745744, 0.4306932406157909, 0.5641417269817883, 0.3232726211556022, 0.3197243750073593, 0.649319787161882, 0.4648422360895017], \"xaxis\": \"x\", \"y\": [2.0290245279402974, 1.8406797422216925, 1.5538101920556937, 2.0117802328456866, 2.366036316057487, 1.426282166466414, 1.377540871141791], \"yaxis\": \"y\"}, {\"customdata\": [[\"BU24\", \"BU24-coltan1.1 \"], [\"BU24\", \"BU24-coltan2.1 \"], [\"BU24\", \"BU24-coltan3.2 \"], [\"BU24\", \"BU24-coltan3.3 \"], [\"BU24\", \"BU24-coltan3.6 \"], [\"BU24\", \"BU24-Ore4.1\"], [\"BU24\", \"BU24-Ore4.4\"], [\"BU24\", \"BU24-Ore4.6\"]], \"hovertemplate\": \"Facies=Albitized<br>Texture=rim<br>Ti=%{x}<br>Nb/Ta=%{y}<br>Sample=%{customdata[0]}<br>Comment=%{customdata[1]}<extra></extra>\", \"legendgroup\": \"Albitized, rim\", \"marker\": {\"color\": \"#00cc96\", \"size\": 10, \"symbol\": \"diamond\"}, \"mode\": \"markers\", \"name\": \"Albitized, rim\", \"orientation\": \"v\", \"showlegend\": true, \"textposition\": \"top center\", \"type\": \"scatter\", \"x\": [0.0893836838742745, 0.1521710209261403, 0.0980417216908713, 0.2065282226678478, 0.1124606444815941, 0.0659466848552347, 0.0508246201689186, 0.0562901056647276], \"xaxis\": \"x\", \"y\": [10.17154273529741, 6.808313407870618, 1.2139439316673017, 2.569323512852684, 2.386032344294574, 4.502818307621808, 5.663533132996791, 5.89100340370933], \"yaxis\": \"y\"}, {\"customdata\": [[\"BU24\", \"BU24-coltan1.2 \"], [\"BU24\", \"BU24-coltan2.2 \"], [\"BU24\", \"BU24-coltan2.3 \"], [\"BU24\", \"BU24-coltan3.1 \"], [\"BU24\", \"BU24-coltan3.4 \"], [\"BU24\", \"BU24-coltan3.5 \"], [\"BU24\", \"BU24-Ore4.2\"], [\"BU24\", \"BU24-Ore4.3\"], [\"BU24\", \"BU24-Ore4.5\"], [\"BU24\", \"BU24-Ore4.7\"]], \"hovertemplate\": \"Facies=Albitized<br>Texture=core<br>Ti=%{x}<br>Nb/Ta=%{y}<br>Sample=%{customdata[0]}<br>Comment=%{customdata[1]}<extra></extra>\", \"legendgroup\": \"Albitized, core\", \"marker\": {\"color\": \"#00cc96\", \"size\": 10, \"symbol\": \"square\"}, \"mode\": \"markers\", \"name\": \"Albitized, core\", \"orientation\": \"v\", \"showlegend\": true, \"textposition\": \"top center\", \"type\": \"scatter\", \"x\": [0.0839890730655012, 0.1522547036538767, 0.1449757480456139, 0.1004136809124267, 0.0881999311366197, 0.089449708645341, 0.1522809044088685, 0.0971469388738648, 0.1461448727589363, 0.1596044628412277], \"xaxis\": \"x\", \"y\": [9.257695181535574, 7.245073449975878, 6.177118344274364, 7.392847498193192, 6.712068994559227, 6.617891142317543, 8.753695585670963, 13.100512612038644, 9.758901072389756, 8.887249483846983], \"yaxis\": \"y\"}],                        {\"font\": {\"color\": \"black\", \"family\": \"Arial\", \"size\": 16}, \"height\": 600, \"legend\": {\"title\": {\"text\": \"Facies, Texture\"}, \"tracegroupgap\": 0}, \"margin\": {\"t\": 60}, \"plot_bgcolor\": \"white\", \"template\": {\"data\": {\"bar\": [{\"error_x\": {\"color\": \"#2a3f5f\"}, \"error_y\": {\"color\": \"#2a3f5f\"}, \"marker\": {\"line\": {\"color\": \"#E5ECF6\", \"width\": 0.5}}, \"type\": \"bar\"}], \"barpolar\": [{\"marker\": {\"line\": {\"color\": \"#E5ECF6\", \"width\": 0.5}}, \"type\": \"barpolar\"}], \"carpet\": [{\"aaxis\": {\"endlinecolor\": \"#2a3f5f\", \"gridcolor\": \"white\", \"linecolor\": \"white\", \"minorgridcolor\": \"white\", \"startlinecolor\": \"#2a3f5f\"}, \"baxis\": {\"endlinecolor\": \"#2a3f5f\", \"gridcolor\": \"white\", \"linecolor\": \"white\", \"minorgridcolor\": \"white\", \"startlinecolor\": \"#2a3f5f\"}, \"type\": \"carpet\"}], \"choropleth\": [{\"colorbar\": {\"outlinewidth\": 0, \"ticks\": \"\"}, \"type\": \"choropleth\"}], \"contour\": [{\"colorbar\": {\"outlinewidth\": 0, \"ticks\": \"\"}, \"colorscale\": [[0.0, \"#0d0887\"], [0.1111111111111111, \"#46039f\"], [0.2222222222222222, \"#7201a8\"], [0.3333333333333333, \"#9c179e\"], [0.4444444444444444, \"#bd3786\"], [0.5555555555555556, \"#d8576b\"], [0.6666666666666666, \"#ed7953\"], [0.7777777777777778, \"#fb9f3a\"], [0.8888888888888888, \"#fdca26\"], [1.0, \"#f0f921\"]], \"type\": \"contour\"}], \"contourcarpet\": [{\"colorbar\": {\"outlinewidth\": 0, \"ticks\": \"\"}, \"type\": \"contourcarpet\"}], \"heatmap\": [{\"colorbar\": {\"outlinewidth\": 0, \"ticks\": \"\"}, \"colorscale\": [[0.0, \"#0d0887\"], [0.1111111111111111, \"#46039f\"], [0.2222222222222222, \"#7201a8\"], [0.3333333333333333, \"#9c179e\"], [0.4444444444444444, \"#bd3786\"], [0.5555555555555556, \"#d8576b\"], [0.6666666666666666, \"#ed7953\"], [0.7777777777777778, \"#fb9f3a\"], [0.8888888888888888, \"#fdca26\"], [1.0, \"#f0f921\"]], \"type\": \"heatmap\"}], \"heatmapgl\": [{\"colorbar\": {\"outlinewidth\": 0, \"ticks\": \"\"}, \"colorscale\": [[0.0, \"#0d0887\"], [0.1111111111111111, \"#46039f\"], [0.2222222222222222, \"#7201a8\"], [0.3333333333333333, \"#9c179e\"], [0.4444444444444444, \"#bd3786\"], [0.5555555555555556, \"#d8576b\"], [0.6666666666666666, \"#ed7953\"], [0.7777777777777778, \"#fb9f3a\"], [0.8888888888888888, \"#fdca26\"], [1.0, \"#f0f921\"]], \"type\": \"heatmapgl\"}], \"histogram\": [{\"marker\": {\"colorbar\": {\"outlinewidth\": 0, \"ticks\": \"\"}}, \"type\": \"histogram\"}], \"histogram2d\": [{\"colorbar\": {\"outlinewidth\": 0, \"ticks\": \"\"}, \"colorscale\": [[0.0, \"#0d0887\"], [0.1111111111111111, \"#46039f\"], [0.2222222222222222, \"#7201a8\"], [0.3333333333333333, \"#9c179e\"], [0.4444444444444444, \"#bd3786\"], [0.5555555555555556, \"#d8576b\"], [0.6666666666666666, \"#ed7953\"], [0.7777777777777778, \"#fb9f3a\"], [0.8888888888888888, \"#fdca26\"], [1.0, \"#f0f921\"]], \"type\": \"histogram2d\"}], \"histogram2dcontour\": [{\"colorbar\": {\"outlinewidth\": 0, \"ticks\": \"\"}, \"colorscale\": [[0.0, \"#0d0887\"], [0.1111111111111111, \"#46039f\"], [0.2222222222222222, \"#7201a8\"], [0.3333333333333333, \"#9c179e\"], [0.4444444444444444, \"#bd3786\"], [0.5555555555555556, \"#d8576b\"], [0.6666666666666666, \"#ed7953\"], [0.7777777777777778, \"#fb9f3a\"], [0.8888888888888888, \"#fdca26\"], [1.0, \"#f0f921\"]], \"type\": \"histogram2dcontour\"}], \"mesh3d\": [{\"colorbar\": {\"outlinewidth\": 0, \"ticks\": \"\"}, \"type\": \"mesh3d\"}], \"parcoords\": [{\"line\": {\"colorbar\": {\"outlinewidth\": 0, \"ticks\": \"\"}}, \"type\": \"parcoords\"}], \"pie\": [{\"automargin\": true, \"type\": \"pie\"}], \"scatter\": [{\"marker\": {\"colorbar\": {\"outlinewidth\": 0, \"ticks\": \"\"}}, \"type\": \"scatter\"}], \"scatter3d\": [{\"line\": {\"colorbar\": {\"outlinewidth\": 0, \"ticks\": \"\"}}, \"marker\": {\"colorbar\": {\"outlinewidth\": 0, \"ticks\": \"\"}}, \"type\": \"scatter3d\"}], \"scattercarpet\": [{\"marker\": {\"colorbar\": {\"outlinewidth\": 0, \"ticks\": \"\"}}, \"type\": \"scattercarpet\"}], \"scattergeo\": [{\"marker\": {\"colorbar\": {\"outlinewidth\": 0, \"ticks\": \"\"}}, \"type\": \"scattergeo\"}], \"scattergl\": [{\"marker\": {\"colorbar\": {\"outlinewidth\": 0, \"ticks\": \"\"}}, \"type\": \"scattergl\"}], \"scattermapbox\": [{\"marker\": {\"colorbar\": {\"outlinewidth\": 0, \"ticks\": \"\"}}, \"type\": \"scattermapbox\"}], \"scatterpolar\": [{\"marker\": {\"colorbar\": {\"outlinewidth\": 0, \"ticks\": \"\"}}, \"type\": \"scatterpolar\"}], \"scatterpolargl\": [{\"marker\": {\"colorbar\": {\"outlinewidth\": 0, \"ticks\": \"\"}}, \"type\": \"scatterpolargl\"}], \"scatterternary\": [{\"marker\": {\"colorbar\": {\"outlinewidth\": 0, \"ticks\": \"\"}}, \"type\": \"scatterternary\"}], \"surface\": [{\"colorbar\": {\"outlinewidth\": 0, \"ticks\": \"\"}, \"colorscale\": [[0.0, \"#0d0887\"], [0.1111111111111111, \"#46039f\"], [0.2222222222222222, \"#7201a8\"], [0.3333333333333333, \"#9c179e\"], [0.4444444444444444, \"#bd3786\"], [0.5555555555555556, \"#d8576b\"], [0.6666666666666666, \"#ed7953\"], [0.7777777777777778, \"#fb9f3a\"], [0.8888888888888888, \"#fdca26\"], [1.0, \"#f0f921\"]], \"type\": \"surface\"}], \"table\": [{\"cells\": {\"fill\": {\"color\": \"#EBF0F8\"}, \"line\": {\"color\": \"white\"}}, \"header\": {\"fill\": {\"color\": \"#C8D4E3\"}, \"line\": {\"color\": \"white\"}}, \"type\": \"table\"}]}, \"layout\": {\"annotationdefaults\": {\"arrowcolor\": \"#2a3f5f\", \"arrowhead\": 0, \"arrowwidth\": 1}, \"autotypenumbers\": \"strict\", \"coloraxis\": {\"colorbar\": {\"outlinewidth\": 0, \"ticks\": \"\"}}, \"colorscale\": {\"diverging\": [[0, \"#8e0152\"], [0.1, \"#c51b7d\"], [0.2, \"#de77ae\"], [0.3, \"#f1b6da\"], [0.4, \"#fde0ef\"], [0.5, \"#f7f7f7\"], [0.6, \"#e6f5d0\"], [0.7, \"#b8e186\"], [0.8, \"#7fbc41\"], [0.9, \"#4d9221\"], [1, \"#276419\"]], \"sequential\": [[0.0, \"#0d0887\"], [0.1111111111111111, \"#46039f\"], [0.2222222222222222, \"#7201a8\"], [0.3333333333333333, \"#9c179e\"], [0.4444444444444444, \"#bd3786\"], [0.5555555555555556, \"#d8576b\"], [0.6666666666666666, \"#ed7953\"], [0.7777777777777778, \"#fb9f3a\"], [0.8888888888888888, \"#fdca26\"], [1.0, \"#f0f921\"]], \"sequentialminus\": [[0.0, \"#0d0887\"], [0.1111111111111111, \"#46039f\"], [0.2222222222222222, \"#7201a8\"], [0.3333333333333333, \"#9c179e\"], [0.4444444444444444, \"#bd3786\"], [0.5555555555555556, \"#d8576b\"], [0.6666666666666666, \"#ed7953\"], [0.7777777777777778, \"#fb9f3a\"], [0.8888888888888888, \"#fdca26\"], [1.0, \"#f0f921\"]]}, \"colorway\": [\"#636efa\", \"#EF553B\", \"#00cc96\", \"#ab63fa\", \"#FFA15A\", \"#19d3f3\", \"#FF6692\", \"#B6E880\", \"#FF97FF\", \"#FECB52\"], \"font\": {\"color\": \"#2a3f5f\"}, \"geo\": {\"bgcolor\": \"white\", \"lakecolor\": \"white\", \"landcolor\": \"#E5ECF6\", \"showlakes\": true, \"showland\": true, \"subunitcolor\": \"white\"}, \"hoverlabel\": {\"align\": \"left\"}, \"hovermode\": \"closest\", \"mapbox\": {\"style\": \"light\"}, \"paper_bgcolor\": \"white\", \"plot_bgcolor\": \"#E5ECF6\", \"polar\": {\"angularaxis\": {\"gridcolor\": \"white\", \"linecolor\": \"white\", \"ticks\": \"\"}, \"bgcolor\": \"#E5ECF6\", \"radialaxis\": {\"gridcolor\": \"white\", \"linecolor\": \"white\", \"ticks\": \"\"}}, \"scene\": {\"xaxis\": {\"backgroundcolor\": \"#E5ECF6\", \"gridcolor\": \"white\", \"gridwidth\": 2, \"linecolor\": \"white\", \"showbackground\": true, \"ticks\": \"\", \"zerolinecolor\": \"white\"}, \"yaxis\": {\"backgroundcolor\": \"#E5ECF6\", \"gridcolor\": \"white\", \"gridwidth\": 2, \"linecolor\": \"white\", \"showbackground\": true, \"ticks\": \"\", \"zerolinecolor\": \"white\"}, \"zaxis\": {\"backgroundcolor\": \"#E5ECF6\", \"gridcolor\": \"white\", \"gridwidth\": 2, \"linecolor\": \"white\", \"showbackground\": true, \"ticks\": \"\", \"zerolinecolor\": \"white\"}}, \"shapedefaults\": {\"line\": {\"color\": \"#2a3f5f\"}}, \"ternary\": {\"aaxis\": {\"gridcolor\": \"white\", \"linecolor\": \"white\", \"ticks\": \"\"}, \"baxis\": {\"gridcolor\": \"white\", \"linecolor\": \"white\", \"ticks\": \"\"}, \"bgcolor\": \"#E5ECF6\", \"caxis\": {\"gridcolor\": \"white\", \"linecolor\": \"white\", \"ticks\": \"\"}}, \"title\": {\"x\": 0.05}, \"xaxis\": {\"automargin\": true, \"gridcolor\": \"white\", \"linecolor\": \"white\", \"ticks\": \"\", \"title\": {\"standoff\": 15}, \"zerolinecolor\": \"white\", \"zerolinewidth\": 2}, \"yaxis\": {\"automargin\": true, \"gridcolor\": \"white\", \"linecolor\": \"white\", \"ticks\": \"\", \"title\": {\"standoff\": 15}, \"zerolinecolor\": \"white\", \"zerolinewidth\": 2}}}, \"width\": 800, \"xaxis\": {\"anchor\": \"y\", \"domain\": [0.0, 1.0], \"linecolor\": \"black\", \"mirror\": \"allticks\", \"showgrid\": false, \"ticks\": \"inside\", \"title\": {\"text\": \"Ti\"}, \"zeroline\": true}, \"yaxis\": {\"anchor\": \"x\", \"domain\": [0.0, 1.0], \"linecolor\": \"black\", \"mirror\": \"allticks\", \"showgrid\": false, \"ticks\": \"inside\", \"title\": {\"text\": \"Nb/Ta\"}, \"zeroline\": true}},                        {\"responsive\": true}                    ).then(function(){\n",
       "                            \n",
       "var gd = document.getElementById('6a5c1a9b-1474-4ff3-888e-6dc8b38e3d58');\n",
       "var x = new MutationObserver(function (mutations, observer) {{\n",
       "        var display = window.getComputedStyle(gd).display;\n",
       "        if (!display || display === 'none') {{\n",
       "            console.log([gd, 'removed!']);\n",
       "            Plotly.purge(gd);\n",
       "            observer.disconnect();\n",
       "        }}\n",
       "}});\n",
       "\n",
       "// Listen for the removal of the full notebook cells\n",
       "var notebookContainer = gd.closest('#notebook-container');\n",
       "if (notebookContainer) {{\n",
       "    x.observe(notebookContainer, {childList: true});\n",
       "}}\n",
       "\n",
       "// Listen for the clearing of the current output cell\n",
       "var outputEl = gd.closest('.output');\n",
       "if (outputEl) {{\n",
       "    x.observe(outputEl, {childList: true});\n",
       "}}\n",
       "\n",
       "                        })                };                });            </script>        </div>"
      ]
     },
     "metadata": {},
     "output_type": "display_data"
    }
   ],
   "source": [
    "# --- plot binary scatter graphs\n",
    "\n",
    "fig = px.scatter(df_CGM, x=\"Ti\", y=\"Nb/Ta\", color=\"Facies\", symbol=\"Texture\", hover_data=[\"Sample\",\"Comment\"],\n",
    "                width=800, height=600)\n",
    "#                  size=\"Ti\",text=df_analysis[\"Comment\"].str.slice(start=-4))\n",
    "\n",
    "\n",
    "fig.update_layout(plot_bgcolor=\"white\")\n",
    "fig.update_traces(textposition='top center')\n",
    "\n",
    "fig.update_traces(marker=dict(size=10))\n",
    "\n",
    "fig.update_layout(font=dict(family=\"Arial\",size=16,color=\"black\")) \n",
    "\n",
    "fig.update_xaxes(ticks='inside',zeroline=True,linecolor=\"black\",showgrid=False,mirror=\"allticks\")#, range=(0.1,1.3))\n",
    "fig.update_yaxes(ticks='inside',zeroline=True,linecolor=\"black\",showgrid=False,mirror=\"allticks\")#, range=(0,9))\n",
    "\n",
    "\n",
    "# fig.write_image(\"Ore_Rutile_NbTar-Fe.pdf\")\n",
    "fig.show()"
   ]
  },
  {
   "cell_type": "code",
   "execution_count": 12,
   "metadata": {},
   "outputs": [
    {
     "data": {
      "image/png": "[encoded data removed]",
      "text/plain": [
       "<Figure size 576x540 with 2 Axes>"
      ]
     },
     "metadata": {
      "needs_background": "light"
     },
     "output_type": "display_data"
    }
   ],
   "source": [
    "# --- plot binary line graphs\n",
    "\n",
    "fig, ax = plt.subplots(figsize=(8,7.5))\n",
    "\n",
    "    # - plot the raw spectrum line (measured data) and the modelled spectrum (after peak fitting)\n",
    "\n",
    "s=10\n",
    "\n",
    "plt.plot(df_CGM_zoned[\"Comment\"],df_CGM_zoned[\"Mn\"],'-o', label='Mn', ms=s)\n",
    "plt.plot(df_CGM_zoned[\"Comment\"],df_CGM_zoned[\"Ta\"],'-o', label='Ta', ms=s)\n",
    "plt.plot(df_CGM_zoned[\"Comment\"],df_CGM_zoned[\"Fe\"],'-o', label='Fe', ms=s)\n",
    "plt.plot(df_CGM_zoned[\"Comment\"],df_CGM_zoned[\"Nb\"],'-o', label='Nb', ms=s)\n",
    "plt.plot(df_CGM_zoned[\"Comment\"],df_CGM_zoned[\"Ti\"],'-o', label='Ti', ms=s)\n",
    "\n",
    "plt.legend(loc='best', fontsize=14, ncol=9, handletextpad=0.1, columnspacing = 0.5)  \n",
    "\n",
    "\n",
    "ax2 = ax.twinx()\n",
    "ax2.plot(df_CGM_zoned[\"Comment\"],df_CGM_zoned[\"Mn#\"],'--s', label='Mn#',linewidth=3, ms=s)\n",
    "ax2.plot(df_CGM_zoned[\"Comment\"],df_CGM_zoned[\"Ta#\"],'--s', label='Ta#',linewidth=3, ms=s)\n",
    "\n",
    "\n",
    "plt.legend(loc='upper right', fontsize=14, ncol=9, handletextpad=0.1, columnspacing = 0.5) \n",
    "\n",
    "\n",
    "    # --- adjust plot parameters\n",
    "    \n",
    "plt.xlabel(\"Analysis\",fontsize=20)\n",
    "ax.set_xlim([-0.5,5.5])\n",
    "\n",
    "ax.set_ylabel(\"apfu\",fontsize=20)\n",
    "ax.set_ylim([0,8])\n",
    "\n",
    "ax2.set_ylabel(\"ratios\",fontsize=20)\n",
    "ax2.set_ylim([0,1])\n",
    "\n",
    "ax.yaxis.set_minor_locator(MultipleLocator(0.5))\n",
    "ax2.yaxis.set_minor_locator(MultipleLocator(0.1))\n",
    "\n",
    "ax.set_xticklabels(['1', '2','3', '4', '5', '6'])\n",
    "\n",
    "ax.tick_params(axis='both', which='major',labelsize=20,direction='in',width=1.5,length=8, top=True)\n",
    "ax.tick_params(axis='both', which='minor',direction='in',width=1,length=4)\n",
    "\n",
    "ax2.tick_params(axis='both', which='major',labelsize=20,direction='in',width=1.5,length=8,right=True)\n",
    "ax2.tick_params(axis='both', which='minor',direction='in',width=1,length=4,right=True)\n",
    "\n",
    "\n",
    "#plt.title(df_spectrum_peaks.iloc[0][\"file\"],horizontalalignment='center',fontsize=22)\n",
    "\n",
    "\n",
    "ax.invert_xaxis()\n",
    "\n",
    "        \n",
    "# plt.savefig('coltan-BU04-Ore1.pdf')\n",
    "plt.show()"
   ]
  },
  {
   "cell_type": "code",
   "execution_count": 13,
   "metadata": {},
   "outputs": [],
   "source": [
    "# --- normalization function - written by Bram Paredis\n",
    "\n",
    "def normalize(data, total=None):\n",
    "    \"\"\"Normalize data to 100%\"\"\"\n",
    "    if total is None:\n",
    "        total = data.sum(axis=1)\n",
    "    return data.divide(total, axis=0) * 100"
   ]
  },
  {
   "cell_type": "code",
   "execution_count": 15,
   "metadata": {},
   "outputs": [
    {
     "data": {
      "text/html": [
       "<div>\n",
       "<style scoped>\n",
       "    .dataframe tbody tr th:only-of-type {\n",
       "        vertical-align: middle;\n",
       "    }\n",
       "\n",
       "    .dataframe tbody tr th {\n",
       "        vertical-align: top;\n",
       "    }\n",
       "\n",
       "    .dataframe thead th {\n",
       "        text-align: right;\n",
       "    }\n",
       "</style>\n",
       "<table border=\"1\" class=\"dataframe\">\n",
       "  <thead>\n",
       "    <tr style=\"text-align: right;\">\n",
       "      <th></th>\n",
       "      <th>NbTa</th>\n",
       "      <th>TiSn</th>\n",
       "      <th>FeMn</th>\n",
       "      <th>Facies</th>\n",
       "      <th>Sample</th>\n",
       "      <th>Comment</th>\n",
       "      <th>Area</th>\n",
       "      <th>Mineral</th>\n",
       "      <th>Texture</th>\n",
       "    </tr>\n",
       "  </thead>\n",
       "  <tbody>\n",
       "    <tr>\n",
       "      <th>0</th>\n",
       "      <td>15.485012</td>\n",
       "      <td>74.341703</td>\n",
       "      <td>10.173285</td>\n",
       "      <td>SAPN</td>\n",
       "      <td>BU04</td>\n",
       "      <td>BU04-Rut2.2</td>\n",
       "      <td>Ore2</td>\n",
       "      <td>Rutile</td>\n",
       "      <td>rim</td>\n",
       "    </tr>\n",
       "    <tr>\n",
       "      <th>1</th>\n",
       "      <td>13.278524</td>\n",
       "      <td>78.374263</td>\n",
       "      <td>8.347213</td>\n",
       "      <td>SAPN</td>\n",
       "      <td>BU04</td>\n",
       "      <td>BU04-Rut2.3</td>\n",
       "      <td>Ore2</td>\n",
       "      <td>Rutile</td>\n",
       "      <td>core</td>\n",
       "    </tr>\n",
       "    <tr>\n",
       "      <th>2</th>\n",
       "      <td>28.820243</td>\n",
       "      <td>55.661564</td>\n",
       "      <td>15.518193</td>\n",
       "      <td>SAPN</td>\n",
       "      <td>BU04</td>\n",
       "      <td>BU04-Ore2_coltan1</td>\n",
       "      <td>Ore2</td>\n",
       "      <td>0.0</td>\n",
       "      <td>rim</td>\n",
       "    </tr>\n",
       "    <tr>\n",
       "      <th>3</th>\n",
       "      <td>6.746373</td>\n",
       "      <td>88.371670</td>\n",
       "      <td>4.881958</td>\n",
       "      <td>PAPN</td>\n",
       "      <td>BU19TS(1)</td>\n",
       "      <td>BU19TS(1)-rutile1.3</td>\n",
       "      <td>Ore1</td>\n",
       "      <td>Rutile</td>\n",
       "      <td>core</td>\n",
       "    </tr>\n",
       "    <tr>\n",
       "      <th>4</th>\n",
       "      <td>6.297844</td>\n",
       "      <td>88.849586</td>\n",
       "      <td>4.852571</td>\n",
       "      <td>PAPN</td>\n",
       "      <td>BU19TS(1)</td>\n",
       "      <td>BU19TS(1)-rutile1.4</td>\n",
       "      <td>Ore1</td>\n",
       "      <td>Rutile</td>\n",
       "      <td>core</td>\n",
       "    </tr>\n",
       "    <tr>\n",
       "      <th>...</th>\n",
       "      <td>...</td>\n",
       "      <td>...</td>\n",
       "      <td>...</td>\n",
       "      <td>...</td>\n",
       "      <td>...</td>\n",
       "      <td>...</td>\n",
       "      <td>...</td>\n",
       "      <td>...</td>\n",
       "      <td>...</td>\n",
       "    </tr>\n",
       "    <tr>\n",
       "      <th>87</th>\n",
       "      <td>68.267545</td>\n",
       "      <td>0.893222</td>\n",
       "      <td>30.839233</td>\n",
       "      <td>Albitized</td>\n",
       "      <td>BU24</td>\n",
       "      <td>BU24-Ore4.3</td>\n",
       "      <td>Ore4</td>\n",
       "      <td>CGM</td>\n",
       "      <td>core</td>\n",
       "    </tr>\n",
       "    <tr>\n",
       "      <th>88</th>\n",
       "      <td>68.958706</td>\n",
       "      <td>0.456646</td>\n",
       "      <td>30.584648</td>\n",
       "      <td>Albitized</td>\n",
       "      <td>BU24</td>\n",
       "      <td>BU24-Ore4.4</td>\n",
       "      <td>Ore4</td>\n",
       "      <td>CGM</td>\n",
       "      <td>rim</td>\n",
       "    </tr>\n",
       "    <tr>\n",
       "      <th>89</th>\n",
       "      <td>67.918439</td>\n",
       "      <td>1.387856</td>\n",
       "      <td>30.693705</td>\n",
       "      <td>Albitized</td>\n",
       "      <td>BU24</td>\n",
       "      <td>BU24-Ore4.5</td>\n",
       "      <td>Ore4</td>\n",
       "      <td>CGM</td>\n",
       "      <td>core</td>\n",
       "    </tr>\n",
       "    <tr>\n",
       "      <th>90</th>\n",
       "      <td>68.868604</td>\n",
       "      <td>0.515774</td>\n",
       "      <td>30.615621</td>\n",
       "      <td>Albitized</td>\n",
       "      <td>BU24</td>\n",
       "      <td>BU24-Ore4.6</td>\n",
       "      <td>Ore4</td>\n",
       "      <td>CGM</td>\n",
       "      <td>rim</td>\n",
       "    </tr>\n",
       "    <tr>\n",
       "      <th>91</th>\n",
       "      <td>67.484782</td>\n",
       "      <td>1.496131</td>\n",
       "      <td>31.019087</td>\n",
       "      <td>Albitized</td>\n",
       "      <td>BU24</td>\n",
       "      <td>BU24-Ore4.7</td>\n",
       "      <td>Ore4</td>\n",
       "      <td>CGM</td>\n",
       "      <td>core</td>\n",
       "    </tr>\n",
       "  </tbody>\n",
       "</table>\n",
       "<p>92 rows × 9 columns</p>\n",
       "</div>"
      ],
      "text/plain": [
       "         NbTa       TiSn       FeMn     Facies     Sample  \\\n",
       "0   15.485012  74.341703  10.173285       SAPN       BU04   \n",
       "1   13.278524  78.374263   8.347213       SAPN       BU04   \n",
       "2   28.820243  55.661564  15.518193       SAPN       BU04   \n",
       "3    6.746373  88.371670   4.881958       PAPN  BU19TS(1)   \n",
       "4    6.297844  88.849586   4.852571       PAPN  BU19TS(1)   \n",
       "..        ...        ...        ...        ...        ...   \n",
       "87  68.267545   0.893222  30.839233  Albitized       BU24   \n",
       "88  68.958706   0.456646  30.584648  Albitized       BU24   \n",
       "89  67.918439   1.387856  30.693705  Albitized       BU24   \n",
       "90  68.868604   0.515774  30.615621  Albitized       BU24   \n",
       "91  67.484782   1.496131  31.019087  Albitized       BU24   \n",
       "\n",
       "                Comment  Area Mineral Texture  \n",
       "0           BU04-Rut2.2  Ore2  Rutile     rim  \n",
       "1           BU04-Rut2.3  Ore2  Rutile    core  \n",
       "2    BU04-Ore2_coltan1   Ore2     0.0     rim  \n",
       "3   BU19TS(1)-rutile1.3  Ore1  Rutile    core  \n",
       "4   BU19TS(1)-rutile1.4  Ore1  Rutile    core  \n",
       "..                  ...   ...     ...     ...  \n",
       "87          BU24-Ore4.3  Ore4     CGM    core  \n",
       "88          BU24-Ore4.4  Ore4     CGM     rim  \n",
       "89          BU24-Ore4.5  Ore4     CGM    core  \n",
       "90          BU24-Ore4.6  Ore4     CGM     rim  \n",
       "91          BU24-Ore4.7  Ore4     CGM    core  \n",
       "\n",
       "[92 rows x 9 columns]"
      ]
     },
     "execution_count": 15,
     "metadata": {},
     "output_type": "execute_result"
    }
   ],
   "source": [
    "# --- define subset within dataset for ternary normalization\n",
    "A = \"NbTa\"\n",
    "B = \"TiSn\"\n",
    "C = \"FeMn\"\n",
    "\n",
    "df_subset = df_analysis.loc[:, [A, B, C]]\n",
    "\n",
    "\n",
    "# --- normalize subset using function defined above\n",
    "\n",
    "df_subset_normalized = normalize(df_subset)\n",
    "\n",
    "\n",
    "# --- combine calculated data with metadata\n",
    "\n",
    "df_subset_normalized['Facies'] = df_analysis['Facies']\n",
    "df_subset_normalized['Sample'] = df_analysis['Sample']\n",
    "df_subset_normalized['Comment'] = df_analysis['Comment']\n",
    "df_subset_normalized['Area'] = df_analysis['Area']\n",
    "df_subset_normalized['Mineral'] = df_analysis['Mineral']\n",
    "df_subset_normalized['Texture'] = df_analysis['Texture']\n",
    "\n",
    "df_subset_normalized"
   ]
  },
  {
   "cell_type": "code",
   "execution_count": 16,
   "metadata": {},
   "outputs": [
    {
     "data": {
      "application/vnd.plotly.v1+json": {
       "config": {
        "plotlyServerURL": "https://plot.ly"
       },
       "data": [
        {
         "a": [
          15.48501194666671,
          28.82024265906758,
          67.48647236391861,
          67.23897204102862,
          66.02532073398059
         ],
         "b": [
          74.3417032046194,
          55.66156428535529,
          2.5550295254528184,
          2.9031320821453757,
          3.930763547612279
         ],
         "c": [
          10.173284848713902,
          15.518193055577115,
          29.958498110628582,
          29.857895876826014,
          30.043915718407128
         ],
         "customdata": [
          [
           "BU04-Rut2.2"
          ],
          [
           "BU04-Ore2_coltan1 "
          ],
          [
           "BU04-Ore1.3 "
          ],
          [
           "BU04-Ore1.4 "
          ],
          [
           "BU04-Ore1.9 "
          ]
         ],
         "hovertemplate": "Facies=SAPN<br>Texture=rim<br>NbTa=%{a}<br>TiSn=%{b}<br>FeMn=%{c}<br>Comment=%{customdata[0]}<extra></extra>",
         "legendgroup": "SAPN, rim",
         "marker": {
          "color": "#636efa",
          "size": 10,
          "symbol": "circle"
         },
         "mode": "markers",
         "name": "SAPN, rim",
         "showlegend": true,
         "subplot": "ternary",
         "type": "scatterternary"
        },
        {
         "a": [
          13.27852400572336,
          66.97501060349857,
          65.81355056242866,
          66.24179024109455,
          61.19718463784092
         ],
         "b": [
          78.3742630243518,
          2.874658924017065,
          3.4789292302173402,
          3.61286567282963,
          10.776130407775513
         ],
         "c": [
          8.347212969924822,
          30.150330472484377,
          30.707520207354,
          30.145344086075827,
          28.02668495438357
         ],
         "customdata": [
          [
           "BU04-Rut2.3"
          ],
          [
           "BU04-Ore1.5 "
          ],
          [
           "BU04-Ore1.6 "
          ],
          [
           "BU04-Ore1.7 "
          ],
          [
           "BU04-Ore2_coltan2 "
          ]
         ],
         "hovertemplate": "Facies=SAPN<br>Texture=core<br>NbTa=%{a}<br>TiSn=%{b}<br>FeMn=%{c}<br>Comment=%{customdata[0]}<extra></extra>",
         "legendgroup": "SAPN, core",
         "marker": {
          "color": "#636efa",
          "size": 10,
          "symbol": "diamond"
         },
         "mode": "markers",
         "name": "SAPN, core",
         "showlegend": true,
         "subplot": "ternary",
         "type": "scatterternary"
        },
        {
         "a": [
          68.03632031083622,
          67.46718672848081,
          68.23438545425404
         ],
         "b": [
          1.391117416714895,
          2.2915491829093764,
          1.29391975582382
         ],
         "c": [
          30.572562272448877,
          30.24126408860982,
          30.47169478992215
         ],
         "customdata": [
          [
           "BU04-Ore1.2 "
          ],
          [
           "BU04-Ore1.8 "
          ],
          [
           "BU04-Ore1.10 "
          ]
         ],
         "hovertemplate": "Facies=SAPN<br>Texture=patchy<br>NbTa=%{a}<br>TiSn=%{b}<br>FeMn=%{c}<br>Comment=%{customdata[0]}<extra></extra>",
         "legendgroup": "SAPN, patchy",
         "marker": {
          "color": "#636efa",
          "size": 10,
          "symbol": "square"
         },
         "mode": "markers",
         "name": "SAPN, patchy",
         "showlegend": true,
         "subplot": "ternary",
         "type": "scatterternary"
        },
        {
         "a": [
          3.0683110106542424,
          10.910039758186105,
          9.590143477312733,
          14.765489662354629,
          10.35839938367452,
          11.045640850839575,
          9.750907093444813,
          7.005727324150729,
          8.662988959314887,
          8.426764912420918,
          10.515240960296003,
          9.28008237495644,
          5.817183464664135,
          8.79820896672955,
          65.51411904948931,
          65.15196203741804,
          64.93043753781986,
          65.7033846719184,
          65.94722329257571
         ],
         "b": [
          93.9482482947499,
          81.14986695559732,
          84.05098713468085,
          75.56407641708307,
          81.56021722894427,
          82.7667007442088,
          84.80555918124868,
          87.82497523216176,
          85.51614669065349,
          85.64600958762203,
          81.8500067920797,
          83.62385575702635,
          89.9045719937578,
          85.35253292835834,
          4.887561703633801,
          5.262087874549505,
          5.593104660334339,
          4.124216341081518,
          3.714693572377977
         ],
         "c": [
          2.9834406945958447,
          7.940093286216573,
          6.35886938800641,
          9.670433920562296,
          8.081383387381216,
          6.187658404951609,
          5.443533725306507,
          5.169297443687519,
          5.820864350031628,
          5.927225499957042,
          7.634752247624296,
          7.096061868017195,
          4.2782445415780606,
          5.849258104912106,
          29.598319246876887,
          29.585950088032448,
          29.476457801845807,
          30.172398987000093,
          30.33808313504631
         ],
         "customdata": [
          [
           "BU19TS(1)-Rut2.2"
          ],
          [
           "BU19TS(2)-ore1.3"
          ],
          [
           "BU19TS(2)-ore1.5"
          ],
          [
           "BU19TS(2)-ore2.1"
          ],
          [
           "BU19TS(2)-ore2.5"
          ],
          [
           "BU19TS(2)-ore3a.3"
          ],
          [
           "BU19TS(2)-ore3b.2"
          ],
          [
           "BU19TS(2)-ore3d.1"
          ],
          [
           "BU19w-Rut2.5 "
          ],
          [
           "BU19w-Rut2.8 "
          ],
          [
           "BU19w-Rut3.2 "
          ],
          [
           "BU19w-Rut3.4 "
          ],
          [
           "BU19w-Rut4.1 "
          ],
          [
           "BU19w-Area7_ore.3 "
          ],
          [
           "BU19TS-coltan1.1 "
          ],
          [
           "BU19TS-coltan1.5 "
          ],
          [
           "BU19TS-coltan1.6 "
          ],
          [
           "BU19TS-coltan2.6 "
          ],
          [
           "BU19TS-coltan3.1 "
          ]
         ],
         "hovertemplate": "Facies=PAPN<br>Texture=rim<br>NbTa=%{a}<br>TiSn=%{b}<br>FeMn=%{c}<br>Comment=%{customdata[0]}<extra></extra>",
         "legendgroup": "PAPN, rim",
         "marker": {
          "color": "#EF553B",
          "size": 10,
          "symbol": "circle"
         },
         "mode": "markers",
         "name": "PAPN, rim",
         "showlegend": true,
         "subplot": "ternary",
         "type": "scatterternary"
        },
        {
         "a": [
          6.746372555456478,
          6.297843809311946,
          3.7617896230230756,
          8.386688582818817,
          8.17818686450595,
          8.135859944101037,
          11.971276163393044,
          10.596243534097285,
          8.590642678800366,
          9.726450842020034,
          10.388648725138392,
          12.4632843384814,
          8.953199034937658,
          12.397550837330375,
          9.055646504216455,
          11.669817356381474,
          8.999697258419877,
          4.372483478576038,
          9.009761000619363,
          3.9423824996016954,
          6.730845016032028,
          5.015945217413213,
          2.9423698962468245,
          4.358801458515487,
          3.345059927802478,
          3.590208404726715,
          7.696517634227431,
          66.37766245567931,
          65.90937065757359,
          65.07287860038089,
          66.4812915742209,
          66.79618375201387,
          64.27181364874272,
          65.51845860497887
         ],
         "b": [
          88.3716699177764,
          88.84958565505607,
          92.77662786403563,
          85.5243197300548,
          86.07376573722394,
          86.96385376469505,
          81.10779096323427,
          83.21922705708096,
          84.87150145050923,
          84.8405808135817,
          83.66672128478658,
          80.2506309313852,
          85.92857867509345,
          80.77797517762293,
          85.37560889628652,
          79.95335207057319,
          85.01745402561001,
          92.61036152198614,
          84.84330700398792,
          93.9064755543709,
          88.62684166346965,
          91.35236862018937,
          95.25848036595941,
          92.32895427624513,
          94.10621727422208,
          93.7990633092153,
          87.35585420080955,
          3.7735865273942815,
          4.249546764712898,
          5.69790118376441,
          3.2767756865493984,
          3.2271069638617638,
          6.270026092292985,
          4.712873904748656
         ],
         "c": [
          4.881957526767125,
          4.85257053563197,
          3.461582512941301,
          6.088991687126392,
          5.748047398270117,
          4.900286291203929,
          6.920932873372684,
          6.184529408821762,
          6.537855870690406,
          5.432968344398273,
          5.944629990075033,
          7.286084730133396,
          5.118222289968892,
          6.824473985046681,
          5.568744599497014,
          8.376830573045321,
          5.982848715970126,
          3.0171549994378273,
          6.146931995392716,
          2.1511419460274115,
          4.642313320498325,
          3.6316861623974246,
          1.7991497377937489,
          3.312244265239391,
          2.54872279797544,
          2.6107282860579764,
          4.94762816496302,
          29.8487510169264,
          29.841082577713525,
          29.229220215854696,
          30.241932739229703,
          29.976709284124357,
          29.458160258964305,
          29.76866749027247
         ],
         "customdata": [
          [
           "BU19TS(1)-rutile1.3"
          ],
          [
           "BU19TS(1)-rutile1.4"
          ],
          [
           "BU19TS(1)-Rut2.1"
          ],
          [
           "BU19TS(2)-ore1.2"
          ],
          [
           "BU19TS(2)-ore1.4"
          ],
          [
           "BU19TS(2)-ore2.2"
          ],
          [
           "BU19TS(2)-ore2.3"
          ],
          [
           "BU19TS(2)-ore3a.1"
          ],
          [
           "BU19TS(2)-ore3a.2"
          ],
          [
           "BU19TS(2)-ore3b.1"
          ],
          [
           "BU19TS(2)-ore3c.1"
          ],
          [
           "BU19TS(2)-ore3c.2"
          ],
          [
           "BU19TS(2)-ore3d.2"
          ],
          [
           "BU19TS(2)-ore3d.3"
          ],
          [
           "BU19TS(2)-Ore4.1"
          ],
          [
           "BU19TS(2)-Ore4.2"
          ],
          [
           "BU19TS(2)-Ore4.4"
          ],
          [
           "BU19w-Rut2.1"
          ],
          [
           "BU19w-Rut2.2"
          ],
          [
           "BU19w-Rut2.4 "
          ],
          [
           "BU19w-Rut2.6 "
          ],
          [
           "BU19w-Rut2.7 "
          ],
          [
           "BU19w-Rut2b.2 "
          ],
          [
           "BU19w-Rut2b.4 "
          ],
          [
           "BU19w-Rut2b.5 "
          ],
          [
           "BU19w-Rut4.2 "
          ],
          [
           "BU19w-Area7_ore.2 "
          ],
          [
           "BU19TS-coltan1.2 "
          ],
          [
           "BU19TS-coltan1.4 "
          ],
          [
           "BU19TS-coltan1.7 "
          ],
          [
           "BU19TS-coltan2.2 "
          ],
          [
           "BU19TS-coltan2.3 "
          ],
          [
           "BU19TS-coltan3.2 "
          ],
          [
           "BU19TS-coltan3.3 "
          ]
         ],
         "hovertemplate": "Facies=PAPN<br>Texture=core<br>NbTa=%{a}<br>TiSn=%{b}<br>FeMn=%{c}<br>Comment=%{customdata[0]}<extra></extra>",
         "legendgroup": "PAPN, core",
         "marker": {
          "color": "#EF553B",
          "size": 10,
          "symbol": "diamond"
         },
         "mode": "markers",
         "name": "PAPN, core",
         "showlegend": true,
         "subplot": "ternary",
         "type": "scatterternary"
        },
        {
         "a": [
          10.040541486769783,
          9.01357323252808,
          10.35933949089939,
          10.099361516836874,
          8.876218463195025,
          65.52842839186737,
          63.734704990468025,
          66.77232269094702
         ],
         "b": [
          81.94812403968078,
          84.45117802707472,
          81.70627436936024,
          83.54178870918106,
          85.29151620504982,
          3.7340931076725337,
          2.977952503370984,
          2.93375198589845
         ],
         "c": [
          8.01133447354943,
          6.535248740397181,
          7.934386139740377,
          6.358849773982062,
          5.832265331755147,
          30.737478500460096,
          33.287342506161,
          30.293925323154504
         ],
         "customdata": [
          [
           "BU19TS(2)-ore1.1"
          ],
          [
           "BU19TS(2)-ore1.6"
          ],
          [
           "BU19TS(2)-ore2.4"
          ],
          [
           "BU19TS(2)-Ore4.3"
          ],
          [
           "BU19w-Rut4.3 "
          ],
          [
           "BU19TS-coltan1.3 "
          ],
          [
           "BU19TS-coltan2.4 "
          ],
          [
           "BU19TS-coltan2.5 "
          ]
         ],
         "hovertemplate": "Facies=PAPN<br>Texture=patchy<br>NbTa=%{a}<br>TiSn=%{b}<br>FeMn=%{c}<br>Comment=%{customdata[0]}<extra></extra>",
         "legendgroup": "PAPN, patchy",
         "marker": {
          "color": "#EF553B",
          "size": 10,
          "symbol": "square"
         },
         "mode": "markers",
         "name": "PAPN, patchy",
         "showlegend": true,
         "subplot": "ternary",
         "type": "scatterternary"
        },
        {
         "a": [
          68.32952792166934,
          67.7485650261398,
          68.37144452237142,
          67.41707059119602,
          68.70086805158046,
          69.02240413983655,
          68.95870644444727,
          68.86860434587211
         ],
         "b": [
          0.8029332787830064,
          1.379512151062571,
          0.8613110226339853,
          1.8891396203931723,
          1.012608423119209,
          0.5979338530154055,
          0.4566456569973884,
          0.5157742546719332
         ],
         "c": [
          30.867538799547646,
          30.87192282279765,
          30.76724445499459,
          30.693789788410818,
          30.286523525300318,
          30.379662007148045,
          30.584647898555346,
          30.61562139945595
         ],
         "customdata": [
          [
           "BU24-coltan1.1 "
          ],
          [
           "BU24-coltan2.1 "
          ],
          [
           "BU24-coltan3.2 "
          ],
          [
           "BU24-coltan3.3 "
          ],
          [
           "BU24-coltan3.6 "
          ],
          [
           "BU24-Ore4.1"
          ],
          [
           "BU24-Ore4.4"
          ],
          [
           "BU24-Ore4.6"
          ]
         ],
         "hovertemplate": "Facies=Albitized<br>Texture=rim<br>NbTa=%{a}<br>TiSn=%{b}<br>FeMn=%{c}<br>Comment=%{customdata[0]}<extra></extra>",
         "legendgroup": "Albitized, rim",
         "marker": {
          "color": "#00cc96",
          "size": 10,
          "symbol": "circle"
         },
         "mode": "markers",
         "name": "Albitized, rim",
         "showlegend": true,
         "subplot": "ternary",
         "type": "scatterternary"
        },
        {
         "a": [
          68.50867983447544,
          68.12203846612161,
          68.13258267011244,
          67.35015570981781,
          68.34502718229882,
          68.43970705130572,
          67.71437751462236,
          68.26754545480725,
          67.91843923285688,
          67.48478226228498
         ],
         "b": [
          0.7634314708504811,
          1.376882832554704,
          1.3454882970865298,
          0.9082021211442396,
          0.8065711819239204,
          0.8149325509896937,
          1.442856298648471,
          0.8932220133680163,
          1.3878559574049492,
          1.4961306036410513
         ],
         "c": [
          30.72788869467409,
          30.501078701323696,
          30.521929032801026,
          31.741642169037938,
          30.84840163577725,
          30.745360397704584,
          30.842766186729165,
          30.839232531824738,
          30.693704809738172,
          31.019087134073963
         ],
         "customdata": [
          [
           "BU24-coltan1.2 "
          ],
          [
           "BU24-coltan2.2 "
          ],
          [
           "BU24-coltan2.3 "
          ],
          [
           "BU24-coltan3.1 "
          ],
          [
           "BU24-coltan3.4 "
          ],
          [
           "BU24-coltan3.5 "
          ],
          [
           "BU24-Ore4.2"
          ],
          [
           "BU24-Ore4.3"
          ],
          [
           "BU24-Ore4.5"
          ],
          [
           "BU24-Ore4.7"
          ]
         ],
         "hovertemplate": "Facies=Albitized<br>Texture=core<br>NbTa=%{a}<br>TiSn=%{b}<br>FeMn=%{c}<br>Comment=%{customdata[0]}<extra></extra>",
         "legendgroup": "Albitized, core",
         "marker": {
          "color": "#00cc96",
          "size": 10,
          "symbol": "diamond"
         },
         "mode": "markers",
         "name": "Albitized, core",
         "showlegend": true,
         "subplot": "ternary",
         "type": "scatterternary"
        }
       ],
       "layout": {
        "legend": {
         "title": {
          "text": "Facies, Texture"
         },
         "tracegroupgap": 0
        },
        "margin": {
         "t": 60
        },
        "template": {
         "data": {
          "bar": [
           {
            "error_x": {
             "color": "#2a3f5f"
            },
            "error_y": {
             "color": "#2a3f5f"
            },
            "marker": {
             "line": {
              "color": "#E5ECF6",
              "width": 0.5
             }
            },
            "type": "bar"
           }
          ],
          "barpolar": [
           {
            "marker": {
             "line": {
              "color": "#E5ECF6",
              "width": 0.5
             }
            },
            "type": "barpolar"
           }
          ],
          "carpet": [
           {
            "aaxis": {
             "endlinecolor": "#2a3f5f",
             "gridcolor": "white",
             "linecolor": "white",
             "minorgridcolor": "white",
             "startlinecolor": "#2a3f5f"
            },
            "baxis": {
             "endlinecolor": "#2a3f5f",
             "gridcolor": "white",
             "linecolor": "white",
             "minorgridcolor": "white",
             "startlinecolor": "#2a3f5f"
            },
            "type": "carpet"
           }
          ],
          "choropleth": [
           {
            "colorbar": {
             "outlinewidth": 0,
             "ticks": ""
            },
            "type": "choropleth"
           }
          ],
          "contour": [
           {
            "colorbar": {
             "outlinewidth": 0,
             "ticks": ""
            },
            "colorscale": [
             [
              0,
              "#0d0887"
             ],
             [
              0.1111111111111111,
              "#46039f"
             ],
             [
              0.2222222222222222,
              "#7201a8"
             ],
             [
              0.3333333333333333,
              "#9c179e"
             ],
             [
              0.4444444444444444,
              "#bd3786"
             ],
             [
              0.5555555555555556,
              "#d8576b"
             ],
             [
              0.6666666666666666,
              "#ed7953"
             ],
             [
              0.7777777777777778,
              "#fb9f3a"
             ],
             [
              0.8888888888888888,
              "#fdca26"
             ],
             [
              1,
              "#f0f921"
             ]
            ],
            "type": "contour"
           }
          ],
          "contourcarpet": [
           {
            "colorbar": {
             "outlinewidth": 0,
             "ticks": ""
            },
            "type": "contourcarpet"
           }
          ],
          "heatmap": [
           {
            "colorbar": {
             "outlinewidth": 0,
             "ticks": ""
            },
            "colorscale": [
             [
              0,
              "#0d0887"
             ],
             [
              0.1111111111111111,
              "#46039f"
             ],
             [
              0.2222222222222222,
              "#7201a8"
             ],
             [
              0.3333333333333333,
              "#9c179e"
             ],
             [
              0.4444444444444444,
              "#bd3786"
             ],
             [
              0.5555555555555556,
              "#d8576b"
             ],
             [
              0.6666666666666666,
              "#ed7953"
             ],
             [
              0.7777777777777778,
              "#fb9f3a"
             ],
             [
              0.8888888888888888,
              "#fdca26"
             ],
             [
              1,
              "#f0f921"
             ]
            ],
            "type": "heatmap"
           }
          ],
          "heatmapgl": [
           {
            "colorbar": {
             "outlinewidth": 0,
             "ticks": ""
            },
            "colorscale": [
             [
              0,
              "#0d0887"
             ],
             [
              0.1111111111111111,
              "#46039f"
             ],
             [
              0.2222222222222222,
              "#7201a8"
             ],
             [
              0.3333333333333333,
              "#9c179e"
             ],
             [
              0.4444444444444444,
              "#bd3786"
             ],
             [
              0.5555555555555556,
              "#d8576b"
             ],
             [
              0.6666666666666666,
              "#ed7953"
             ],
             [
              0.7777777777777778,
              "#fb9f3a"
             ],
             [
              0.8888888888888888,
              "#fdca26"
             ],
             [
              1,
              "#f0f921"
             ]
            ],
            "type": "heatmapgl"
           }
          ],
          "histogram": [
           {
            "marker": {
             "colorbar": {
              "outlinewidth": 0,
              "ticks": ""
             }
            },
            "type": "histogram"
           }
          ],
          "histogram2d": [
           {
            "colorbar": {
             "outlinewidth": 0,
             "ticks": ""
            },
            "colorscale": [
             [
              0,
              "#0d0887"
             ],
             [
              0.1111111111111111,
              "#46039f"
             ],
             [
              0.2222222222222222,
              "#7201a8"
             ],
             [
              0.3333333333333333,
              "#9c179e"
             ],
             [
              0.4444444444444444,
              "#bd3786"
             ],
             [
              0.5555555555555556,
              "#d8576b"
             ],
             [
              0.6666666666666666,
              "#ed7953"
             ],
             [
              0.7777777777777778,
              "#fb9f3a"
             ],
             [
              0.8888888888888888,
              "#fdca26"
             ],
             [
              1,
              "#f0f921"
             ]
            ],
            "type": "histogram2d"
           }
          ],
          "histogram2dcontour": [
           {
            "colorbar": {
             "outlinewidth": 0,
             "ticks": ""
            },
            "colorscale": [
             [
              0,
              "#0d0887"
             ],
             [
              0.1111111111111111,
              "#46039f"
             ],
             [
              0.2222222222222222,
              "#7201a8"
             ],
             [
              0.3333333333333333,
              "#9c179e"
             ],
             [
              0.4444444444444444,
              "#bd3786"
             ],
             [
              0.5555555555555556,
              "#d8576b"
             ],
             [
              0.6666666666666666,
              "#ed7953"
             ],
             [
              0.7777777777777778,
              "#fb9f3a"
             ],
             [
              0.8888888888888888,
              "#fdca26"
             ],
             [
              1,
              "#f0f921"
             ]
            ],
            "type": "histogram2dcontour"
           }
          ],
          "mesh3d": [
           {
            "colorbar": {
             "outlinewidth": 0,
             "ticks": ""
            },
            "type": "mesh3d"
           }
          ],
          "parcoords": [
           {
            "line": {
             "colorbar": {
              "outlinewidth": 0,
              "ticks": ""
             }
            },
            "type": "parcoords"
           }
          ],
          "pie": [
           {
            "automargin": true,
            "type": "pie"
           }
          ],
          "scatter": [
           {
            "marker": {
             "colorbar": {
              "outlinewidth": 0,
              "ticks": ""
             }
            },
            "type": "scatter"
           }
          ],
          "scatter3d": [
           {
            "line": {
             "colorbar": {
              "outlinewidth": 0,
              "ticks": ""
             }
            },
            "marker": {
             "colorbar": {
              "outlinewidth": 0,
              "ticks": ""
             }
            },
            "type": "scatter3d"
           }
          ],
          "scattercarpet": [
           {
            "marker": {
             "colorbar": {
              "outlinewidth": 0,
              "ticks": ""
             }
            },
            "type": "scattercarpet"
           }
          ],
          "scattergeo": [
           {
            "marker": {
             "colorbar": {
              "outlinewidth": 0,
              "ticks": ""
             }
            },
            "type": "scattergeo"
           }
          ],
          "scattergl": [
           {
            "marker": {
             "colorbar": {
              "outlinewidth": 0,
              "ticks": ""
             }
            },
            "type": "scattergl"
           }
          ],
          "scattermapbox": [
           {
            "marker": {
             "colorbar": {
              "outlinewidth": 0,
              "ticks": ""
             }
            },
            "type": "scattermapbox"
           }
          ],
          "scatterpolar": [
           {
            "marker": {
             "colorbar": {
              "outlinewidth": 0,
              "ticks": ""
             }
            },
            "type": "scatterpolar"
           }
          ],
          "scatterpolargl": [
           {
            "marker": {
             "colorbar": {
              "outlinewidth": 0,
              "ticks": ""
             }
            },
            "type": "scatterpolargl"
           }
          ],
          "scatterternary": [
           {
            "marker": {
             "colorbar": {
              "outlinewidth": 0,
              "ticks": ""
             }
            },
            "type": "scatterternary"
           }
          ],
          "surface": [
           {
            "colorbar": {
             "outlinewidth": 0,
             "ticks": ""
            },
            "colorscale": [
             [
              0,
              "#0d0887"
             ],
             [
              0.1111111111111111,
              "#46039f"
             ],
             [
              0.2222222222222222,
              "#7201a8"
             ],
             [
              0.3333333333333333,
              "#9c179e"
             ],
             [
              0.4444444444444444,
              "#bd3786"
             ],
             [
              0.5555555555555556,
              "#d8576b"
             ],
             [
              0.6666666666666666,
              "#ed7953"
             ],
             [
              0.7777777777777778,
              "#fb9f3a"
             ],
             [
              0.8888888888888888,
              "#fdca26"
             ],
             [
              1,
              "#f0f921"
             ]
            ],
            "type": "surface"
           }
          ],
          "table": [
           {
            "cells": {
             "fill": {
              "color": "#EBF0F8"
             },
             "line": {
              "color": "white"
             }
            },
            "header": {
             "fill": {
              "color": "#C8D4E3"
             },
             "line": {
              "color": "white"
             }
            },
            "type": "table"
           }
          ]
         },
         "layout": {
          "annotationdefaults": {
           "arrowcolor": "#2a3f5f",
           "arrowhead": 0,
           "arrowwidth": 1
          },
          "autotypenumbers": "strict",
          "coloraxis": {
           "colorbar": {
            "outlinewidth": 0,
            "ticks": ""
           }
          },
          "colorscale": {
           "diverging": [
            [
             0,
             "#8e0152"
            ],
            [
             0.1,
             "#c51b7d"
            ],
            [
             0.2,
             "#de77ae"
            ],
            [
             0.3,
             "#f1b6da"
            ],
            [
             0.4,
             "#fde0ef"
            ],
            [
             0.5,
             "#f7f7f7"
            ],
            [
             0.6,
             "#e6f5d0"
            ],
            [
             0.7,
             "#b8e186"
            ],
            [
             0.8,
             "#7fbc41"
            ],
            [
             0.9,
             "#4d9221"
            ],
            [
             1,
             "#276419"
            ]
           ],
           "sequential": [
            [
             0,
             "#0d0887"
            ],
            [
             0.1111111111111111,
             "#46039f"
            ],
            [
             0.2222222222222222,
             "#7201a8"
            ],
            [
             0.3333333333333333,
             "#9c179e"
            ],
            [
             0.4444444444444444,
             "#bd3786"
            ],
            [
             0.5555555555555556,
             "#d8576b"
            ],
            [
             0.6666666666666666,
             "#ed7953"
            ],
            [
             0.7777777777777778,
             "#fb9f3a"
            ],
            [
             0.8888888888888888,
             "#fdca26"
            ],
            [
             1,
             "#f0f921"
            ]
           ],
           "sequentialminus": [
            [
             0,
             "#0d0887"
            ],
            [
             0.1111111111111111,
             "#46039f"
            ],
            [
             0.2222222222222222,
             "#7201a8"
            ],
            [
             0.3333333333333333,
             "#9c179e"
            ],
            [
             0.4444444444444444,
             "#bd3786"
            ],
            [
             0.5555555555555556,
             "#d8576b"
            ],
            [
             0.6666666666666666,
             "#ed7953"
            ],
            [
             0.7777777777777778,
             "#fb9f3a"
            ],
            [
             0.8888888888888888,
             "#fdca26"
            ],
            [
             1,
             "#f0f921"
            ]
           ]
          },
          "colorway": [
           "#636efa",
           "#EF553B",
           "#00cc96",
           "#ab63fa",
           "#FFA15A",
           "#19d3f3",
           "#FF6692",
           "#B6E880",
           "#FF97FF",
           "#FECB52"
          ],
          "font": {
           "color": "#2a3f5f"
          },
          "geo": {
           "bgcolor": "white",
           "lakecolor": "white",
           "landcolor": "#E5ECF6",
           "showlakes": true,
           "showland": true,
           "subunitcolor": "white"
          },
          "hoverlabel": {
           "align": "left"
          },
          "hovermode": "closest",
          "mapbox": {
           "style": "light"
          },
          "paper_bgcolor": "white",
          "plot_bgcolor": "#E5ECF6",
          "polar": {
           "angularaxis": {
            "gridcolor": "white",
            "linecolor": "white",
            "ticks": ""
           },
           "bgcolor": "#E5ECF6",
           "radialaxis": {
            "gridcolor": "white",
            "linecolor": "white",
            "ticks": ""
           }
          },
          "scene": {
           "xaxis": {
            "backgroundcolor": "#E5ECF6",
            "gridcolor": "white",
            "gridwidth": 2,
            "linecolor": "white",
            "showbackground": true,
            "ticks": "",
            "zerolinecolor": "white"
           },
           "yaxis": {
            "backgroundcolor": "#E5ECF6",
            "gridcolor": "white",
            "gridwidth": 2,
            "linecolor": "white",
            "showbackground": true,
            "ticks": "",
            "zerolinecolor": "white"
           },
           "zaxis": {
            "backgroundcolor": "#E5ECF6",
            "gridcolor": "white",
            "gridwidth": 2,
            "linecolor": "white",
            "showbackground": true,
            "ticks": "",
            "zerolinecolor": "white"
           }
          },
          "shapedefaults": {
           "line": {
            "color": "#2a3f5f"
           }
          },
          "ternary": {
           "aaxis": {
            "gridcolor": "white",
            "linecolor": "white",
            "ticks": ""
           },
           "baxis": {
            "gridcolor": "white",
            "linecolor": "white",
            "ticks": ""
           },
           "bgcolor": "#E5ECF6",
           "caxis": {
            "gridcolor": "white",
            "linecolor": "white",
            "ticks": ""
           }
          },
          "title": {
           "x": 0.05
          },
          "xaxis": {
           "automargin": true,
           "gridcolor": "white",
           "linecolor": "white",
           "ticks": "",
           "title": {
            "standoff": 15
           },
           "zerolinecolor": "white",
           "zerolinewidth": 2
          },
          "yaxis": {
           "automargin": true,
           "gridcolor": "white",
           "linecolor": "white",
           "ticks": "",
           "title": {
            "standoff": 15
           },
           "zerolinecolor": "white",
           "zerolinewidth": 2
          }
         }
        },
        "ternary": {
         "aaxis": {
          "linecolor": "black",
          "showgrid": false,
          "tickcolor": "black",
          "ticks": "inside",
          "title": {
           "text": "NbTa"
          }
         },
         "baxis": {
          "linecolor": "black",
          "showgrid": false,
          "tickcolor": "black",
          "ticks": "inside",
          "title": {
           "text": "TiSn"
          }
         },
         "bgcolor": "white",
         "caxis": {
          "linecolor": "black",
          "showgrid": false,
          "tickcolor": "black",
          "ticks": "inside",
          "title": {
           "text": "FeMn"
          }
         },
         "domain": {
          "x": [
           0,
           1
          ],
          "y": [
           0,
           1
          ]
         }
        }
       }
      },
      "text/html": [
       "<div>                            <div id=\"eb0b56dd-954e-498f-b2ee-377bc2370144\" class=\"plotly-graph-div\" style=\"height:525px; width:100%;\"></div>            <script type=\"text/javascript\">                require([\"plotly\"], function(Plotly) {                    window.PLOTLYENV=window.PLOTLYENV || {};                                    if (document.getElementById(\"eb0b56dd-954e-498f-b2ee-377bc2370144\")) {                    Plotly.newPlot(                        \"eb0b56dd-954e-498f-b2ee-377bc2370144\",                        [{\"a\": [15.48501194666671, 28.82024265906758, 67.48647236391861, 67.23897204102862, 66.02532073398059], \"b\": [74.3417032046194, 55.66156428535529, 2.5550295254528184, 2.9031320821453757, 3.930763547612279], \"c\": [10.173284848713902, 15.518193055577115, 29.958498110628582, 29.857895876826014, 30.043915718407128], \"customdata\": [[\"BU04-Rut2.2\"], [\"BU04-Ore2_coltan1 \"], [\"BU04-Ore1.3 \"], [\"BU04-Ore1.4 \"], [\"BU04-Ore1.9 \"]], \"hovertemplate\": \"Facies=SAPN<br>Texture=rim<br>NbTa=%{a}<br>TiSn=%{b}<br>FeMn=%{c}<br>Comment=%{customdata[0]}<extra></extra>\", \"legendgroup\": \"SAPN, rim\", \"marker\": {\"color\": \"#636efa\", \"size\": 10, \"symbol\": \"circle\"}, \"mode\": \"markers\", \"name\": \"SAPN, rim\", \"showlegend\": true, \"subplot\": \"ternary\", \"type\": \"scatterternary\"}, {\"a\": [13.27852400572336, 66.97501060349857, 65.81355056242866, 66.24179024109455, 61.19718463784092], \"b\": [78.3742630243518, 2.874658924017065, 3.4789292302173402, 3.61286567282963, 10.776130407775513], \"c\": [8.347212969924822, 30.150330472484377, 30.707520207354, 30.145344086075827, 28.02668495438357], \"customdata\": [[\"BU04-Rut2.3\"], [\"BU04-Ore1.5 \"], [\"BU04-Ore1.6 \"], [\"BU04-Ore1.7 \"], [\"BU04-Ore2_coltan2 \"]], \"hovertemplate\": \"Facies=SAPN<br>Texture=core<br>NbTa=%{a}<br>TiSn=%{b}<br>FeMn=%{c}<br>Comment=%{customdata[0]}<extra></extra>\", \"legendgroup\": \"SAPN, core\", \"marker\": {\"color\": \"#636efa\", \"size\": 10, \"symbol\": \"diamond\"}, \"mode\": \"markers\", \"name\": \"SAPN, core\", \"showlegend\": true, \"subplot\": \"ternary\", \"type\": \"scatterternary\"}, {\"a\": [68.03632031083622, 67.46718672848081, 68.23438545425404], \"b\": [1.391117416714895, 2.2915491829093764, 1.29391975582382], \"c\": [30.572562272448877, 30.24126408860982, 30.47169478992215], \"customdata\": [[\"BU04-Ore1.2 \"], [\"BU04-Ore1.8 \"], [\"BU04-Ore1.10 \"]], \"hovertemplate\": \"Facies=SAPN<br>Texture=patchy<br>NbTa=%{a}<br>TiSn=%{b}<br>FeMn=%{c}<br>Comment=%{customdata[0]}<extra></extra>\", \"legendgroup\": \"SAPN, patchy\", \"marker\": {\"color\": \"#636efa\", \"size\": 10, \"symbol\": \"square\"}, \"mode\": \"markers\", \"name\": \"SAPN, patchy\", \"showlegend\": true, \"subplot\": \"ternary\", \"type\": \"scatterternary\"}, {\"a\": [3.0683110106542424, 10.910039758186105, 9.590143477312733, 14.765489662354629, 10.35839938367452, 11.045640850839575, 9.750907093444813, 7.005727324150729, 8.662988959314887, 8.426764912420918, 10.515240960296003, 9.28008237495644, 5.817183464664135, 8.79820896672955, 65.51411904948931, 65.15196203741804, 64.93043753781986, 65.7033846719184, 65.94722329257571], \"b\": [93.9482482947499, 81.14986695559732, 84.05098713468085, 75.56407641708307, 81.56021722894427, 82.7667007442088, 84.80555918124868, 87.82497523216176, 85.51614669065349, 85.64600958762203, 81.8500067920797, 83.62385575702635, 89.9045719937578, 85.35253292835834, 4.887561703633801, 5.262087874549505, 5.593104660334339, 4.124216341081518, 3.714693572377977], \"c\": [2.9834406945958447, 7.940093286216573, 6.35886938800641, 9.670433920562296, 8.081383387381216, 6.187658404951609, 5.443533725306507, 5.169297443687519, 5.820864350031628, 5.927225499957042, 7.634752247624296, 7.096061868017195, 4.2782445415780606, 5.849258104912106, 29.598319246876887, 29.585950088032448, 29.476457801845807, 30.172398987000093, 30.33808313504631], \"customdata\": [[\"BU19TS(1)-Rut2.2\"], [\"BU19TS(2)-ore1.3\"], [\"BU19TS(2)-ore1.5\"], [\"BU19TS(2)-ore2.1\"], [\"BU19TS(2)-ore2.5\"], [\"BU19TS(2)-ore3a.3\"], [\"BU19TS(2)-ore3b.2\"], [\"BU19TS(2)-ore3d.1\"], [\"BU19w-Rut2.5 \"], [\"BU19w-Rut2.8 \"], [\"BU19w-Rut3.2 \"], [\"BU19w-Rut3.4 \"], [\"BU19w-Rut4.1 \"], [\"BU19w-Area7_ore.3 \"], [\"BU19TS-coltan1.1 \"], [\"BU19TS-coltan1.5 \"], [\"BU19TS-coltan1.6 \"], [\"BU19TS-coltan2.6 \"], [\"BU19TS-coltan3.1 \"]], \"hovertemplate\": \"Facies=PAPN<br>Texture=rim<br>NbTa=%{a}<br>TiSn=%{b}<br>FeMn=%{c}<br>Comment=%{customdata[0]}<extra></extra>\", \"legendgroup\": \"PAPN, rim\", \"marker\": {\"color\": \"#EF553B\", \"size\": 10, \"symbol\": \"circle\"}, \"mode\": \"markers\", \"name\": \"PAPN, rim\", \"showlegend\": true, \"subplot\": \"ternary\", \"type\": \"scatterternary\"}, {\"a\": [6.746372555456478, 6.297843809311946, 3.7617896230230756, 8.386688582818817, 8.17818686450595, 8.135859944101037, 11.971276163393044, 10.596243534097285, 8.590642678800366, 9.726450842020034, 10.388648725138392, 12.4632843384814, 8.953199034937658, 12.397550837330375, 9.055646504216455, 11.669817356381474, 8.999697258419877, 4.372483478576038, 9.009761000619363, 3.9423824996016954, 6.730845016032028, 5.015945217413213, 2.9423698962468245, 4.358801458515487, 3.345059927802478, 3.590208404726715, 7.696517634227431, 66.37766245567931, 65.90937065757359, 65.07287860038089, 66.4812915742209, 66.79618375201387, 64.27181364874272, 65.51845860497887], \"b\": [88.3716699177764, 88.84958565505607, 92.77662786403563, 85.5243197300548, 86.07376573722394, 86.96385376469505, 81.10779096323427, 83.21922705708096, 84.87150145050923, 84.8405808135817, 83.66672128478658, 80.2506309313852, 85.92857867509345, 80.77797517762293, 85.37560889628652, 79.95335207057319, 85.01745402561001, 92.61036152198614, 84.84330700398792, 93.9064755543709, 88.62684166346965, 91.35236862018937, 95.25848036595941, 92.32895427624513, 94.10621727422208, 93.7990633092153, 87.35585420080955, 3.7735865273942815, 4.249546764712898, 5.69790118376441, 3.2767756865493984, 3.2271069638617638, 6.270026092292985, 4.712873904748656], \"c\": [4.881957526767125, 4.85257053563197, 3.461582512941301, 6.088991687126392, 5.748047398270117, 4.900286291203929, 6.920932873372684, 6.184529408821762, 6.537855870690406, 5.432968344398273, 5.944629990075033, 7.286084730133396, 5.118222289968892, 6.824473985046681, 5.568744599497014, 8.376830573045321, 5.982848715970126, 3.0171549994378273, 6.146931995392716, 2.1511419460274115, 4.642313320498325, 3.6316861623974246, 1.7991497377937489, 3.312244265239391, 2.54872279797544, 2.6107282860579764, 4.94762816496302, 29.8487510169264, 29.841082577713525, 29.229220215854696, 30.241932739229703, 29.976709284124357, 29.458160258964305, 29.76866749027247], \"customdata\": [[\"BU19TS(1)-rutile1.3\"], [\"BU19TS(1)-rutile1.4\"], [\"BU19TS(1)-Rut2.1\"], [\"BU19TS(2)-ore1.2\"], [\"BU19TS(2)-ore1.4\"], [\"BU19TS(2)-ore2.2\"], [\"BU19TS(2)-ore2.3\"], [\"BU19TS(2)-ore3a.1\"], [\"BU19TS(2)-ore3a.2\"], [\"BU19TS(2)-ore3b.1\"], [\"BU19TS(2)-ore3c.1\"], [\"BU19TS(2)-ore3c.2\"], [\"BU19TS(2)-ore3d.2\"], [\"BU19TS(2)-ore3d.3\"], [\"BU19TS(2)-Ore4.1\"], [\"BU19TS(2)-Ore4.2\"], [\"BU19TS(2)-Ore4.4\"], [\"BU19w-Rut2.1\"], [\"BU19w-Rut2.2\"], [\"BU19w-Rut2.4 \"], [\"BU19w-Rut2.6 \"], [\"BU19w-Rut2.7 \"], [\"BU19w-Rut2b.2 \"], [\"BU19w-Rut2b.4 \"], [\"BU19w-Rut2b.5 \"], [\"BU19w-Rut4.2 \"], [\"BU19w-Area7_ore.2 \"], [\"BU19TS-coltan1.2 \"], [\"BU19TS-coltan1.4 \"], [\"BU19TS-coltan1.7 \"], [\"BU19TS-coltan2.2 \"], [\"BU19TS-coltan2.3 \"], [\"BU19TS-coltan3.2 \"], [\"BU19TS-coltan3.3 \"]], \"hovertemplate\": \"Facies=PAPN<br>Texture=core<br>NbTa=%{a}<br>TiSn=%{b}<br>FeMn=%{c}<br>Comment=%{customdata[0]}<extra></extra>\", \"legendgroup\": \"PAPN, core\", \"marker\": {\"color\": \"#EF553B\", \"size\": 10, \"symbol\": \"diamond\"}, \"mode\": \"markers\", \"name\": \"PAPN, core\", \"showlegend\": true, \"subplot\": \"ternary\", \"type\": \"scatterternary\"}, {\"a\": [10.040541486769783, 9.01357323252808, 10.35933949089939, 10.099361516836874, 8.876218463195025, 65.52842839186737, 63.734704990468025, 66.77232269094702], \"b\": [81.94812403968078, 84.45117802707472, 81.70627436936024, 83.54178870918106, 85.29151620504982, 3.7340931076725337, 2.977952503370984, 2.93375198589845], \"c\": [8.01133447354943, 6.535248740397181, 7.934386139740377, 6.358849773982062, 5.832265331755147, 30.737478500460096, 33.287342506161, 30.293925323154504], \"customdata\": [[\"BU19TS(2)-ore1.1\"], [\"BU19TS(2)-ore1.6\"], [\"BU19TS(2)-ore2.4\"], [\"BU19TS(2)-Ore4.3\"], [\"BU19w-Rut4.3 \"], [\"BU19TS-coltan1.3 \"], [\"BU19TS-coltan2.4 \"], [\"BU19TS-coltan2.5 \"]], \"hovertemplate\": \"Facies=PAPN<br>Texture=patchy<br>NbTa=%{a}<br>TiSn=%{b}<br>FeMn=%{c}<br>Comment=%{customdata[0]}<extra></extra>\", \"legendgroup\": \"PAPN, patchy\", \"marker\": {\"color\": \"#EF553B\", \"size\": 10, \"symbol\": \"square\"}, \"mode\": \"markers\", \"name\": \"PAPN, patchy\", \"showlegend\": true, \"subplot\": \"ternary\", \"type\": \"scatterternary\"}, {\"a\": [68.32952792166934, 67.7485650261398, 68.37144452237142, 67.41707059119602, 68.70086805158046, 69.02240413983655, 68.95870644444727, 68.86860434587211], \"b\": [0.8029332787830064, 1.379512151062571, 0.8613110226339853, 1.8891396203931723, 1.012608423119209, 0.5979338530154055, 0.4566456569973884, 0.5157742546719332], \"c\": [30.867538799547646, 30.87192282279765, 30.76724445499459, 30.693789788410818, 30.286523525300318, 30.379662007148045, 30.584647898555346, 30.61562139945595], \"customdata\": [[\"BU24-coltan1.1 \"], [\"BU24-coltan2.1 \"], [\"BU24-coltan3.2 \"], [\"BU24-coltan3.3 \"], [\"BU24-coltan3.6 \"], [\"BU24-Ore4.1\"], [\"BU24-Ore4.4\"], [\"BU24-Ore4.6\"]], \"hovertemplate\": \"Facies=Albitized<br>Texture=rim<br>NbTa=%{a}<br>TiSn=%{b}<br>FeMn=%{c}<br>Comment=%{customdata[0]}<extra></extra>\", \"legendgroup\": \"Albitized, rim\", \"marker\": {\"color\": \"#00cc96\", \"size\": 10, \"symbol\": \"circle\"}, \"mode\": \"markers\", \"name\": \"Albitized, rim\", \"showlegend\": true, \"subplot\": \"ternary\", \"type\": \"scatterternary\"}, {\"a\": [68.50867983447544, 68.12203846612161, 68.13258267011244, 67.35015570981781, 68.34502718229882, 68.43970705130572, 67.71437751462236, 68.26754545480725, 67.91843923285688, 67.48478226228498], \"b\": [0.7634314708504811, 1.376882832554704, 1.3454882970865298, 0.9082021211442396, 0.8065711819239204, 0.8149325509896937, 1.442856298648471, 0.8932220133680163, 1.3878559574049492, 1.4961306036410513], \"c\": [30.72788869467409, 30.501078701323696, 30.521929032801026, 31.741642169037938, 30.84840163577725, 30.745360397704584, 30.842766186729165, 30.839232531824738, 30.693704809738172, 31.019087134073963], \"customdata\": [[\"BU24-coltan1.2 \"], [\"BU24-coltan2.2 \"], [\"BU24-coltan2.3 \"], [\"BU24-coltan3.1 \"], [\"BU24-coltan3.4 \"], [\"BU24-coltan3.5 \"], [\"BU24-Ore4.2\"], [\"BU24-Ore4.3\"], [\"BU24-Ore4.5\"], [\"BU24-Ore4.7\"]], \"hovertemplate\": \"Facies=Albitized<br>Texture=core<br>NbTa=%{a}<br>TiSn=%{b}<br>FeMn=%{c}<br>Comment=%{customdata[0]}<extra></extra>\", \"legendgroup\": \"Albitized, core\", \"marker\": {\"color\": \"#00cc96\", \"size\": 10, \"symbol\": \"diamond\"}, \"mode\": \"markers\", \"name\": \"Albitized, core\", \"showlegend\": true, \"subplot\": \"ternary\", \"type\": \"scatterternary\"}],                        {\"legend\": {\"title\": {\"text\": \"Facies, Texture\"}, \"tracegroupgap\": 0}, \"margin\": {\"t\": 60}, \"template\": {\"data\": {\"bar\": [{\"error_x\": {\"color\": \"#2a3f5f\"}, \"error_y\": {\"color\": \"#2a3f5f\"}, \"marker\": {\"line\": {\"color\": \"#E5ECF6\", \"width\": 0.5}}, \"type\": \"bar\"}], \"barpolar\": [{\"marker\": {\"line\": {\"color\": \"#E5ECF6\", \"width\": 0.5}}, \"type\": \"barpolar\"}], \"carpet\": [{\"aaxis\": {\"endlinecolor\": \"#2a3f5f\", \"gridcolor\": \"white\", \"linecolor\": \"white\", \"minorgridcolor\": \"white\", \"startlinecolor\": \"#2a3f5f\"}, \"baxis\": {\"endlinecolor\": \"#2a3f5f\", \"gridcolor\": \"white\", \"linecolor\": \"white\", \"minorgridcolor\": \"white\", \"startlinecolor\": \"#2a3f5f\"}, \"type\": \"carpet\"}], \"choropleth\": [{\"colorbar\": {\"outlinewidth\": 0, \"ticks\": \"\"}, \"type\": \"choropleth\"}], \"contour\": [{\"colorbar\": {\"outlinewidth\": 0, \"ticks\": \"\"}, \"colorscale\": [[0.0, \"#0d0887\"], [0.1111111111111111, \"#46039f\"], [0.2222222222222222, \"#7201a8\"], [0.3333333333333333, \"#9c179e\"], [0.4444444444444444, \"#bd3786\"], [0.5555555555555556, \"#d8576b\"], [0.6666666666666666, \"#ed7953\"], [0.7777777777777778, \"#fb9f3a\"], [0.8888888888888888, \"#fdca26\"], [1.0, \"#f0f921\"]], \"type\": \"contour\"}], \"contourcarpet\": [{\"colorbar\": {\"outlinewidth\": 0, \"ticks\": \"\"}, \"type\": \"contourcarpet\"}], \"heatmap\": [{\"colorbar\": {\"outlinewidth\": 0, \"ticks\": \"\"}, \"colorscale\": [[0.0, \"#0d0887\"], [0.1111111111111111, \"#46039f\"], [0.2222222222222222, \"#7201a8\"], [0.3333333333333333, \"#9c179e\"], [0.4444444444444444, \"#bd3786\"], [0.5555555555555556, \"#d8576b\"], [0.6666666666666666, \"#ed7953\"], [0.7777777777777778, \"#fb9f3a\"], [0.8888888888888888, \"#fdca26\"], [1.0, \"#f0f921\"]], \"type\": \"heatmap\"}], \"heatmapgl\": [{\"colorbar\": {\"outlinewidth\": 0, \"ticks\": \"\"}, \"colorscale\": [[0.0, \"#0d0887\"], [0.1111111111111111, \"#46039f\"], [0.2222222222222222, \"#7201a8\"], [0.3333333333333333, \"#9c179e\"], [0.4444444444444444, \"#bd3786\"], [0.5555555555555556, \"#d8576b\"], [0.6666666666666666, \"#ed7953\"], [0.7777777777777778, \"#fb9f3a\"], [0.8888888888888888, \"#fdca26\"], [1.0, \"#f0f921\"]], \"type\": \"heatmapgl\"}], \"histogram\": [{\"marker\": {\"colorbar\": {\"outlinewidth\": 0, \"ticks\": \"\"}}, \"type\": \"histogram\"}], \"histogram2d\": [{\"colorbar\": {\"outlinewidth\": 0, \"ticks\": \"\"}, \"colorscale\": [[0.0, \"#0d0887\"], [0.1111111111111111, \"#46039f\"], [0.2222222222222222, \"#7201a8\"], [0.3333333333333333, \"#9c179e\"], [0.4444444444444444, \"#bd3786\"], [0.5555555555555556, \"#d8576b\"], [0.6666666666666666, \"#ed7953\"], [0.7777777777777778, \"#fb9f3a\"], [0.8888888888888888, \"#fdca26\"], [1.0, \"#f0f921\"]], \"type\": \"histogram2d\"}], \"histogram2dcontour\": [{\"colorbar\": {\"outlinewidth\": 0, \"ticks\": \"\"}, \"colorscale\": [[0.0, \"#0d0887\"], [0.1111111111111111, \"#46039f\"], [0.2222222222222222, \"#7201a8\"], [0.3333333333333333, \"#9c179e\"], [0.4444444444444444, \"#bd3786\"], [0.5555555555555556, \"#d8576b\"], [0.6666666666666666, \"#ed7953\"], [0.7777777777777778, \"#fb9f3a\"], [0.8888888888888888, \"#fdca26\"], [1.0, \"#f0f921\"]], \"type\": \"histogram2dcontour\"}], \"mesh3d\": [{\"colorbar\": {\"outlinewidth\": 0, \"ticks\": \"\"}, \"type\": \"mesh3d\"}], \"parcoords\": [{\"line\": {\"colorbar\": {\"outlinewidth\": 0, \"ticks\": \"\"}}, \"type\": \"parcoords\"}], \"pie\": [{\"automargin\": true, \"type\": \"pie\"}], \"scatter\": [{\"marker\": {\"colorbar\": {\"outlinewidth\": 0, \"ticks\": \"\"}}, \"type\": \"scatter\"}], \"scatter3d\": [{\"line\": {\"colorbar\": {\"outlinewidth\": 0, \"ticks\": \"\"}}, \"marker\": {\"colorbar\": {\"outlinewidth\": 0, \"ticks\": \"\"}}, \"type\": \"scatter3d\"}], \"scattercarpet\": [{\"marker\": {\"colorbar\": {\"outlinewidth\": 0, \"ticks\": \"\"}}, \"type\": \"scattercarpet\"}], \"scattergeo\": [{\"marker\": {\"colorbar\": {\"outlinewidth\": 0, \"ticks\": \"\"}}, \"type\": \"scattergeo\"}], \"scattergl\": [{\"marker\": {\"colorbar\": {\"outlinewidth\": 0, \"ticks\": \"\"}}, \"type\": \"scattergl\"}], \"scattermapbox\": [{\"marker\": {\"colorbar\": {\"outlinewidth\": 0, \"ticks\": \"\"}}, \"type\": \"scattermapbox\"}], \"scatterpolar\": [{\"marker\": {\"colorbar\": {\"outlinewidth\": 0, \"ticks\": \"\"}}, \"type\": \"scatterpolar\"}], \"scatterpolargl\": [{\"marker\": {\"colorbar\": {\"outlinewidth\": 0, \"ticks\": \"\"}}, \"type\": \"scatterpolargl\"}], \"scatterternary\": [{\"marker\": {\"colorbar\": {\"outlinewidth\": 0, \"ticks\": \"\"}}, \"type\": \"scatterternary\"}], \"surface\": [{\"colorbar\": {\"outlinewidth\": 0, \"ticks\": \"\"}, \"colorscale\": [[0.0, \"#0d0887\"], [0.1111111111111111, \"#46039f\"], [0.2222222222222222, \"#7201a8\"], [0.3333333333333333, \"#9c179e\"], [0.4444444444444444, \"#bd3786\"], [0.5555555555555556, \"#d8576b\"], [0.6666666666666666, \"#ed7953\"], [0.7777777777777778, \"#fb9f3a\"], [0.8888888888888888, \"#fdca26\"], [1.0, \"#f0f921\"]], \"type\": \"surface\"}], \"table\": [{\"cells\": {\"fill\": {\"color\": \"#EBF0F8\"}, \"line\": {\"color\": \"white\"}}, \"header\": {\"fill\": {\"color\": \"#C8D4E3\"}, \"line\": {\"color\": \"white\"}}, \"type\": \"table\"}]}, \"layout\": {\"annotationdefaults\": {\"arrowcolor\": \"#2a3f5f\", \"arrowhead\": 0, \"arrowwidth\": 1}, \"autotypenumbers\": \"strict\", \"coloraxis\": {\"colorbar\": {\"outlinewidth\": 0, \"ticks\": \"\"}}, \"colorscale\": {\"diverging\": [[0, \"#8e0152\"], [0.1, \"#c51b7d\"], [0.2, \"#de77ae\"], [0.3, \"#f1b6da\"], [0.4, \"#fde0ef\"], [0.5, \"#f7f7f7\"], [0.6, \"#e6f5d0\"], [0.7, \"#b8e186\"], [0.8, \"#7fbc41\"], [0.9, \"#4d9221\"], [1, \"#276419\"]], \"sequential\": [[0.0, \"#0d0887\"], [0.1111111111111111, \"#46039f\"], [0.2222222222222222, \"#7201a8\"], [0.3333333333333333, \"#9c179e\"], [0.4444444444444444, \"#bd3786\"], [0.5555555555555556, \"#d8576b\"], [0.6666666666666666, \"#ed7953\"], [0.7777777777777778, \"#fb9f3a\"], [0.8888888888888888, \"#fdca26\"], [1.0, \"#f0f921\"]], \"sequentialminus\": [[0.0, \"#0d0887\"], [0.1111111111111111, \"#46039f\"], [0.2222222222222222, \"#7201a8\"], [0.3333333333333333, \"#9c179e\"], [0.4444444444444444, \"#bd3786\"], [0.5555555555555556, \"#d8576b\"], [0.6666666666666666, \"#ed7953\"], [0.7777777777777778, \"#fb9f3a\"], [0.8888888888888888, \"#fdca26\"], [1.0, \"#f0f921\"]]}, \"colorway\": [\"#636efa\", \"#EF553B\", \"#00cc96\", \"#ab63fa\", \"#FFA15A\", \"#19d3f3\", \"#FF6692\", \"#B6E880\", \"#FF97FF\", \"#FECB52\"], \"font\": {\"color\": \"#2a3f5f\"}, \"geo\": {\"bgcolor\": \"white\", \"lakecolor\": \"white\", \"landcolor\": \"#E5ECF6\", \"showlakes\": true, \"showland\": true, \"subunitcolor\": \"white\"}, \"hoverlabel\": {\"align\": \"left\"}, \"hovermode\": \"closest\", \"mapbox\": {\"style\": \"light\"}, \"paper_bgcolor\": \"white\", \"plot_bgcolor\": \"#E5ECF6\", \"polar\": {\"angularaxis\": {\"gridcolor\": \"white\", \"linecolor\": \"white\", \"ticks\": \"\"}, \"bgcolor\": \"#E5ECF6\", \"radialaxis\": {\"gridcolor\": \"white\", \"linecolor\": \"white\", \"ticks\": \"\"}}, \"scene\": {\"xaxis\": {\"backgroundcolor\": \"#E5ECF6\", \"gridcolor\": \"white\", \"gridwidth\": 2, \"linecolor\": \"white\", \"showbackground\": true, \"ticks\": \"\", \"zerolinecolor\": \"white\"}, \"yaxis\": {\"backgroundcolor\": \"#E5ECF6\", \"gridcolor\": \"white\", \"gridwidth\": 2, \"linecolor\": \"white\", \"showbackground\": true, \"ticks\": \"\", \"zerolinecolor\": \"white\"}, \"zaxis\": {\"backgroundcolor\": \"#E5ECF6\", \"gridcolor\": \"white\", \"gridwidth\": 2, \"linecolor\": \"white\", \"showbackground\": true, \"ticks\": \"\", \"zerolinecolor\": \"white\"}}, \"shapedefaults\": {\"line\": {\"color\": \"#2a3f5f\"}}, \"ternary\": {\"aaxis\": {\"gridcolor\": \"white\", \"linecolor\": \"white\", \"ticks\": \"\"}, \"baxis\": {\"gridcolor\": \"white\", \"linecolor\": \"white\", \"ticks\": \"\"}, \"bgcolor\": \"#E5ECF6\", \"caxis\": {\"gridcolor\": \"white\", \"linecolor\": \"white\", \"ticks\": \"\"}}, \"title\": {\"x\": 0.05}, \"xaxis\": {\"automargin\": true, \"gridcolor\": \"white\", \"linecolor\": \"white\", \"ticks\": \"\", \"title\": {\"standoff\": 15}, \"zerolinecolor\": \"white\", \"zerolinewidth\": 2}, \"yaxis\": {\"automargin\": true, \"gridcolor\": \"white\", \"linecolor\": \"white\", \"ticks\": \"\", \"title\": {\"standoff\": 15}, \"zerolinecolor\": \"white\", \"zerolinewidth\": 2}}}, \"ternary\": {\"aaxis\": {\"linecolor\": \"black\", \"showgrid\": false, \"tickcolor\": \"black\", \"ticks\": \"inside\", \"title\": {\"text\": \"NbTa\"}}, \"baxis\": {\"linecolor\": \"black\", \"showgrid\": false, \"tickcolor\": \"black\", \"ticks\": \"inside\", \"title\": {\"text\": \"TiSn\"}}, \"bgcolor\": \"white\", \"caxis\": {\"linecolor\": \"black\", \"showgrid\": false, \"tickcolor\": \"black\", \"ticks\": \"inside\", \"title\": {\"text\": \"FeMn\"}}, \"domain\": {\"x\": [0.0, 1.0], \"y\": [0.0, 1.0]}}},                        {\"responsive\": true}                    ).then(function(){\n",
       "                            \n",
       "var gd = document.getElementById('eb0b56dd-954e-498f-b2ee-377bc2370144');\n",
       "var x = new MutationObserver(function (mutations, observer) {{\n",
       "        var display = window.getComputedStyle(gd).display;\n",
       "        if (!display || display === 'none') {{\n",
       "            console.log([gd, 'removed!']);\n",
       "            Plotly.purge(gd);\n",
       "            observer.disconnect();\n",
       "        }}\n",
       "}});\n",
       "\n",
       "// Listen for the removal of the full notebook cells\n",
       "var notebookContainer = gd.closest('#notebook-container');\n",
       "if (notebookContainer) {{\n",
       "    x.observe(notebookContainer, {childList: true});\n",
       "}}\n",
       "\n",
       "// Listen for the clearing of the current output cell\n",
       "var outputEl = gd.closest('.output');\n",
       "if (outputEl) {{\n",
       "    x.observe(outputEl, {childList: true});\n",
       "}}\n",
       "\n",
       "                        })                };                });            </script>        </div>"
      ]
     },
     "metadata": {},
     "output_type": "display_data"
    }
   ],
   "source": [
    "# --- ternary plot of normalized subset\n",
    "\n",
    "fig2 = px.scatter_ternary(df_subset_normalized, a=A, b=B, c=C,\n",
    "                          color=\"Facies\",hover_data=['Comment'],symbol=\"Texture\")#,range_color=[1,5],color_continuous_scale='Inferno'))\n",
    "\n",
    "fig2.update_traces(marker=dict(size=10),\n",
    "                  selector=dict(mode='markers'))\n",
    "\n",
    "fig2.update_ternaries(bgcolor=\"white\")\n",
    "\n",
    "fig2.update_ternaries(aaxis_linecolor='black',aaxis_tickcolor='black',aaxis_ticks='inside',aaxis_showgrid=False,\n",
    "                      baxis_linecolor='black',baxis_tickcolor='black',baxis_ticks='inside',baxis_showgrid=False,\n",
    "                      caxis_linecolor='black',caxis_tickcolor='black',caxis_ticks='inside',caxis_showgrid=False)\n",
    "\n",
    "# fig2.update_ternaries(aaxis_min=0,baxis_min=0.7,caxis_min=0)\n",
    "# fig2.update_ternaries(aaxis_min=0.6,baxis_min=0,caxis_min=0.25)\n",
    "\n",
    "# fig2.write_image(\"CGM_ternary_NbTa-TiSn-FeMn.pdf\")\n",
    "fig2.show()"
   ]
  },
  {
   "cell_type": "code",
   "execution_count": null,
   "metadata": {},
   "outputs": [],
   "source": []
  }
 ],
 "metadata": {
  "kernelspec": {
   "display_name": "Python 3",
   "language": "python",
   "name": "python3"
  },
  "language_info": {
   "codemirror_mode": {
    "name": "ipython",
    "version": 3
   },
   "file_extension": ".py",
   "mimetype": "text/x-python",
   "name": "python",
   "nbconvert_exporter": "python",
   "pygments_lexer": "ipython3",
   "version": "3.7.1"
  }
 },
 "nbformat": 4,
 "nbformat_minor": 2
}
