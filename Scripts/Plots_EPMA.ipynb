{
 "cells": [
  {
   "cell_type": "code",
   "execution_count": 1,
   "metadata": {},
   "outputs": [],
   "source": [
    "# ---------------- plotting mineral chemistry data\n",
    "\n",
    "\n",
    "# --- import modules\n",
    "\n",
    "import numpy as np\n",
    "import pandas as pd\n",
    "import plotly.express as px\n",
    "import matplotlib.pyplot as plt\n",
    "from matplotlib.ticker import (MultipleLocator, AutoMinorLocator)\n",
    "# from matplotlib import gridspec\n",
    "import matplotlib.ticker as ticker"
   ]
  },
  {
   "cell_type": "code",
   "execution_count": 2,
   "metadata": {},
   "outputs": [
    {
     "data": {
      "text/html": [
       "<div>\n",
       "<style scoped>\n",
       "    .dataframe tbody tr th:only-of-type {\n",
       "        vertical-align: middle;\n",
       "    }\n",
       "\n",
       "    .dataframe tbody tr th {\n",
       "        vertical-align: top;\n",
       "    }\n",
       "\n",
       "    .dataframe thead th {\n",
       "        text-align: right;\n",
       "    }\n",
       "</style>\n",
       "<table border=\"1\" class=\"dataframe\">\n",
       "  <thead>\n",
       "    <tr style=\"text-align: right;\">\n",
       "      <th></th>\n",
       "      <th>Facies</th>\n",
       "      <th>Sample</th>\n",
       "      <th>Area</th>\n",
       "      <th>Comment</th>\n",
       "      <th>Mineral</th>\n",
       "      <th>Texture</th>\n",
       "      <th>Ta</th>\n",
       "      <th>Nb</th>\n",
       "      <th>Sn</th>\n",
       "      <th>Ti</th>\n",
       "      <th>...</th>\n",
       "      <th>Nb/Ta</th>\n",
       "      <th>Ti/NbTa</th>\n",
       "      <th>Ti/FeNbTa</th>\n",
       "      <th>Ti/Nb</th>\n",
       "      <th>Ti/Ta</th>\n",
       "      <th>Ti/Sn</th>\n",
       "      <th>Ta#</th>\n",
       "      <th>Mn#</th>\n",
       "      <th>FeMnNb2</th>\n",
       "      <th>FeMnTa2</th>\n",
       "    </tr>\n",
       "  </thead>\n",
       "  <tbody>\n",
       "    <tr>\n",
       "      <th>0</th>\n",
       "      <td>SAPN</td>\n",
       "      <td>BU04</td>\n",
       "      <td>Ore2</td>\n",
       "      <td>BU04-Rut2.2</td>\n",
       "      <td>Rutile</td>\n",
       "      <td>rim</td>\n",
       "      <td>0.884464</td>\n",
       "      <td>0.986626</td>\n",
       "      <td>0.137358</td>\n",
       "      <td>8.845526</td>\n",
       "      <td>...</td>\n",
       "      <td>1.115507</td>\n",
       "      <td>4.727471</td>\n",
       "      <td>2.866136</td>\n",
       "      <td>8.965428</td>\n",
       "      <td>10.000997</td>\n",
       "      <td>64.397800</td>\n",
       "      <td>0.472700</td>\n",
       "      <td>0.011497</td>\n",
       "      <td>3.202514</td>\n",
       "      <td>2.998191</td>\n",
       "    </tr>\n",
       "    <tr>\n",
       "      <th>1</th>\n",
       "      <td>SAPN</td>\n",
       "      <td>BU04</td>\n",
       "      <td>Ore2</td>\n",
       "      <td>BU04-Rut2.3</td>\n",
       "      <td>Rutile</td>\n",
       "      <td>core</td>\n",
       "      <td>0.527495</td>\n",
       "      <td>1.071525</td>\n",
       "      <td>0.141687</td>\n",
       "      <td>9.296263</td>\n",
       "      <td>...</td>\n",
       "      <td>2.031348</td>\n",
       "      <td>5.813724</td>\n",
       "      <td>3.574355</td>\n",
       "      <td>8.675727</td>\n",
       "      <td>17.623418</td>\n",
       "      <td>65.611266</td>\n",
       "      <td>0.329886</td>\n",
       "      <td>0.003365</td>\n",
       "      <td>3.148235</td>\n",
       "      <td>2.060174</td>\n",
       "    </tr>\n",
       "    <tr>\n",
       "      <th>2</th>\n",
       "      <td>SAPN</td>\n",
       "      <td>BU04</td>\n",
       "      <td>Ore2</td>\n",
       "      <td>BU04-Ore2_coltan1</td>\n",
       "      <td>0.0</td>\n",
       "      <td>rim</td>\n",
       "      <td>1.145953</td>\n",
       "      <td>2.195166</td>\n",
       "      <td>0.136091</td>\n",
       "      <td>6.316732</td>\n",
       "      <td>...</td>\n",
       "      <td>1.915582</td>\n",
       "      <td>1.890604</td>\n",
       "      <td>1.344581</td>\n",
       "      <td>2.877564</td>\n",
       "      <td>5.512209</td>\n",
       "      <td>46.415440</td>\n",
       "      <td>0.342985</td>\n",
       "      <td>0.245812</td>\n",
       "      <td>6.189351</td>\n",
       "      <td>4.090924</td>\n",
       "    </tr>\n",
       "    <tr>\n",
       "      <th>3</th>\n",
       "      <td>PAPN</td>\n",
       "      <td>BU19TS(1)</td>\n",
       "      <td>Ore1</td>\n",
       "      <td>BU19TS(1)-rutile1.3</td>\n",
       "      <td>Rutile</td>\n",
       "      <td>core</td>\n",
       "      <td>0.667969</td>\n",
       "      <td>0.130254</td>\n",
       "      <td>0.088939</td>\n",
       "      <td>10.367100</td>\n",
       "      <td>...</td>\n",
       "      <td>0.195000</td>\n",
       "      <td>12.987718</td>\n",
       "      <td>7.643243</td>\n",
       "      <td>79.591272</td>\n",
       "      <td>15.520327</td>\n",
       "      <td>116.564161</td>\n",
       "      <td>0.836820</td>\n",
       "      <td>0.033718</td>\n",
       "      <td>0.838136</td>\n",
       "      <td>1.913566</td>\n",
       "    </tr>\n",
       "    <tr>\n",
       "      <th>4</th>\n",
       "      <td>PAPN</td>\n",
       "      <td>BU19TS(1)</td>\n",
       "      <td>Ore1</td>\n",
       "      <td>BU19TS(1)-rutile1.4</td>\n",
       "      <td>Rutile</td>\n",
       "      <td>core</td>\n",
       "      <td>0.586710</td>\n",
       "      <td>0.164315</td>\n",
       "      <td>0.087896</td>\n",
       "      <td>10.507521</td>\n",
       "      <td>...</td>\n",
       "      <td>0.280062</td>\n",
       "      <td>13.990902</td>\n",
       "      <td>8.023885</td>\n",
       "      <td>63.947263</td>\n",
       "      <td>17.909229</td>\n",
       "      <td>119.544437</td>\n",
       "      <td>0.781212</td>\n",
       "      <td>0.034855</td>\n",
       "      <td>0.907306</td>\n",
       "      <td>1.752094</td>\n",
       "    </tr>\n",
       "    <tr>\n",
       "      <th>...</th>\n",
       "      <td>...</td>\n",
       "      <td>...</td>\n",
       "      <td>...</td>\n",
       "      <td>...</td>\n",
       "      <td>...</td>\n",
       "      <td>...</td>\n",
       "      <td>...</td>\n",
       "      <td>...</td>\n",
       "      <td>...</td>\n",
       "      <td>...</td>\n",
       "      <td>...</td>\n",
       "      <td>...</td>\n",
       "      <td>...</td>\n",
       "      <td>...</td>\n",
       "      <td>...</td>\n",
       "      <td>...</td>\n",
       "      <td>...</td>\n",
       "      <td>...</td>\n",
       "      <td>...</td>\n",
       "      <td>...</td>\n",
       "      <td>...</td>\n",
       "    </tr>\n",
       "    <tr>\n",
       "      <th>87</th>\n",
       "      <td>Albitized</td>\n",
       "      <td>BU24</td>\n",
       "      <td>Ore4</td>\n",
       "      <td>BU24-Ore4.3</td>\n",
       "      <td>CGM</td>\n",
       "      <td>core</td>\n",
       "      <td>0.571426</td>\n",
       "      <td>7.485975</td>\n",
       "      <td>0.008277</td>\n",
       "      <td>0.097147</td>\n",
       "      <td>...</td>\n",
       "      <td>13.100513</td>\n",
       "      <td>0.012057</td>\n",
       "      <td>0.008861</td>\n",
       "      <td>0.012977</td>\n",
       "      <td>0.170008</td>\n",
       "      <td>11.736680</td>\n",
       "      <td>0.070919</td>\n",
       "      <td>0.201634</td>\n",
       "      <td>18.611806</td>\n",
       "      <td>4.782708</td>\n",
       "    </tr>\n",
       "    <tr>\n",
       "      <th>88</th>\n",
       "      <td>Albitized</td>\n",
       "      <td>BU24</td>\n",
       "      <td>Ore4</td>\n",
       "      <td>BU24-Ore4.4</td>\n",
       "      <td>CGM</td>\n",
       "      <td>rim</td>\n",
       "      <td>1.217390</td>\n",
       "      <td>6.894730</td>\n",
       "      <td>0.002894</td>\n",
       "      <td>0.050825</td>\n",
       "      <td>...</td>\n",
       "      <td>5.663533</td>\n",
       "      <td>0.006265</td>\n",
       "      <td>0.004749</td>\n",
       "      <td>0.007372</td>\n",
       "      <td>0.041749</td>\n",
       "      <td>17.562259</td>\n",
       "      <td>0.150071</td>\n",
       "      <td>0.280358</td>\n",
       "      <td>17.387357</td>\n",
       "      <td>6.032678</td>\n",
       "    </tr>\n",
       "    <tr>\n",
       "      <th>89</th>\n",
       "      <td>Albitized</td>\n",
       "      <td>BU24</td>\n",
       "      <td>Ore4</td>\n",
       "      <td>BU24-Ore4.5</td>\n",
       "      <td>CGM</td>\n",
       "      <td>core</td>\n",
       "      <td>0.745160</td>\n",
       "      <td>7.271945</td>\n",
       "      <td>0.017678</td>\n",
       "      <td>0.146145</td>\n",
       "      <td>...</td>\n",
       "      <td>9.758901</td>\n",
       "      <td>0.018229</td>\n",
       "      <td>0.013539</td>\n",
       "      <td>0.020097</td>\n",
       "      <td>0.196125</td>\n",
       "      <td>8.267091</td>\n",
       "      <td>0.092946</td>\n",
       "      <td>0.233437</td>\n",
       "      <td>18.166981</td>\n",
       "      <td>5.113411</td>\n",
       "    </tr>\n",
       "    <tr>\n",
       "      <th>90</th>\n",
       "      <td>Albitized</td>\n",
       "      <td>BU24</td>\n",
       "      <td>Ore4</td>\n",
       "      <td>BU24-Ore4.6</td>\n",
       "      <td>CGM</td>\n",
       "      <td>rim</td>\n",
       "      <td>1.176759</td>\n",
       "      <td>6.932291</td>\n",
       "      <td>0.004441</td>\n",
       "      <td>0.056290</td>\n",
       "      <td>...</td>\n",
       "      <td>5.891003</td>\n",
       "      <td>0.006942</td>\n",
       "      <td>0.005132</td>\n",
       "      <td>0.008120</td>\n",
       "      <td>0.047835</td>\n",
       "      <td>12.676216</td>\n",
       "      <td>0.145117</td>\n",
       "      <td>0.206509</td>\n",
       "      <td>17.469471</td>\n",
       "      <td>5.958406</td>\n",
       "    </tr>\n",
       "    <tr>\n",
       "      <th>91</th>\n",
       "      <td>Albitized</td>\n",
       "      <td>BU24</td>\n",
       "      <td>Ore4</td>\n",
       "      <td>BU24-Ore4.7</td>\n",
       "      <td>CGM</td>\n",
       "      <td>core</td>\n",
       "      <td>0.807920</td>\n",
       "      <td>7.180186</td>\n",
       "      <td>0.017491</td>\n",
       "      <td>0.159604</td>\n",
       "      <td>...</td>\n",
       "      <td>8.887249</td>\n",
       "      <td>0.019980</td>\n",
       "      <td>0.014577</td>\n",
       "      <td>0.022228</td>\n",
       "      <td>0.197550</td>\n",
       "      <td>9.124938</td>\n",
       "      <td>0.101140</td>\n",
       "      <td>0.193600</td>\n",
       "      <td>18.032071</td>\n",
       "      <td>5.287538</td>\n",
       "    </tr>\n",
       "  </tbody>\n",
       "</table>\n",
       "<p>92 rows × 33 columns</p>\n",
       "</div>"
      ],
      "text/plain": [
       "       Facies     Sample  Area              Comment Mineral Texture        Ta  \\\n",
       "0        SAPN       BU04  Ore2          BU04-Rut2.2  Rutile     rim  0.884464   \n",
       "1        SAPN       BU04  Ore2          BU04-Rut2.3  Rutile    core  0.527495   \n",
       "2        SAPN       BU04  Ore2   BU04-Ore2_coltan1      0.0     rim  1.145953   \n",
       "3        PAPN  BU19TS(1)  Ore1  BU19TS(1)-rutile1.3  Rutile    core  0.667969   \n",
       "4        PAPN  BU19TS(1)  Ore1  BU19TS(1)-rutile1.4  Rutile    core  0.586710   \n",
       "..        ...        ...   ...                  ...     ...     ...       ...   \n",
       "87  Albitized       BU24  Ore4          BU24-Ore4.3     CGM    core  0.571426   \n",
       "88  Albitized       BU24  Ore4          BU24-Ore4.4     CGM     rim  1.217390   \n",
       "89  Albitized       BU24  Ore4          BU24-Ore4.5     CGM    core  0.745160   \n",
       "90  Albitized       BU24  Ore4          BU24-Ore4.6     CGM     rim  1.176759   \n",
       "91  Albitized       BU24  Ore4          BU24-Ore4.7     CGM    core  0.807920   \n",
       "\n",
       "          Nb        Sn         Ti  ...      Nb/Ta    Ti/NbTa  Ti/FeNbTa  \\\n",
       "0   0.986626  0.137358   8.845526  ...   1.115507   4.727471   2.866136   \n",
       "1   1.071525  0.141687   9.296263  ...   2.031348   5.813724   3.574355   \n",
       "2   2.195166  0.136091   6.316732  ...   1.915582   1.890604   1.344581   \n",
       "3   0.130254  0.088939  10.367100  ...   0.195000  12.987718   7.643243   \n",
       "4   0.164315  0.087896  10.507521  ...   0.280062  13.990902   8.023885   \n",
       "..       ...       ...        ...  ...        ...        ...        ...   \n",
       "87  7.485975  0.008277   0.097147  ...  13.100513   0.012057   0.008861   \n",
       "88  6.894730  0.002894   0.050825  ...   5.663533   0.006265   0.004749   \n",
       "89  7.271945  0.017678   0.146145  ...   9.758901   0.018229   0.013539   \n",
       "90  6.932291  0.004441   0.056290  ...   5.891003   0.006942   0.005132   \n",
       "91  7.180186  0.017491   0.159604  ...   8.887249   0.019980   0.014577   \n",
       "\n",
       "        Ti/Nb      Ti/Ta       Ti/Sn       Ta#       Mn#    FeMnNb2   FeMnTa2  \n",
       "0    8.965428  10.000997   64.397800  0.472700  0.011497   3.202514  2.998191  \n",
       "1    8.675727  17.623418   65.611266  0.329886  0.003365   3.148235  2.060174  \n",
       "2    2.877564   5.512209   46.415440  0.342985  0.245812   6.189351  4.090924  \n",
       "3   79.591272  15.520327  116.564161  0.836820  0.033718   0.838136  1.913566  \n",
       "4   63.947263  17.909229  119.544437  0.781212  0.034855   0.907306  1.752094  \n",
       "..        ...        ...         ...       ...       ...        ...       ...  \n",
       "87   0.012977   0.170008   11.736680  0.070919  0.201634  18.611806  4.782708  \n",
       "88   0.007372   0.041749   17.562259  0.150071  0.280358  17.387357  6.032678  \n",
       "89   0.020097   0.196125    8.267091  0.092946  0.233437  18.166981  5.113411  \n",
       "90   0.008120   0.047835   12.676216  0.145117  0.206509  17.469471  5.958406  \n",
       "91   0.022228   0.197550    9.124938  0.101140  0.193600  18.032071  5.287538  \n",
       "\n",
       "[92 rows x 33 columns]"
      ]
     },
     "execution_count": 2,
     "metadata": {},
     "output_type": "execute_result"
    }
   ],
   "source": [
    "# --- create dataframe from excel spreadsheet using pandas import command \n",
    "\n",
    "df_analysis = pd.read_csv('./_DATA/EPMA_apfu.csv', \n",
    "                          encoding = \"ANSI\")\n",
    "\n",
    "# --- fill with 0.0 data where there are no values \n",
    "\n",
    "df_analysis = df_analysis.fillna(0.0)\n",
    "\n",
    "# --- add relevant sums and ratios to dataframe  \n",
    "\n",
    "df_analysis['NbTa'] = df_analysis['Nb'] + df_analysis['Ta']\n",
    "df_analysis['FeMn'] = df_analysis['Fe'] + df_analysis['Mn']\n",
    "df_analysis['TiSn'] = df_analysis['Ti'] + df_analysis['Sn']\n",
    "df_analysis['FeTa'] = df_analysis['Fe'] + df_analysis['Ta']\n",
    "df_analysis['MnNb'] = df_analysis['Mn'] + df_analysis['Nb']\n",
    "df_analysis['FeNbTa'] = df_analysis['Fe'] + df_analysis['Nb'] + df_analysis['Ta']\n",
    "\n",
    "df_analysis['Fe/Mn'] = df_analysis['Fe'] / df_analysis['Mn']\n",
    "df_analysis['Nb/Ta'] = df_analysis['Nb'] / df_analysis['Ta']\n",
    "df_analysis['Ti/NbTa'] = df_analysis['Ti'] / df_analysis['NbTa']\n",
    "df_analysis['Ti/FeNbTa'] = df_analysis['Ti'] / df_analysis['FeNbTa']\n",
    "df_analysis['Ti/Nb'] = df_analysis['Ti'] / df_analysis['Nb']\n",
    "df_analysis['Ti/Ta'] = df_analysis['Ti'] / df_analysis['Ta']\n",
    "df_analysis['Ti/Sn'] = df_analysis['Ti'] / df_analysis['Sn']\n",
    "df_analysis['Ta#'] = df_analysis['Ta'] / df_analysis['NbTa']\n",
    "df_analysis['Mn#'] = df_analysis['Mn'] / df_analysis['FeMn']\n",
    "\n",
    "df_analysis['FeMnNb2'] = df_analysis['FeMn'] + (2*df_analysis['Nb'])\n",
    "df_analysis['FeMnTa2'] = df_analysis['FeMn'] + (2*df_analysis['Ta'])\n",
    "# df_analysis['TiSn3'] = df_analysis['TiSn'] * 3\n",
    "\n",
    "\n",
    "\n",
    "df_analysis"
   ]
  },
  {
   "cell_type": "code",
   "execution_count": 48,
   "metadata": {},
   "outputs": [
    {
     "data": {
      "text/plain": [
       "Index(['Sample', 'Area', 'Comment', 'Mineral', 'Texture', 'Ta', 'Nb', 'Sn',\n",
       "       'Ti', 'Al', 'Fe', 'Mn', 'Ca', 'Mg', 'Sum', 'NbTa', 'FeMn', 'TiSn',\n",
       "       'FeTa', 'MnNb', 'FeNbTa', 'Fe/Mn', 'Nb/Ta', 'Ti/NbTa', 'Ti/FeNbTa',\n",
       "       'Ti/Nb', 'Ti/Ta', 'Ti/Sn', 'Ta#', 'Mn#', 'FeMnNb2', 'FeMnTa2'],\n",
       "      dtype='object')"
      ]
     },
     "execution_count": 48,
     "metadata": {},
     "output_type": "execute_result"
    }
   ],
   "source": [
    "# --- print the colums of the imported dataframe - can be changed if necessary\n",
    "\n",
    "df_analysis.columns\n"
   ]
  },
  {
   "cell_type": "code",
   "execution_count": 3,
   "metadata": {},
   "outputs": [
    {
     "data": {
      "text/html": [
       "<div>\n",
       "<style scoped>\n",
       "    .dataframe tbody tr th:only-of-type {\n",
       "        vertical-align: middle;\n",
       "    }\n",
       "\n",
       "    .dataframe tbody tr th {\n",
       "        vertical-align: top;\n",
       "    }\n",
       "\n",
       "    .dataframe thead th {\n",
       "        text-align: right;\n",
       "    }\n",
       "</style>\n",
       "<table border=\"1\" class=\"dataframe\">\n",
       "  <thead>\n",
       "    <tr style=\"text-align: right;\">\n",
       "      <th></th>\n",
       "      <th>Facies</th>\n",
       "      <th>Sample</th>\n",
       "      <th>Area</th>\n",
       "      <th>Comment</th>\n",
       "      <th>Mineral</th>\n",
       "      <th>Texture</th>\n",
       "      <th>Ta</th>\n",
       "      <th>Nb</th>\n",
       "      <th>Sn</th>\n",
       "      <th>Ti</th>\n",
       "      <th>...</th>\n",
       "      <th>Nb/Ta</th>\n",
       "      <th>Ti/NbTa</th>\n",
       "      <th>Ti/FeNbTa</th>\n",
       "      <th>Ti/Nb</th>\n",
       "      <th>Ti/Ta</th>\n",
       "      <th>Ti/Sn</th>\n",
       "      <th>Ta#</th>\n",
       "      <th>Mn#</th>\n",
       "      <th>FeMnNb2</th>\n",
       "      <th>FeMnTa2</th>\n",
       "    </tr>\n",
       "  </thead>\n",
       "  <tbody>\n",
       "    <tr>\n",
       "      <th>49</th>\n",
       "      <td>SAPN</td>\n",
       "      <td>BU04</td>\n",
       "      <td>Ore1</td>\n",
       "      <td>BU04-Ore1.2</td>\n",
       "      <td>CGM</td>\n",
       "      <td>patchy</td>\n",
       "      <td>0.466072</td>\n",
       "      <td>7.472722</td>\n",
       "      <td>0.008767</td>\n",
       "      <td>0.153555</td>\n",
       "      <td>...</td>\n",
       "      <td>16.033406</td>\n",
       "      <td>0.019342</td>\n",
       "      <td>0.016018</td>\n",
       "      <td>0.020549</td>\n",
       "      <td>0.329466</td>\n",
       "      <td>17.515210</td>\n",
       "      <td>0.058708</td>\n",
       "      <td>0.538076</td>\n",
       "      <td>18.512792</td>\n",
       "      <td>4.499492</td>\n",
       "    </tr>\n",
       "    <tr>\n",
       "      <th>50</th>\n",
       "      <td>SAPN</td>\n",
       "      <td>BU04</td>\n",
       "      <td>Ore1</td>\n",
       "      <td>BU04-Ore1.3</td>\n",
       "      <td>CGM</td>\n",
       "      <td>rim</td>\n",
       "      <td>2.022168</td>\n",
       "      <td>5.918416</td>\n",
       "      <td>0.054250</td>\n",
       "      <td>0.246380</td>\n",
       "      <td>...</td>\n",
       "      <td>2.926768</td>\n",
       "      <td>0.031028</td>\n",
       "      <td>0.024525</td>\n",
       "      <td>0.041629</td>\n",
       "      <td>0.121839</td>\n",
       "      <td>4.541556</td>\n",
       "      <td>0.254662</td>\n",
       "      <td>0.402690</td>\n",
       "      <td>15.361806</td>\n",
       "      <td>7.569309</td>\n",
       "    </tr>\n",
       "    <tr>\n",
       "      <th>51</th>\n",
       "      <td>SAPN</td>\n",
       "      <td>BU04</td>\n",
       "      <td>Ore1</td>\n",
       "      <td>BU04-Ore1.4</td>\n",
       "      <td>CGM</td>\n",
       "      <td>rim</td>\n",
       "      <td>1.772520</td>\n",
       "      <td>6.142570</td>\n",
       "      <td>0.053359</td>\n",
       "      <td>0.288386</td>\n",
       "      <td>...</td>\n",
       "      <td>3.465445</td>\n",
       "      <td>0.036435</td>\n",
       "      <td>0.029767</td>\n",
       "      <td>0.046949</td>\n",
       "      <td>0.162698</td>\n",
       "      <td>5.404626</td>\n",
       "      <td>0.223942</td>\n",
       "      <td>0.495575</td>\n",
       "      <td>15.799887</td>\n",
       "      <td>7.059786</td>\n",
       "    </tr>\n",
       "    <tr>\n",
       "      <th>52</th>\n",
       "      <td>SAPN</td>\n",
       "      <td>BU04</td>\n",
       "      <td>Ore1</td>\n",
       "      <td>BU04-Ore1.5</td>\n",
       "      <td>CGM</td>\n",
       "      <td>core</td>\n",
       "      <td>1.287844</td>\n",
       "      <td>6.602564</td>\n",
       "      <td>0.048372</td>\n",
       "      <td>0.290295</td>\n",
       "      <td>...</td>\n",
       "      <td>5.126834</td>\n",
       "      <td>0.036791</td>\n",
       "      <td>0.029673</td>\n",
       "      <td>0.043967</td>\n",
       "      <td>0.225411</td>\n",
       "      <td>6.001232</td>\n",
       "      <td>0.163216</td>\n",
       "      <td>0.467185</td>\n",
       "      <td>16.757176</td>\n",
       "      <td>6.127736</td>\n",
       "    </tr>\n",
       "    <tr>\n",
       "      <th>53</th>\n",
       "      <td>SAPN</td>\n",
       "      <td>BU04</td>\n",
       "      <td>Ore1</td>\n",
       "      <td>BU04-Ore1.6</td>\n",
       "      <td>CGM</td>\n",
       "      <td>core</td>\n",
       "      <td>1.135891</td>\n",
       "      <td>6.667312</td>\n",
       "      <td>0.049988</td>\n",
       "      <td>0.362492</td>\n",
       "      <td>...</td>\n",
       "      <td>5.869674</td>\n",
       "      <td>0.046454</td>\n",
       "      <td>0.037023</td>\n",
       "      <td>0.054369</td>\n",
       "      <td>0.319125</td>\n",
       "      <td>7.251505</td>\n",
       "      <td>0.145567</td>\n",
       "      <td>0.454065</td>\n",
       "      <td>16.975471</td>\n",
       "      <td>5.912629</td>\n",
       "    </tr>\n",
       "    <tr>\n",
       "      <th>54</th>\n",
       "      <td>SAPN</td>\n",
       "      <td>BU04</td>\n",
       "      <td>Ore1</td>\n",
       "      <td>BU04-Ore1.7</td>\n",
       "      <td>CGM</td>\n",
       "      <td>core</td>\n",
       "      <td>1.189445</td>\n",
       "      <td>6.641517</td>\n",
       "      <td>0.052916</td>\n",
       "      <td>0.374190</td>\n",
       "      <td>...</td>\n",
       "      <td>5.583712</td>\n",
       "      <td>0.047783</td>\n",
       "      <td>0.038075</td>\n",
       "      <td>0.056341</td>\n",
       "      <td>0.314592</td>\n",
       "      <td>7.071456</td>\n",
       "      <td>0.151890</td>\n",
       "      <td>0.439727</td>\n",
       "      <td>16.846752</td>\n",
       "      <td>5.942607</td>\n",
       "    </tr>\n",
       "    <tr>\n",
       "      <th>55</th>\n",
       "      <td>SAPN</td>\n",
       "      <td>BU04</td>\n",
       "      <td>Ore1</td>\n",
       "      <td>BU04-Ore1.8</td>\n",
       "      <td>CGM</td>\n",
       "      <td>patchy</td>\n",
       "      <td>1.264223</td>\n",
       "      <td>6.691182</td>\n",
       "      <td>0.043869</td>\n",
       "      <td>0.226340</td>\n",
       "      <td>...</td>\n",
       "      <td>5.292722</td>\n",
       "      <td>0.028451</td>\n",
       "      <td>0.023189</td>\n",
       "      <td>0.033827</td>\n",
       "      <td>0.179035</td>\n",
       "      <td>5.159460</td>\n",
       "      <td>0.158914</td>\n",
       "      <td>0.493716</td>\n",
       "      <td>16.948267</td>\n",
       "      <td>6.094350</td>\n",
       "    </tr>\n",
       "    <tr>\n",
       "      <th>56</th>\n",
       "      <td>SAPN</td>\n",
       "      <td>BU04</td>\n",
       "      <td>Ore1</td>\n",
       "      <td>BU04-Ore1.9</td>\n",
       "      <td>CGM</td>\n",
       "      <td>rim</td>\n",
       "      <td>1.334753</td>\n",
       "      <td>6.464730</td>\n",
       "      <td>0.080045</td>\n",
       "      <td>0.384291</td>\n",
       "      <td>...</td>\n",
       "      <td>4.843392</td>\n",
       "      <td>0.049271</td>\n",
       "      <td>0.039683</td>\n",
       "      <td>0.059444</td>\n",
       "      <td>0.287912</td>\n",
       "      <td>4.800946</td>\n",
       "      <td>0.171133</td>\n",
       "      <td>0.468990</td>\n",
       "      <td>16.478509</td>\n",
       "      <td>6.218553</td>\n",
       "    </tr>\n",
       "    <tr>\n",
       "      <th>57</th>\n",
       "      <td>SAPN</td>\n",
       "      <td>BU04</td>\n",
       "      <td>Ore1</td>\n",
       "      <td>BU04-Ore1.10</td>\n",
       "      <td>CGM</td>\n",
       "      <td>patchy</td>\n",
       "      <td>1.460144</td>\n",
       "      <td>6.579704</td>\n",
       "      <td>0.024125</td>\n",
       "      <td>0.128334</td>\n",
       "      <td>...</td>\n",
       "      <td>4.506203</td>\n",
       "      <td>0.015962</td>\n",
       "      <td>0.013074</td>\n",
       "      <td>0.019504</td>\n",
       "      <td>0.087891</td>\n",
       "      <td>5.319533</td>\n",
       "      <td>0.181613</td>\n",
       "      <td>0.505223</td>\n",
       "      <td>16.749795</td>\n",
       "      <td>6.510674</td>\n",
       "    </tr>\n",
       "  </tbody>\n",
       "</table>\n",
       "<p>9 rows × 33 columns</p>\n",
       "</div>"
      ],
      "text/plain": [
       "   Facies Sample  Area        Comment Mineral Texture        Ta        Nb  \\\n",
       "49   SAPN   BU04  Ore1   BU04-Ore1.2      CGM  patchy  0.466072  7.472722   \n",
       "50   SAPN   BU04  Ore1   BU04-Ore1.3      CGM     rim  2.022168  5.918416   \n",
       "51   SAPN   BU04  Ore1   BU04-Ore1.4      CGM     rim  1.772520  6.142570   \n",
       "52   SAPN   BU04  Ore1   BU04-Ore1.5      CGM    core  1.287844  6.602564   \n",
       "53   SAPN   BU04  Ore1   BU04-Ore1.6      CGM    core  1.135891  6.667312   \n",
       "54   SAPN   BU04  Ore1   BU04-Ore1.7      CGM    core  1.189445  6.641517   \n",
       "55   SAPN   BU04  Ore1   BU04-Ore1.8      CGM  patchy  1.264223  6.691182   \n",
       "56   SAPN   BU04  Ore1   BU04-Ore1.9      CGM     rim  1.334753  6.464730   \n",
       "57   SAPN   BU04  Ore1  BU04-Ore1.10      CGM  patchy  1.460144  6.579704   \n",
       "\n",
       "          Sn        Ti  ...      Nb/Ta   Ti/NbTa  Ti/FeNbTa     Ti/Nb  \\\n",
       "49  0.008767  0.153555  ...  16.033406  0.019342   0.016018  0.020549   \n",
       "50  0.054250  0.246380  ...   2.926768  0.031028   0.024525  0.041629   \n",
       "51  0.053359  0.288386  ...   3.465445  0.036435   0.029767  0.046949   \n",
       "52  0.048372  0.290295  ...   5.126834  0.036791   0.029673  0.043967   \n",
       "53  0.049988  0.362492  ...   5.869674  0.046454   0.037023  0.054369   \n",
       "54  0.052916  0.374190  ...   5.583712  0.047783   0.038075  0.056341   \n",
       "55  0.043869  0.226340  ...   5.292722  0.028451   0.023189  0.033827   \n",
       "56  0.080045  0.384291  ...   4.843392  0.049271   0.039683  0.059444   \n",
       "57  0.024125  0.128334  ...   4.506203  0.015962   0.013074  0.019504   \n",
       "\n",
       "       Ti/Ta      Ti/Sn       Ta#       Mn#    FeMnNb2   FeMnTa2  \n",
       "49  0.329466  17.515210  0.058708  0.538076  18.512792  4.499492  \n",
       "50  0.121839   4.541556  0.254662  0.402690  15.361806  7.569309  \n",
       "51  0.162698   5.404626  0.223942  0.495575  15.799887  7.059786  \n",
       "52  0.225411   6.001232  0.163216  0.467185  16.757176  6.127736  \n",
       "53  0.319125   7.251505  0.145567  0.454065  16.975471  5.912629  \n",
       "54  0.314592   7.071456  0.151890  0.439727  16.846752  5.942607  \n",
       "55  0.179035   5.159460  0.158914  0.493716  16.948267  6.094350  \n",
       "56  0.287912   4.800946  0.171133  0.468990  16.478509  6.218553  \n",
       "57  0.087891   5.319533  0.181613  0.505223  16.749795  6.510674  \n",
       "\n",
       "[9 rows x 33 columns]"
      ]
     },
     "execution_count": 3,
     "metadata": {},
     "output_type": "execute_result"
    }
   ],
   "source": [
    "# --- filter the dataframe to specific conditions\n",
    "\n",
    "df_query = df_analysis.query('Sample == \"BU04\"').query('Area==\"Ore1\"')\n",
    "# df_query = df_analysis.query('Mineral == \"Rutile\"')\n",
    "\n",
    "df_query\n"
   ]
  },
  {
   "cell_type": "code",
   "execution_count": 96,
   "metadata": {},
   "outputs": [
    {
     "data": {
      "application/vnd.plotly.v1+json": {
       "config": {
        "plotlyServerURL": "https://plot.ly"
       },
       "data": [
        {
         "customdata": [
          [
           "BU04",
           "BU04-Rut2.2"
          ]
         ],
         "hovertemplate": "Sample=%{customdata[0]}<br>Texture=rim<br>Fe=%{x}<br>Nb/Ta=%{y}<br>Comment=%{customdata[1]}<extra></extra>",
         "legendgroup": "BU04, rim",
         "marker": {
          "color": "#636efa",
          "size": 10,
          "symbol": "circle"
         },
         "mode": "markers",
         "name": "BU04, rim",
         "orientation": "v",
         "showlegend": true,
         "textposition": "top center",
         "type": "scatter",
         "x": [
          1.2151293668835066
         ],
         "xaxis": "x",
         "y": [
          1.1155069658378411
         ],
         "yaxis": "y"
        },
        {
         "customdata": [
          [
           "BU04",
           "BU04-Rut2.3"
          ]
         ],
         "hovertemplate": "Sample=%{customdata[0]}<br>Texture=core<br>Fe=%{x}<br>Nb/Ta=%{y}<br>Comment=%{customdata[1]}<extra></extra>",
         "legendgroup": "BU04, core",
         "marker": {
          "color": "#636efa",
          "size": 10,
          "symbol": "diamond"
         },
         "mode": "markers",
         "name": "BU04, core",
         "orientation": "v",
         "showlegend": true,
         "textposition": "top center",
         "type": "scatter",
         "x": [
          1.0018021395431518
         ],
         "xaxis": "x",
         "y": [
          2.031347635747489
         ],
         "yaxis": "y"
        },
        {
         "customdata": [
          [
           "BU19TS(1)",
           "BU19TS(1)-Rut2.2"
          ]
         ],
         "hovertemplate": "Sample=%{customdata[0]}<br>Texture=rim<br>Fe=%{x}<br>Nb/Ta=%{y}<br>Comment=%{customdata[1]}<extra></extra>",
         "legendgroup": "BU19TS(1), rim",
         "marker": {
          "color": "#EF553B",
          "size": 10,
          "symbol": "circle"
         },
         "mode": "markers",
         "name": "BU19TS(1), rim",
         "orientation": "v",
         "showlegend": true,
         "textposition": "top center",
         "type": "scatter",
         "x": [
          0.3594855819447116
         ],
         "xaxis": "x",
         "y": [
          0.6889699109065623
         ],
         "yaxis": "y"
        },
        {
         "customdata": [
          [
           "BU19TS(1)",
           "BU19TS(1)-rutile1.3"
          ],
          [
           "BU19TS(1)",
           "BU19TS(1)-rutile1.4"
          ],
          [
           "BU19TS(1)",
           "BU19TS(1)-Rut2.1"
          ]
         ],
         "hovertemplate": "Sample=%{customdata[0]}<br>Texture=core<br>Fe=%{x}<br>Nb/Ta=%{y}<br>Comment=%{customdata[1]}<extra></extra>",
         "legendgroup": "BU19TS(1), core",
         "marker": {
          "color": "#EF553B",
          "size": 10,
          "symbol": "diamond"
         },
         "mode": "markers",
         "name": "BU19TS(1), core",
         "orientation": "v",
         "showlegend": true,
         "textposition": "top center",
         "type": "scatter",
         "x": [
          0.5581511259244258,
          0.5585050041013496,
          0.4172802521167354
         ],
         "xaxis": "x",
         "y": [
          0.19500036660519707,
          0.28006247848008203,
          0.5226996413303673
         ],
         "yaxis": "y"
        },
        {
         "customdata": [
          [
           "BU19TS(2)",
           "BU19TS(2)-ore1.3"
          ],
          [
           "BU19TS(2)",
           "BU19TS(2)-ore1.5"
          ],
          [
           "BU19TS(2)",
           "BU19TS(2)-ore2.1"
          ],
          [
           "BU19TS(2)",
           "BU19TS(2)-ore2.5"
          ],
          [
           "BU19TS(2)",
           "BU19TS(2)-ore3a.3"
          ],
          [
           "BU19TS(2)",
           "BU19TS(2)-ore3b.2"
          ],
          [
           "BU19TS(2)",
           "BU19TS(2)-ore3d.1"
          ]
         ],
         "hovertemplate": "Sample=%{customdata[0]}<br>Texture=rim<br>Fe=%{x}<br>Nb/Ta=%{y}<br>Comment=%{customdata[1]}<extra></extra>",
         "legendgroup": "BU19TS(2), rim",
         "marker": {
          "color": "#00cc96",
          "size": 10,
          "symbol": "circle"
         },
         "mode": "markers",
         "name": "BU19TS(2), rim",
         "orientation": "v",
         "showlegend": true,
         "textposition": "top center",
         "type": "scatter",
         "x": [
          0.855352371280698,
          0.7648875467069519,
          1.16569973517368,
          0.9753468441512416,
          0.7385216288660779,
          0.6509053158205313,
          0.6204401050959462
         ],
         "xaxis": "x",
         "y": [
          0.9300457379641203,
          1.286128239000306,
          0.5051858667609143,
          0.7490371570197215,
          2.9962578416987933,
          6.18025183526172,
          3.5192445261626637
         ],
         "yaxis": "y"
        },
        {
         "customdata": [
          [
           "BU19TS(2)",
           "BU19TS(2)-ore1.2"
          ],
          [
           "BU19TS(2)",
           "BU19TS(2)-ore1.4"
          ],
          [
           "BU19TS(2)",
           "BU19TS(2)-ore2.2"
          ],
          [
           "BU19TS(2)",
           "BU19TS(2)-ore2.3"
          ],
          [
           "BU19TS(2)",
           "BU19TS(2)-ore3a.1"
          ],
          [
           "BU19TS(2)",
           "BU19TS(2)-ore3a.2"
          ],
          [
           "BU19TS(2)",
           "BU19TS(2)-ore3b.1"
          ],
          [
           "BU19TS(2)",
           "BU19TS(2)-ore3c.1"
          ],
          [
           "BU19TS(2)",
           "BU19TS(2)-ore3c.2"
          ],
          [
           "BU19TS(2)",
           "BU19TS(2)-ore3d.2"
          ],
          [
           "BU19TS(2)",
           "BU19TS(2)-ore3d.3"
          ],
          [
           "BU19TS(2)",
           "BU19TS(2)-Ore4.1"
          ],
          [
           "BU19TS(2)",
           "BU19TS(2)-Ore4.2"
          ],
          [
           "BU19TS(2)",
           "BU19TS(2)-Ore4.4"
          ]
         ],
         "hovertemplate": "Sample=%{customdata[0]}<br>Texture=core<br>Fe=%{x}<br>Nb/Ta=%{y}<br>Comment=%{customdata[1]}<extra></extra>",
         "legendgroup": "BU19TS(2), core",
         "marker": {
          "color": "#00cc96",
          "size": 10,
          "symbol": "diamond"
         },
         "mode": "markers",
         "name": "BU19TS(2), core",
         "orientation": "v",
         "showlegend": true,
         "textposition": "top center",
         "type": "scatter",
         "x": [
          0.7339445043769409,
          0.6829411338805579,
          0.5850861253222761,
          0.826460143719148,
          0.7295785639727616,
          0.7839779202908228,
          0.6470814873807827,
          0.7133183583416024,
          0.8717216660963764,
          0.6124699785500395,
          0.8182034083244514,
          0.6646317118213798,
          0.993211427745378,
          0.7126936353707517
         ],
         "xaxis": "x",
         "y": [
          1.7349051609691544,
          2.090419137563655,
          7.090557780136635,
          4.467429229139181,
          3.300551281562191,
          3.5383719429025295,
          5.637262737853148,
          3.7502953077424346,
          3.3391495394210424,
          3.3374978082462863,
          2.411575605897954,
          3.8825335376829804,
          2.0973476513121154,
          3.1122071864587144
         ],
         "yaxis": "y"
        },
        {
         "customdata": [
          [
           "BU19TS(2)",
           "BU19TS(2)-ore1.1"
          ],
          [
           "BU19TS(2)",
           "BU19TS(2)-ore1.6"
          ],
          [
           "BU19TS(2)",
           "BU19TS(2)-ore2.4"
          ],
          [
           "BU19TS(2)",
           "BU19TS(2)-Ore4.3"
          ]
         ],
         "hovertemplate": "Sample=%{customdata[0]}<br>Texture=patchy<br>Fe=%{x}<br>Nb/Ta=%{y}<br>Comment=%{customdata[1]}<extra></extra>",
         "legendgroup": "BU19TS(2), patchy",
         "marker": {
          "color": "#00cc96",
          "size": 10,
          "symbol": "square"
         },
         "mode": "markers",
         "name": "BU19TS(2), patchy",
         "orientation": "v",
         "showlegend": true,
         "textposition": "top center",
         "type": "scatter",
         "x": [
          0.970157967570045,
          0.7882544822040055,
          0.958016105417911,
          0.7628727541906367
         ],
         "xaxis": "x",
         "y": [
          0.6947851997050616,
          1.2525908061792463,
          0.7733094514972219,
          3.002781951461691
         ],
         "yaxis": "y"
        },
        {
         "customdata": [
          [
           "BU19w",
           "BU19w-Rut2.5 "
          ],
          [
           "BU19w",
           "BU19w-Rut2.8 "
          ],
          [
           "BU19w",
           "BU19w-Rut3.2 "
          ],
          [
           "BU19w",
           "BU19w-Rut3.4 "
          ],
          [
           "BU19w",
           "BU19w-Rut4.1 "
          ],
          [
           "BU19w",
           "BU19w-Area7_ore.3 "
          ]
         ],
         "hovertemplate": "Sample=%{customdata[0]}<br>Texture=rim<br>Fe=%{x}<br>Nb/Ta=%{y}<br>Comment=%{customdata[1]}<extra></extra>",
         "legendgroup": "BU19w, rim",
         "marker": {
          "color": "#ab63fa",
          "size": 10,
          "symbol": "circle"
         },
         "mode": "markers",
         "name": "BU19w, rim",
         "orientation": "v",
         "showlegend": true,
         "textposition": "top center",
         "type": "scatter",
         "x": [
          0.7012434537361568,
          0.715785152770774,
          0.8893727928646568,
          0.8492593711882573,
          0.506941324117942,
          0.7047371470442504
         ],
         "xaxis": "x",
         "y": [
          0.9535898155082217,
          0.8659464383151939,
          1.4128338537806588,
          1.040177234921175,
          1.3538121587671132,
          2.24381330285441
         ],
         "yaxis": "y"
        },
        {
         "customdata": [
          [
           "BU19w",
           "BU19w-Rut2.1"
          ],
          [
           "BU19w",
           "BU19w-Rut2.2"
          ],
          [
           "BU19w",
           "BU19w-Rut2.4 "
          ],
          [
           "BU19w",
           "BU19w-Rut2.6 "
          ],
          [
           "BU19w",
           "BU19w-Rut2.7 "
          ],
          [
           "BU19w",
           "BU19w-Rut2b.2 "
          ],
          [
           "BU19w",
           "BU19w-Rut2b.4 "
          ],
          [
           "BU19w",
           "BU19w-Rut2b.5 "
          ],
          [
           "BU19w",
           "BU19w-Rut4.2 "
          ],
          [
           "BU19w",
           "BU19w-Area7_ore.2 "
          ]
         ],
         "hovertemplate": "Sample=%{customdata[0]}<br>Texture=core<br>Fe=%{x}<br>Nb/Ta=%{y}<br>Comment=%{customdata[1]}<extra></extra>",
         "legendgroup": "BU19w, core",
         "marker": {
          "color": "#ab63fa",
          "size": 10,
          "symbol": "diamond"
         },
         "mode": "markers",
         "name": "BU19w, core",
         "orientation": "v",
         "showlegend": true,
         "textposition": "top center",
         "type": "scatter",
         "x": [
          0.3621920320564278,
          0.7411743807352389,
          0.2577445577479115,
          0.5590713634348902,
          0.4371002414079008,
          0.2155798472075769,
          0.3985429382755086,
          0.3064334707886075,
          0.3110006104342348,
          0.5895771210867035
         ],
         "xaxis": "x",
         "y": [
          5.971011712807137,
          0.8477069239882351,
          8.73307002302784,
          1.1928477501553192,
          2.3701283291352078,
          4.240695177657321,
          4.516817664823041,
          3.8262504133705257,
          1.1512028057274113,
          2.020116284049472
         ],
         "yaxis": "y"
        },
        {
         "customdata": [
          [
           "BU19w",
           "BU19w-Rut4.3 "
          ]
         ],
         "hovertemplate": "Sample=%{customdata[0]}<br>Texture=patchy<br>Fe=%{x}<br>Nb/Ta=%{y}<br>Comment=%{customdata[1]}<extra></extra>",
         "legendgroup": "BU19w, patchy",
         "marker": {
          "color": "#ab63fa",
          "size": 10,
          "symbol": "square"
         },
         "mode": "markers",
         "name": "BU19w, patchy",
         "orientation": "v",
         "showlegend": true,
         "textposition": "top center",
         "type": "scatter",
         "x": [
          0.6785865483843535
         ],
         "xaxis": "x",
         "y": [
          1.3018238185392441
         ],
         "yaxis": "y"
        }
       ],
       "layout": {
        "font": {
         "color": "black",
         "family": "Arial",
         "size": 16
        },
        "height": 600,
        "legend": {
         "title": {
          "text": "Sample, Texture"
         },
         "tracegroupgap": 0
        },
        "margin": {
         "t": 60
        },
        "plot_bgcolor": "white",
        "template": {
         "data": {
          "bar": [
           {
            "error_x": {
             "color": "#2a3f5f"
            },
            "error_y": {
             "color": "#2a3f5f"
            },
            "marker": {
             "line": {
              "color": "#E5ECF6",
              "width": 0.5
             }
            },
            "type": "bar"
           }
          ],
          "barpolar": [
           {
            "marker": {
             "line": {
              "color": "#E5ECF6",
              "width": 0.5
             }
            },
            "type": "barpolar"
           }
          ],
          "carpet": [
           {
            "aaxis": {
             "endlinecolor": "#2a3f5f",
             "gridcolor": "white",
             "linecolor": "white",
             "minorgridcolor": "white",
             "startlinecolor": "#2a3f5f"
            },
            "baxis": {
             "endlinecolor": "#2a3f5f",
             "gridcolor": "white",
             "linecolor": "white",
             "minorgridcolor": "white",
             "startlinecolor": "#2a3f5f"
            },
            "type": "carpet"
           }
          ],
          "choropleth": [
           {
            "colorbar": {
             "outlinewidth": 0,
             "ticks": ""
            },
            "type": "choropleth"
           }
          ],
          "contour": [
           {
            "colorbar": {
             "outlinewidth": 0,
             "ticks": ""
            },
            "colorscale": [
             [
              0,
              "#0d0887"
             ],
             [
              0.1111111111111111,
              "#46039f"
             ],
             [
              0.2222222222222222,
              "#7201a8"
             ],
             [
              0.3333333333333333,
              "#9c179e"
             ],
             [
              0.4444444444444444,
              "#bd3786"
             ],
             [
              0.5555555555555556,
              "#d8576b"
             ],
             [
              0.6666666666666666,
              "#ed7953"
             ],
             [
              0.7777777777777778,
              "#fb9f3a"
             ],
             [
              0.8888888888888888,
              "#fdca26"
             ],
             [
              1,
              "#f0f921"
             ]
            ],
            "type": "contour"
           }
          ],
          "contourcarpet": [
           {
            "colorbar": {
             "outlinewidth": 0,
             "ticks": ""
            },
            "type": "contourcarpet"
           }
          ],
          "heatmap": [
           {
            "colorbar": {
             "outlinewidth": 0,
             "ticks": ""
            },
            "colorscale": [
             [
              0,
              "#0d0887"
             ],
             [
              0.1111111111111111,
              "#46039f"
             ],
             [
              0.2222222222222222,
              "#7201a8"
             ],
             [
              0.3333333333333333,
              "#9c179e"
             ],
             [
              0.4444444444444444,
              "#bd3786"
             ],
             [
              0.5555555555555556,
              "#d8576b"
             ],
             [
              0.6666666666666666,
              "#ed7953"
             ],
             [
              0.7777777777777778,
              "#fb9f3a"
             ],
             [
              0.8888888888888888,
              "#fdca26"
             ],
             [
              1,
              "#f0f921"
             ]
            ],
            "type": "heatmap"
           }
          ],
          "heatmapgl": [
           {
            "colorbar": {
             "outlinewidth": 0,
             "ticks": ""
            },
            "colorscale": [
             [
              0,
              "#0d0887"
             ],
             [
              0.1111111111111111,
              "#46039f"
             ],
             [
              0.2222222222222222,
              "#7201a8"
             ],
             [
              0.3333333333333333,
              "#9c179e"
             ],
             [
              0.4444444444444444,
              "#bd3786"
             ],
             [
              0.5555555555555556,
              "#d8576b"
             ],
             [
              0.6666666666666666,
              "#ed7953"
             ],
             [
              0.7777777777777778,
              "#fb9f3a"
             ],
             [
              0.8888888888888888,
              "#fdca26"
             ],
             [
              1,
              "#f0f921"
             ]
            ],
            "type": "heatmapgl"
           }
          ],
          "histogram": [
           {
            "marker": {
             "colorbar": {
              "outlinewidth": 0,
              "ticks": ""
             }
            },
            "type": "histogram"
           }
          ],
          "histogram2d": [
           {
            "colorbar": {
             "outlinewidth": 0,
             "ticks": ""
            },
            "colorscale": [
             [
              0,
              "#0d0887"
             ],
             [
              0.1111111111111111,
              "#46039f"
             ],
             [
              0.2222222222222222,
              "#7201a8"
             ],
             [
              0.3333333333333333,
              "#9c179e"
             ],
             [
              0.4444444444444444,
              "#bd3786"
             ],
             [
              0.5555555555555556,
              "#d8576b"
             ],
             [
              0.6666666666666666,
              "#ed7953"
             ],
             [
              0.7777777777777778,
              "#fb9f3a"
             ],
             [
              0.8888888888888888,
              "#fdca26"
             ],
             [
              1,
              "#f0f921"
             ]
            ],
            "type": "histogram2d"
           }
          ],
          "histogram2dcontour": [
           {
            "colorbar": {
             "outlinewidth": 0,
             "ticks": ""
            },
            "colorscale": [
             [
              0,
              "#0d0887"
             ],
             [
              0.1111111111111111,
              "#46039f"
             ],
             [
              0.2222222222222222,
              "#7201a8"
             ],
             [
              0.3333333333333333,
              "#9c179e"
             ],
             [
              0.4444444444444444,
              "#bd3786"
             ],
             [
              0.5555555555555556,
              "#d8576b"
             ],
             [
              0.6666666666666666,
              "#ed7953"
             ],
             [
              0.7777777777777778,
              "#fb9f3a"
             ],
             [
              0.8888888888888888,
              "#fdca26"
             ],
             [
              1,
              "#f0f921"
             ]
            ],
            "type": "histogram2dcontour"
           }
          ],
          "mesh3d": [
           {
            "colorbar": {
             "outlinewidth": 0,
             "ticks": ""
            },
            "type": "mesh3d"
           }
          ],
          "parcoords": [
           {
            "line": {
             "colorbar": {
              "outlinewidth": 0,
              "ticks": ""
             }
            },
            "type": "parcoords"
           }
          ],
          "pie": [
           {
            "automargin": true,
            "type": "pie"
           }
          ],
          "scatter": [
           {
            "marker": {
             "colorbar": {
              "outlinewidth": 0,
              "ticks": ""
             }
            },
            "type": "scatter"
           }
          ],
          "scatter3d": [
           {
            "line": {
             "colorbar": {
              "outlinewidth": 0,
              "ticks": ""
             }
            },
            "marker": {
             "colorbar": {
              "outlinewidth": 0,
              "ticks": ""
             }
            },
            "type": "scatter3d"
           }
          ],
          "scattercarpet": [
           {
            "marker": {
             "colorbar": {
              "outlinewidth": 0,
              "ticks": ""
             }
            },
            "type": "scattercarpet"
           }
          ],
          "scattergeo": [
           {
            "marker": {
             "colorbar": {
              "outlinewidth": 0,
              "ticks": ""
             }
            },
            "type": "scattergeo"
           }
          ],
          "scattergl": [
           {
            "marker": {
             "colorbar": {
              "outlinewidth": 0,
              "ticks": ""
             }
            },
            "type": "scattergl"
           }
          ],
          "scattermapbox": [
           {
            "marker": {
             "colorbar": {
              "outlinewidth": 0,
              "ticks": ""
             }
            },
            "type": "scattermapbox"
           }
          ],
          "scatterpolar": [
           {
            "marker": {
             "colorbar": {
              "outlinewidth": 0,
              "ticks": ""
             }
            },
            "type": "scatterpolar"
           }
          ],
          "scatterpolargl": [
           {
            "marker": {
             "colorbar": {
              "outlinewidth": 0,
              "ticks": ""
             }
            },
            "type": "scatterpolargl"
           }
          ],
          "scatterternary": [
           {
            "marker": {
             "colorbar": {
              "outlinewidth": 0,
              "ticks": ""
             }
            },
            "type": "scatterternary"
           }
          ],
          "surface": [
           {
            "colorbar": {
             "outlinewidth": 0,
             "ticks": ""
            },
            "colorscale": [
             [
              0,
              "#0d0887"
             ],
             [
              0.1111111111111111,
              "#46039f"
             ],
             [
              0.2222222222222222,
              "#7201a8"
             ],
             [
              0.3333333333333333,
              "#9c179e"
             ],
             [
              0.4444444444444444,
              "#bd3786"
             ],
             [
              0.5555555555555556,
              "#d8576b"
             ],
             [
              0.6666666666666666,
              "#ed7953"
             ],
             [
              0.7777777777777778,
              "#fb9f3a"
             ],
             [
              0.8888888888888888,
              "#fdca26"
             ],
             [
              1,
              "#f0f921"
             ]
            ],
            "type": "surface"
           }
          ],
          "table": [
           {
            "cells": {
             "fill": {
              "color": "#EBF0F8"
             },
             "line": {
              "color": "white"
             }
            },
            "header": {
             "fill": {
              "color": "#C8D4E3"
             },
             "line": {
              "color": "white"
             }
            },
            "type": "table"
           }
          ]
         },
         "layout": {
          "annotationdefaults": {
           "arrowcolor": "#2a3f5f",
           "arrowhead": 0,
           "arrowwidth": 1
          },
          "autotypenumbers": "strict",
          "coloraxis": {
           "colorbar": {
            "outlinewidth": 0,
            "ticks": ""
           }
          },
          "colorscale": {
           "diverging": [
            [
             0,
             "#8e0152"
            ],
            [
             0.1,
             "#c51b7d"
            ],
            [
             0.2,
             "#de77ae"
            ],
            [
             0.3,
             "#f1b6da"
            ],
            [
             0.4,
             "#fde0ef"
            ],
            [
             0.5,
             "#f7f7f7"
            ],
            [
             0.6,
             "#e6f5d0"
            ],
            [
             0.7,
             "#b8e186"
            ],
            [
             0.8,
             "#7fbc41"
            ],
            [
             0.9,
             "#4d9221"
            ],
            [
             1,
             "#276419"
            ]
           ],
           "sequential": [
            [
             0,
             "#0d0887"
            ],
            [
             0.1111111111111111,
             "#46039f"
            ],
            [
             0.2222222222222222,
             "#7201a8"
            ],
            [
             0.3333333333333333,
             "#9c179e"
            ],
            [
             0.4444444444444444,
             "#bd3786"
            ],
            [
             0.5555555555555556,
             "#d8576b"
            ],
            [
             0.6666666666666666,
             "#ed7953"
            ],
            [
             0.7777777777777778,
             "#fb9f3a"
            ],
            [
             0.8888888888888888,
             "#fdca26"
            ],
            [
             1,
             "#f0f921"
            ]
           ],
           "sequentialminus": [
            [
             0,
             "#0d0887"
            ],
            [
             0.1111111111111111,
             "#46039f"
            ],
            [
             0.2222222222222222,
             "#7201a8"
            ],
            [
             0.3333333333333333,
             "#9c179e"
            ],
            [
             0.4444444444444444,
             "#bd3786"
            ],
            [
             0.5555555555555556,
             "#d8576b"
            ],
            [
             0.6666666666666666,
             "#ed7953"
            ],
            [
             0.7777777777777778,
             "#fb9f3a"
            ],
            [
             0.8888888888888888,
             "#fdca26"
            ],
            [
             1,
             "#f0f921"
            ]
           ]
          },
          "colorway": [
           "#636efa",
           "#EF553B",
           "#00cc96",
           "#ab63fa",
           "#FFA15A",
           "#19d3f3",
           "#FF6692",
           "#B6E880",
           "#FF97FF",
           "#FECB52"
          ],
          "font": {
           "color": "#2a3f5f"
          },
          "geo": {
           "bgcolor": "white",
           "lakecolor": "white",
           "landcolor": "#E5ECF6",
           "showlakes": true,
           "showland": true,
           "subunitcolor": "white"
          },
          "hoverlabel": {
           "align": "left"
          },
          "hovermode": "closest",
          "mapbox": {
           "style": "light"
          },
          "paper_bgcolor": "white",
          "plot_bgcolor": "#E5ECF6",
          "polar": {
           "angularaxis": {
            "gridcolor": "white",
            "linecolor": "white",
            "ticks": ""
           },
           "bgcolor": "#E5ECF6",
           "radialaxis": {
            "gridcolor": "white",
            "linecolor": "white",
            "ticks": ""
           }
          },
          "scene": {
           "xaxis": {
            "backgroundcolor": "#E5ECF6",
            "gridcolor": "white",
            "gridwidth": 2,
            "linecolor": "white",
            "showbackground": true,
            "ticks": "",
            "zerolinecolor": "white"
           },
           "yaxis": {
            "backgroundcolor": "#E5ECF6",
            "gridcolor": "white",
            "gridwidth": 2,
            "linecolor": "white",
            "showbackground": true,
            "ticks": "",
            "zerolinecolor": "white"
           },
           "zaxis": {
            "backgroundcolor": "#E5ECF6",
            "gridcolor": "white",
            "gridwidth": 2,
            "linecolor": "white",
            "showbackground": true,
            "ticks": "",
            "zerolinecolor": "white"
           }
          },
          "shapedefaults": {
           "line": {
            "color": "#2a3f5f"
           }
          },
          "ternary": {
           "aaxis": {
            "gridcolor": "white",
            "linecolor": "white",
            "ticks": ""
           },
           "baxis": {
            "gridcolor": "white",
            "linecolor": "white",
            "ticks": ""
           },
           "bgcolor": "#E5ECF6",
           "caxis": {
            "gridcolor": "white",
            "linecolor": "white",
            "ticks": ""
           }
          },
          "title": {
           "x": 0.05
          },
          "xaxis": {
           "automargin": true,
           "gridcolor": "white",
           "linecolor": "white",
           "ticks": "",
           "title": {
            "standoff": 15
           },
           "zerolinecolor": "white",
           "zerolinewidth": 2
          },
          "yaxis": {
           "automargin": true,
           "gridcolor": "white",
           "linecolor": "white",
           "ticks": "",
           "title": {
            "standoff": 15
           },
           "zerolinecolor": "white",
           "zerolinewidth": 2
          }
         }
        },
        "width": 800,
        "xaxis": {
         "anchor": "y",
         "domain": [
          0,
          1
         ],
         "linecolor": "black",
         "mirror": "allticks",
         "range": [
          0.1,
          1.3
         ],
         "showgrid": false,
         "ticks": "inside",
         "title": {
          "text": "Fe"
         },
         "zeroline": true
        },
        "yaxis": {
         "anchor": "x",
         "domain": [
          0,
          1
         ],
         "linecolor": "black",
         "mirror": "allticks",
         "range": [
          0,
          9
         ],
         "showgrid": false,
         "ticks": "inside",
         "title": {
          "text": "Nb/Ta"
         },
         "zeroline": true
        }
       }
      },
      "text/html": [
       "<div>                            <div id=\"86392ddb-c6f1-4240-bd9a-bbc5a7479694\" class=\"plotly-graph-div\" style=\"height:600px; width:800px;\"></div>            <script type=\"text/javascript\">                require([\"plotly\"], function(Plotly) {                    window.PLOTLYENV=window.PLOTLYENV || {};                                    if (document.getElementById(\"86392ddb-c6f1-4240-bd9a-bbc5a7479694\")) {                    Plotly.newPlot(                        \"86392ddb-c6f1-4240-bd9a-bbc5a7479694\",                        [{\"customdata\": [[\"BU04\", \"BU04-Rut2.2\"]], \"hovertemplate\": \"Sample=%{customdata[0]}<br>Texture=rim<br>Fe=%{x}<br>Nb/Ta=%{y}<br>Comment=%{customdata[1]}<extra></extra>\", \"legendgroup\": \"BU04, rim\", \"marker\": {\"color\": \"#636efa\", \"size\": 10, \"symbol\": \"circle\"}, \"mode\": \"markers\", \"name\": \"BU04, rim\", \"orientation\": \"v\", \"showlegend\": true, \"textposition\": \"top center\", \"type\": \"scatter\", \"x\": [1.2151293668835066], \"xaxis\": \"x\", \"y\": [1.1155069658378411], \"yaxis\": \"y\"}, {\"customdata\": [[\"BU04\", \"BU04-Rut2.3\"]], \"hovertemplate\": \"Sample=%{customdata[0]}<br>Texture=core<br>Fe=%{x}<br>Nb/Ta=%{y}<br>Comment=%{customdata[1]}<extra></extra>\", \"legendgroup\": \"BU04, core\", \"marker\": {\"color\": \"#636efa\", \"size\": 10, \"symbol\": \"diamond\"}, \"mode\": \"markers\", \"name\": \"BU04, core\", \"orientation\": \"v\", \"showlegend\": true, \"textposition\": \"top center\", \"type\": \"scatter\", \"x\": [1.0018021395431518], \"xaxis\": \"x\", \"y\": [2.031347635747489], \"yaxis\": \"y\"}, {\"customdata\": [[\"BU19TS(1)\", \"BU19TS(1)-Rut2.2\"]], \"hovertemplate\": \"Sample=%{customdata[0]}<br>Texture=rim<br>Fe=%{x}<br>Nb/Ta=%{y}<br>Comment=%{customdata[1]}<extra></extra>\", \"legendgroup\": \"BU19TS(1), rim\", \"marker\": {\"color\": \"#EF553B\", \"size\": 10, \"symbol\": \"circle\"}, \"mode\": \"markers\", \"name\": \"BU19TS(1), rim\", \"orientation\": \"v\", \"showlegend\": true, \"textposition\": \"top center\", \"type\": \"scatter\", \"x\": [0.3594855819447116], \"xaxis\": \"x\", \"y\": [0.6889699109065623], \"yaxis\": \"y\"}, {\"customdata\": [[\"BU19TS(1)\", \"BU19TS(1)-rutile1.3\"], [\"BU19TS(1)\", \"BU19TS(1)-rutile1.4\"], [\"BU19TS(1)\", \"BU19TS(1)-Rut2.1\"]], \"hovertemplate\": \"Sample=%{customdata[0]}<br>Texture=core<br>Fe=%{x}<br>Nb/Ta=%{y}<br>Comment=%{customdata[1]}<extra></extra>\", \"legendgroup\": \"BU19TS(1), core\", \"marker\": {\"color\": \"#EF553B\", \"size\": 10, \"symbol\": \"diamond\"}, \"mode\": \"markers\", \"name\": \"BU19TS(1), core\", \"orientation\": \"v\", \"showlegend\": true, \"textposition\": \"top center\", \"type\": \"scatter\", \"x\": [0.5581511259244258, 0.5585050041013496, 0.4172802521167354], \"xaxis\": \"x\", \"y\": [0.19500036660519707, 0.28006247848008203, 0.5226996413303673], \"yaxis\": \"y\"}, {\"customdata\": [[\"BU19TS(2)\", \"BU19TS(2)-ore1.3\"], [\"BU19TS(2)\", \"BU19TS(2)-ore1.5\"], [\"BU19TS(2)\", \"BU19TS(2)-ore2.1\"], [\"BU19TS(2)\", \"BU19TS(2)-ore2.5\"], [\"BU19TS(2)\", \"BU19TS(2)-ore3a.3\"], [\"BU19TS(2)\", \"BU19TS(2)-ore3b.2\"], [\"BU19TS(2)\", \"BU19TS(2)-ore3d.1\"]], \"hovertemplate\": \"Sample=%{customdata[0]}<br>Texture=rim<br>Fe=%{x}<br>Nb/Ta=%{y}<br>Comment=%{customdata[1]}<extra></extra>\", \"legendgroup\": \"BU19TS(2), rim\", \"marker\": {\"color\": \"#00cc96\", \"size\": 10, \"symbol\": \"circle\"}, \"mode\": \"markers\", \"name\": \"BU19TS(2), rim\", \"orientation\": \"v\", \"showlegend\": true, \"textposition\": \"top center\", \"type\": \"scatter\", \"x\": [0.855352371280698, 0.7648875467069519, 1.16569973517368, 0.9753468441512416, 0.7385216288660779, 0.6509053158205313, 0.6204401050959462], \"xaxis\": \"x\", \"y\": [0.9300457379641203, 1.286128239000306, 0.5051858667609143, 0.7490371570197215, 2.9962578416987933, 6.18025183526172, 3.5192445261626637], \"yaxis\": \"y\"}, {\"customdata\": [[\"BU19TS(2)\", \"BU19TS(2)-ore1.2\"], [\"BU19TS(2)\", \"BU19TS(2)-ore1.4\"], [\"BU19TS(2)\", \"BU19TS(2)-ore2.2\"], [\"BU19TS(2)\", \"BU19TS(2)-ore2.3\"], [\"BU19TS(2)\", \"BU19TS(2)-ore3a.1\"], [\"BU19TS(2)\", \"BU19TS(2)-ore3a.2\"], [\"BU19TS(2)\", \"BU19TS(2)-ore3b.1\"], [\"BU19TS(2)\", \"BU19TS(2)-ore3c.1\"], [\"BU19TS(2)\", \"BU19TS(2)-ore3c.2\"], [\"BU19TS(2)\", \"BU19TS(2)-ore3d.2\"], [\"BU19TS(2)\", \"BU19TS(2)-ore3d.3\"], [\"BU19TS(2)\", \"BU19TS(2)-Ore4.1\"], [\"BU19TS(2)\", \"BU19TS(2)-Ore4.2\"], [\"BU19TS(2)\", \"BU19TS(2)-Ore4.4\"]], \"hovertemplate\": \"Sample=%{customdata[0]}<br>Texture=core<br>Fe=%{x}<br>Nb/Ta=%{y}<br>Comment=%{customdata[1]}<extra></extra>\", \"legendgroup\": \"BU19TS(2), core\", \"marker\": {\"color\": \"#00cc96\", \"size\": 10, \"symbol\": \"diamond\"}, \"mode\": \"markers\", \"name\": \"BU19TS(2), core\", \"orientation\": \"v\", \"showlegend\": true, \"textposition\": \"top center\", \"type\": \"scatter\", \"x\": [0.7339445043769409, 0.6829411338805579, 0.5850861253222761, 0.826460143719148, 0.7295785639727616, 0.7839779202908228, 0.6470814873807827, 0.7133183583416024, 0.8717216660963764, 0.6124699785500395, 0.8182034083244514, 0.6646317118213798, 0.993211427745378, 0.7126936353707517], \"xaxis\": \"x\", \"y\": [1.7349051609691544, 2.090419137563655, 7.090557780136635, 4.467429229139181, 3.300551281562191, 3.5383719429025295, 5.637262737853148, 3.7502953077424346, 3.3391495394210424, 3.3374978082462863, 2.411575605897954, 3.8825335376829804, 2.0973476513121154, 3.1122071864587144], \"yaxis\": \"y\"}, {\"customdata\": [[\"BU19TS(2)\", \"BU19TS(2)-ore1.1\"], [\"BU19TS(2)\", \"BU19TS(2)-ore1.6\"], [\"BU19TS(2)\", \"BU19TS(2)-ore2.4\"], [\"BU19TS(2)\", \"BU19TS(2)-Ore4.3\"]], \"hovertemplate\": \"Sample=%{customdata[0]}<br>Texture=patchy<br>Fe=%{x}<br>Nb/Ta=%{y}<br>Comment=%{customdata[1]}<extra></extra>\", \"legendgroup\": \"BU19TS(2), patchy\", \"marker\": {\"color\": \"#00cc96\", \"size\": 10, \"symbol\": \"square\"}, \"mode\": \"markers\", \"name\": \"BU19TS(2), patchy\", \"orientation\": \"v\", \"showlegend\": true, \"textposition\": \"top center\", \"type\": \"scatter\", \"x\": [0.970157967570045, 0.7882544822040055, 0.958016105417911, 0.7628727541906367], \"xaxis\": \"x\", \"y\": [0.6947851997050616, 1.2525908061792463, 0.7733094514972219, 3.002781951461691], \"yaxis\": \"y\"}, {\"customdata\": [[\"BU19w\", \"BU19w-Rut2.5 \"], [\"BU19w\", \"BU19w-Rut2.8 \"], [\"BU19w\", \"BU19w-Rut3.2 \"], [\"BU19w\", \"BU19w-Rut3.4 \"], [\"BU19w\", \"BU19w-Rut4.1 \"], [\"BU19w\", \"BU19w-Area7_ore.3 \"]], \"hovertemplate\": \"Sample=%{customdata[0]}<br>Texture=rim<br>Fe=%{x}<br>Nb/Ta=%{y}<br>Comment=%{customdata[1]}<extra></extra>\", \"legendgroup\": \"BU19w, rim\", \"marker\": {\"color\": \"#ab63fa\", \"size\": 10, \"symbol\": \"circle\"}, \"mode\": \"markers\", \"name\": \"BU19w, rim\", \"orientation\": \"v\", \"showlegend\": true, \"textposition\": \"top center\", \"type\": \"scatter\", \"x\": [0.7012434537361568, 0.715785152770774, 0.8893727928646568, 0.8492593711882573, 0.506941324117942, 0.7047371470442504], \"xaxis\": \"x\", \"y\": [0.9535898155082217, 0.8659464383151939, 1.4128338537806588, 1.040177234921175, 1.3538121587671132, 2.24381330285441], \"yaxis\": \"y\"}, {\"customdata\": [[\"BU19w\", \"BU19w-Rut2.1\"], [\"BU19w\", \"BU19w-Rut2.2\"], [\"BU19w\", \"BU19w-Rut2.4 \"], [\"BU19w\", \"BU19w-Rut2.6 \"], [\"BU19w\", \"BU19w-Rut2.7 \"], [\"BU19w\", \"BU19w-Rut2b.2 \"], [\"BU19w\", \"BU19w-Rut2b.4 \"], [\"BU19w\", \"BU19w-Rut2b.5 \"], [\"BU19w\", \"BU19w-Rut4.2 \"], [\"BU19w\", \"BU19w-Area7_ore.2 \"]], \"hovertemplate\": \"Sample=%{customdata[0]}<br>Texture=core<br>Fe=%{x}<br>Nb/Ta=%{y}<br>Comment=%{customdata[1]}<extra></extra>\", \"legendgroup\": \"BU19w, core\", \"marker\": {\"color\": \"#ab63fa\", \"size\": 10, \"symbol\": \"diamond\"}, \"mode\": \"markers\", \"name\": \"BU19w, core\", \"orientation\": \"v\", \"showlegend\": true, \"textposition\": \"top center\", \"type\": \"scatter\", \"x\": [0.3621920320564278, 0.7411743807352389, 0.2577445577479115, 0.5590713634348902, 0.4371002414079008, 0.2155798472075769, 0.3985429382755086, 0.3064334707886075, 0.3110006104342348, 0.5895771210867035], \"xaxis\": \"x\", \"y\": [5.971011712807137, 0.8477069239882351, 8.73307002302784, 1.1928477501553192, 2.3701283291352078, 4.240695177657321, 4.516817664823041, 3.8262504133705257, 1.1512028057274113, 2.020116284049472], \"yaxis\": \"y\"}, {\"customdata\": [[\"BU19w\", \"BU19w-Rut4.3 \"]], \"hovertemplate\": \"Sample=%{customdata[0]}<br>Texture=patchy<br>Fe=%{x}<br>Nb/Ta=%{y}<br>Comment=%{customdata[1]}<extra></extra>\", \"legendgroup\": \"BU19w, patchy\", \"marker\": {\"color\": \"#ab63fa\", \"size\": 10, \"symbol\": \"square\"}, \"mode\": \"markers\", \"name\": \"BU19w, patchy\", \"orientation\": \"v\", \"showlegend\": true, \"textposition\": \"top center\", \"type\": \"scatter\", \"x\": [0.6785865483843535], \"xaxis\": \"x\", \"y\": [1.3018238185392441], \"yaxis\": \"y\"}],                        {\"font\": {\"color\": \"black\", \"family\": \"Arial\", \"size\": 16}, \"height\": 600, \"legend\": {\"title\": {\"text\": \"Sample, Texture\"}, \"tracegroupgap\": 0}, \"margin\": {\"t\": 60}, \"plot_bgcolor\": \"white\", \"template\": {\"data\": {\"bar\": [{\"error_x\": {\"color\": \"#2a3f5f\"}, \"error_y\": {\"color\": \"#2a3f5f\"}, \"marker\": {\"line\": {\"color\": \"#E5ECF6\", \"width\": 0.5}}, \"type\": \"bar\"}], \"barpolar\": [{\"marker\": {\"line\": {\"color\": \"#E5ECF6\", \"width\": 0.5}}, \"type\": \"barpolar\"}], \"carpet\": [{\"aaxis\": {\"endlinecolor\": \"#2a3f5f\", \"gridcolor\": \"white\", \"linecolor\": \"white\", \"minorgridcolor\": \"white\", \"startlinecolor\": \"#2a3f5f\"}, \"baxis\": {\"endlinecolor\": \"#2a3f5f\", \"gridcolor\": \"white\", \"linecolor\": \"white\", \"minorgridcolor\": \"white\", \"startlinecolor\": \"#2a3f5f\"}, \"type\": \"carpet\"}], \"choropleth\": [{\"colorbar\": {\"outlinewidth\": 0, \"ticks\": \"\"}, \"type\": \"choropleth\"}], \"contour\": [{\"colorbar\": {\"outlinewidth\": 0, \"ticks\": \"\"}, \"colorscale\": [[0.0, \"#0d0887\"], [0.1111111111111111, \"#46039f\"], [0.2222222222222222, \"#7201a8\"], [0.3333333333333333, \"#9c179e\"], [0.4444444444444444, \"#bd3786\"], [0.5555555555555556, \"#d8576b\"], [0.6666666666666666, \"#ed7953\"], [0.7777777777777778, \"#fb9f3a\"], [0.8888888888888888, \"#fdca26\"], [1.0, \"#f0f921\"]], \"type\": \"contour\"}], \"contourcarpet\": [{\"colorbar\": {\"outlinewidth\": 0, \"ticks\": \"\"}, \"type\": \"contourcarpet\"}], \"heatmap\": [{\"colorbar\": {\"outlinewidth\": 0, \"ticks\": \"\"}, \"colorscale\": [[0.0, \"#0d0887\"], [0.1111111111111111, \"#46039f\"], [0.2222222222222222, \"#7201a8\"], [0.3333333333333333, \"#9c179e\"], [0.4444444444444444, \"#bd3786\"], [0.5555555555555556, \"#d8576b\"], [0.6666666666666666, \"#ed7953\"], [0.7777777777777778, \"#fb9f3a\"], [0.8888888888888888, \"#fdca26\"], [1.0, \"#f0f921\"]], \"type\": \"heatmap\"}], \"heatmapgl\": [{\"colorbar\": {\"outlinewidth\": 0, \"ticks\": \"\"}, \"colorscale\": [[0.0, \"#0d0887\"], [0.1111111111111111, \"#46039f\"], [0.2222222222222222, \"#7201a8\"], [0.3333333333333333, \"#9c179e\"], [0.4444444444444444, \"#bd3786\"], [0.5555555555555556, \"#d8576b\"], [0.6666666666666666, \"#ed7953\"], [0.7777777777777778, \"#fb9f3a\"], [0.8888888888888888, \"#fdca26\"], [1.0, \"#f0f921\"]], \"type\": \"heatmapgl\"}], \"histogram\": [{\"marker\": {\"colorbar\": {\"outlinewidth\": 0, \"ticks\": \"\"}}, \"type\": \"histogram\"}], \"histogram2d\": [{\"colorbar\": {\"outlinewidth\": 0, \"ticks\": \"\"}, \"colorscale\": [[0.0, \"#0d0887\"], [0.1111111111111111, \"#46039f\"], [0.2222222222222222, \"#7201a8\"], [0.3333333333333333, \"#9c179e\"], [0.4444444444444444, \"#bd3786\"], [0.5555555555555556, \"#d8576b\"], [0.6666666666666666, \"#ed7953\"], [0.7777777777777778, \"#fb9f3a\"], [0.8888888888888888, \"#fdca26\"], [1.0, \"#f0f921\"]], \"type\": \"histogram2d\"}], \"histogram2dcontour\": [{\"colorbar\": {\"outlinewidth\": 0, \"ticks\": \"\"}, \"colorscale\": [[0.0, \"#0d0887\"], [0.1111111111111111, \"#46039f\"], [0.2222222222222222, \"#7201a8\"], [0.3333333333333333, \"#9c179e\"], [0.4444444444444444, \"#bd3786\"], [0.5555555555555556, \"#d8576b\"], [0.6666666666666666, \"#ed7953\"], [0.7777777777777778, \"#fb9f3a\"], [0.8888888888888888, \"#fdca26\"], [1.0, \"#f0f921\"]], \"type\": \"histogram2dcontour\"}], \"mesh3d\": [{\"colorbar\": {\"outlinewidth\": 0, \"ticks\": \"\"}, \"type\": \"mesh3d\"}], \"parcoords\": [{\"line\": {\"colorbar\": {\"outlinewidth\": 0, \"ticks\": \"\"}}, \"type\": \"parcoords\"}], \"pie\": [{\"automargin\": true, \"type\": \"pie\"}], \"scatter\": [{\"marker\": {\"colorbar\": {\"outlinewidth\": 0, \"ticks\": \"\"}}, \"type\": \"scatter\"}], \"scatter3d\": [{\"line\": {\"colorbar\": {\"outlinewidth\": 0, \"ticks\": \"\"}}, \"marker\": {\"colorbar\": {\"outlinewidth\": 0, \"ticks\": \"\"}}, \"type\": \"scatter3d\"}], \"scattercarpet\": [{\"marker\": {\"colorbar\": {\"outlinewidth\": 0, \"ticks\": \"\"}}, \"type\": \"scattercarpet\"}], \"scattergeo\": [{\"marker\": {\"colorbar\": {\"outlinewidth\": 0, \"ticks\": \"\"}}, \"type\": \"scattergeo\"}], \"scattergl\": [{\"marker\": {\"colorbar\": {\"outlinewidth\": 0, \"ticks\": \"\"}}, \"type\": \"scattergl\"}], \"scattermapbox\": [{\"marker\": {\"colorbar\": {\"outlinewidth\": 0, \"ticks\": \"\"}}, \"type\": \"scattermapbox\"}], \"scatterpolar\": [{\"marker\": {\"colorbar\": {\"outlinewidth\": 0, \"ticks\": \"\"}}, \"type\": \"scatterpolar\"}], \"scatterpolargl\": [{\"marker\": {\"colorbar\": {\"outlinewidth\": 0, \"ticks\": \"\"}}, \"type\": \"scatterpolargl\"}], \"scatterternary\": [{\"marker\": {\"colorbar\": {\"outlinewidth\": 0, \"ticks\": \"\"}}, \"type\": \"scatterternary\"}], \"surface\": [{\"colorbar\": {\"outlinewidth\": 0, \"ticks\": \"\"}, \"colorscale\": [[0.0, \"#0d0887\"], [0.1111111111111111, \"#46039f\"], [0.2222222222222222, \"#7201a8\"], [0.3333333333333333, \"#9c179e\"], [0.4444444444444444, \"#bd3786\"], [0.5555555555555556, \"#d8576b\"], [0.6666666666666666, \"#ed7953\"], [0.7777777777777778, \"#fb9f3a\"], [0.8888888888888888, \"#fdca26\"], [1.0, \"#f0f921\"]], \"type\": \"surface\"}], \"table\": [{\"cells\": {\"fill\": {\"color\": \"#EBF0F8\"}, \"line\": {\"color\": \"white\"}}, \"header\": {\"fill\": {\"color\": \"#C8D4E3\"}, \"line\": {\"color\": \"white\"}}, \"type\": \"table\"}]}, \"layout\": {\"annotationdefaults\": {\"arrowcolor\": \"#2a3f5f\", \"arrowhead\": 0, \"arrowwidth\": 1}, \"autotypenumbers\": \"strict\", \"coloraxis\": {\"colorbar\": {\"outlinewidth\": 0, \"ticks\": \"\"}}, \"colorscale\": {\"diverging\": [[0, \"#8e0152\"], [0.1, \"#c51b7d\"], [0.2, \"#de77ae\"], [0.3, \"#f1b6da\"], [0.4, \"#fde0ef\"], [0.5, \"#f7f7f7\"], [0.6, \"#e6f5d0\"], [0.7, \"#b8e186\"], [0.8, \"#7fbc41\"], [0.9, \"#4d9221\"], [1, \"#276419\"]], \"sequential\": [[0.0, \"#0d0887\"], [0.1111111111111111, \"#46039f\"], [0.2222222222222222, \"#7201a8\"], [0.3333333333333333, \"#9c179e\"], [0.4444444444444444, \"#bd3786\"], [0.5555555555555556, \"#d8576b\"], [0.6666666666666666, \"#ed7953\"], [0.7777777777777778, \"#fb9f3a\"], [0.8888888888888888, \"#fdca26\"], [1.0, \"#f0f921\"]], \"sequentialminus\": [[0.0, \"#0d0887\"], [0.1111111111111111, \"#46039f\"], [0.2222222222222222, \"#7201a8\"], [0.3333333333333333, \"#9c179e\"], [0.4444444444444444, \"#bd3786\"], [0.5555555555555556, \"#d8576b\"], [0.6666666666666666, \"#ed7953\"], [0.7777777777777778, \"#fb9f3a\"], [0.8888888888888888, \"#fdca26\"], [1.0, \"#f0f921\"]]}, \"colorway\": [\"#636efa\", \"#EF553B\", \"#00cc96\", \"#ab63fa\", \"#FFA15A\", \"#19d3f3\", \"#FF6692\", \"#B6E880\", \"#FF97FF\", \"#FECB52\"], \"font\": {\"color\": \"#2a3f5f\"}, \"geo\": {\"bgcolor\": \"white\", \"lakecolor\": \"white\", \"landcolor\": \"#E5ECF6\", \"showlakes\": true, \"showland\": true, \"subunitcolor\": \"white\"}, \"hoverlabel\": {\"align\": \"left\"}, \"hovermode\": \"closest\", \"mapbox\": {\"style\": \"light\"}, \"paper_bgcolor\": \"white\", \"plot_bgcolor\": \"#E5ECF6\", \"polar\": {\"angularaxis\": {\"gridcolor\": \"white\", \"linecolor\": \"white\", \"ticks\": \"\"}, \"bgcolor\": \"#E5ECF6\", \"radialaxis\": {\"gridcolor\": \"white\", \"linecolor\": \"white\", \"ticks\": \"\"}}, \"scene\": {\"xaxis\": {\"backgroundcolor\": \"#E5ECF6\", \"gridcolor\": \"white\", \"gridwidth\": 2, \"linecolor\": \"white\", \"showbackground\": true, \"ticks\": \"\", \"zerolinecolor\": \"white\"}, \"yaxis\": {\"backgroundcolor\": \"#E5ECF6\", \"gridcolor\": \"white\", \"gridwidth\": 2, \"linecolor\": \"white\", \"showbackground\": true, \"ticks\": \"\", \"zerolinecolor\": \"white\"}, \"zaxis\": {\"backgroundcolor\": \"#E5ECF6\", \"gridcolor\": \"white\", \"gridwidth\": 2, \"linecolor\": \"white\", \"showbackground\": true, \"ticks\": \"\", \"zerolinecolor\": \"white\"}}, \"shapedefaults\": {\"line\": {\"color\": \"#2a3f5f\"}}, \"ternary\": {\"aaxis\": {\"gridcolor\": \"white\", \"linecolor\": \"white\", \"ticks\": \"\"}, \"baxis\": {\"gridcolor\": \"white\", \"linecolor\": \"white\", \"ticks\": \"\"}, \"bgcolor\": \"#E5ECF6\", \"caxis\": {\"gridcolor\": \"white\", \"linecolor\": \"white\", \"ticks\": \"\"}}, \"title\": {\"x\": 0.05}, \"xaxis\": {\"automargin\": true, \"gridcolor\": \"white\", \"linecolor\": \"white\", \"ticks\": \"\", \"title\": {\"standoff\": 15}, \"zerolinecolor\": \"white\", \"zerolinewidth\": 2}, \"yaxis\": {\"automargin\": true, \"gridcolor\": \"white\", \"linecolor\": \"white\", \"ticks\": \"\", \"title\": {\"standoff\": 15}, \"zerolinecolor\": \"white\", \"zerolinewidth\": 2}}}, \"width\": 800, \"xaxis\": {\"anchor\": \"y\", \"domain\": [0.0, 1.0], \"linecolor\": \"black\", \"mirror\": \"allticks\", \"range\": [0.1, 1.3], \"showgrid\": false, \"ticks\": \"inside\", \"title\": {\"text\": \"Fe\"}, \"zeroline\": true}, \"yaxis\": {\"anchor\": \"x\", \"domain\": [0.0, 1.0], \"linecolor\": \"black\", \"mirror\": \"allticks\", \"range\": [0, 9], \"showgrid\": false, \"ticks\": \"inside\", \"title\": {\"text\": \"Nb/Ta\"}, \"zeroline\": true}},                        {\"responsive\": true}                    ).then(function(){\n",
       "                            \n",
       "var gd = document.getElementById('86392ddb-c6f1-4240-bd9a-bbc5a7479694');\n",
       "var x = new MutationObserver(function (mutations, observer) {{\n",
       "        var display = window.getComputedStyle(gd).display;\n",
       "        if (!display || display === 'none') {{\n",
       "            console.log([gd, 'removed!']);\n",
       "            Plotly.purge(gd);\n",
       "            observer.disconnect();\n",
       "        }}\n",
       "}});\n",
       "\n",
       "// Listen for the removal of the full notebook cells\n",
       "var notebookContainer = gd.closest('#notebook-container');\n",
       "if (notebookContainer) {{\n",
       "    x.observe(notebookContainer, {childList: true});\n",
       "}}\n",
       "\n",
       "// Listen for the clearing of the current output cell\n",
       "var outputEl = gd.closest('.output');\n",
       "if (outputEl) {{\n",
       "    x.observe(outputEl, {childList: true});\n",
       "}}\n",
       "\n",
       "                        })                };                });            </script>        </div>"
      ]
     },
     "metadata": {},
     "output_type": "display_data"
    }
   ],
   "source": [
    "# --- plot binary scatter graphs\n",
    "\n",
    "fig = px.scatter(df_query, x=\"Fe\", y=\"Nb/Ta\", color=\"Sample\", symbol=\"Texture\", hover_data=[\"Sample\",\"Comment\"],\n",
    "                width=800, height=600)\n",
    "#                  size=\"Ti\",text=df_analysis[\"Comment\"].str.slice(start=-4))\n",
    "\n",
    "\n",
    "fig.update_layout(plot_bgcolor=\"white\")\n",
    "fig.update_traces(textposition='top center')\n",
    "\n",
    "fig.update_traces(marker=dict(size=10))\n",
    "\n",
    "fig.update_layout(font=dict(family=\"Arial\",size=16,color=\"black\")) \n",
    "\n",
    "fig.update_xaxes(ticks='inside',zeroline=True,linecolor=\"black\",showgrid=False,mirror=\"allticks\", range=(0.1,1.3))\n",
    "fig.update_yaxes(ticks='inside',zeroline=True,linecolor=\"black\",showgrid=False,mirror=\"allticks\", range=(0,9))\n",
    "\n",
    "\n",
    "fig.write_image(\"Ore_Rutile_NbTar-Fe.pdf\")\n",
    "fig.show()"
   ]
  },
  {
   "cell_type": "code",
   "execution_count": 19,
   "metadata": {},
   "outputs": [
    {
     "data": {
      "image/png": "[encoded data removed]",
      "text/plain": [
       "<Figure size 576x540 with 2 Axes>"
      ]
     },
     "metadata": {
      "needs_background": "light"
     },
     "output_type": "display_data"
    }
   ],
   "source": [
    "# --- plot binary line graphs\n",
    "\n",
    "fig, ax = plt.subplots(figsize=(8,7.5))\n",
    "\n",
    "    # - plot the raw spectrum line (measured data) and the modelled spectrum (after peak fitting)\n",
    "\n",
    "s=10\n",
    "\n",
    "plt.plot(df_query[\"Comment\"],df_query[\"Mn\"],'-o', label='Mn', ms=s)\n",
    "plt.plot(df_query[\"Comment\"],df_query[\"Ta\"],'-o', label='Ta', ms=s)\n",
    "plt.plot(df_query[\"Comment\"],df_query[\"Fe\"],'-o', label='Fe', ms=s)\n",
    "plt.plot(df_query[\"Comment\"],df_query[\"Nb\"],'-o', label='Nb', ms=s)\n",
    "plt.plot(df_query[\"Comment\"],df_query[\"Ti\"],'-o', label='Ti', ms=s)\n",
    "\n",
    "plt.legend(loc='best', fontsize=14, ncol=9, handletextpad=0.1, columnspacing = 0.5)  \n",
    "\n",
    "\n",
    "ax2 = ax.twinx()\n",
    "ax2.plot(df_query[\"Comment\"],df_query[\"Mn#\"],'--s', label='Mn#',linewidth=3, ms=s)\n",
    "ax2.plot(df_query[\"Comment\"],df_query[\"Ta#\"],'--s', label='Ta#',linewidth=3, ms=s)\n",
    "\n",
    "\n",
    "plt.legend(loc='upper left', fontsize=14, ncol=9, handletextpad=0.1, columnspacing = 0.5) \n",
    "\n",
    "\n",
    "    # --- adjust plot parameters\n",
    "    \n",
    "plt.xlabel(\"Analysis\",fontsize=20)\n",
    "ax.set_xlim([-0.5,5.5])\n",
    "\n",
    "ax.set_ylabel(\"apfu\",fontsize=20)\n",
    "ax.set_ylim([0,8])\n",
    "\n",
    "ax2.set_ylabel(\"ratios\",fontsize=20)\n",
    "ax2.set_ylim([0,1])\n",
    "\n",
    "ax.yaxis.set_minor_locator(MultipleLocator(0.5))\n",
    "ax2.yaxis.set_minor_locator(MultipleLocator(0.1))\n",
    "\n",
    "ax.set_xticklabels(['1', '2','3', '4', '5', '6', '7', '8', '9'])\n",
    "\n",
    "ax.tick_params(axis='both', which='major',labelsize=20,direction='in',width=1.5,length=8, top=True)\n",
    "ax.tick_params(axis='both', which='minor',direction='in',width=1,length=4)\n",
    "\n",
    "ax2.tick_params(axis='both', which='major',labelsize=20,direction='in',width=1.5,length=8,right=True)\n",
    "ax2.tick_params(axis='both', which='minor',direction='in',width=1,length=4,right=True)\n",
    "\n",
    "\n",
    "#plt.title(df_spectrum_peaks.iloc[0][\"file\"],horizontalalignment='center',fontsize=22)\n",
    "\n",
    "\n",
    "ax.invert_xaxis()\n",
    "\n",
    "        \n",
    "plt.savefig('coltan-BU04-Ore1.pdf')\n",
    "plt.show()"
   ]
  },
  {
   "cell_type": "code",
   "execution_count": 7,
   "metadata": {},
   "outputs": [],
   "source": [
    "# --- normalization function - written by Bram Paredis\n",
    "\n",
    "def normalize(data, total=None):\n",
    "    \"\"\"Normalize data to 100%\"\"\"\n",
    "    if total is None:\n",
    "        total = data.sum(axis=1)\n",
    "    return data.divide(total, axis=0) * 100"
   ]
  },
  {
   "cell_type": "code",
   "execution_count": 53,
   "metadata": {},
   "outputs": [
    {
     "data": {
      "text/html": [
       "<div>\n",
       "<style scoped>\n",
       "    .dataframe tbody tr th:only-of-type {\n",
       "        vertical-align: middle;\n",
       "    }\n",
       "\n",
       "    .dataframe tbody tr th {\n",
       "        vertical-align: top;\n",
       "    }\n",
       "\n",
       "    .dataframe thead th {\n",
       "        text-align: right;\n",
       "    }\n",
       "</style>\n",
       "<table border=\"1\" class=\"dataframe\">\n",
       "  <thead>\n",
       "    <tr style=\"text-align: right;\">\n",
       "      <th></th>\n",
       "      <th>NbTa</th>\n",
       "      <th>TiSn</th>\n",
       "      <th>FeMn</th>\n",
       "      <th>Sample</th>\n",
       "      <th>Comment</th>\n",
       "      <th>Area</th>\n",
       "      <th>Mineral</th>\n",
       "      <th>Texture</th>\n",
       "    </tr>\n",
       "  </thead>\n",
       "  <tbody>\n",
       "    <tr>\n",
       "      <th>0</th>\n",
       "      <td>15.485012</td>\n",
       "      <td>74.341703</td>\n",
       "      <td>10.173285</td>\n",
       "      <td>BU04</td>\n",
       "      <td>BU04-Rut2.2</td>\n",
       "      <td>Ore2</td>\n",
       "      <td>Rutile</td>\n",
       "      <td>rim</td>\n",
       "    </tr>\n",
       "    <tr>\n",
       "      <th>1</th>\n",
       "      <td>13.278524</td>\n",
       "      <td>78.374263</td>\n",
       "      <td>8.347213</td>\n",
       "      <td>BU04</td>\n",
       "      <td>BU04-Rut2.3</td>\n",
       "      <td>Ore2</td>\n",
       "      <td>Rutile</td>\n",
       "      <td>core</td>\n",
       "    </tr>\n",
       "    <tr>\n",
       "      <th>2</th>\n",
       "      <td>6.746373</td>\n",
       "      <td>88.371670</td>\n",
       "      <td>4.881958</td>\n",
       "      <td>BU19TS(1)</td>\n",
       "      <td>BU19TS(1)-rutile1.3</td>\n",
       "      <td>Ore1</td>\n",
       "      <td>Rutile</td>\n",
       "      <td>core</td>\n",
       "    </tr>\n",
       "    <tr>\n",
       "      <th>3</th>\n",
       "      <td>6.297844</td>\n",
       "      <td>88.849586</td>\n",
       "      <td>4.852571</td>\n",
       "      <td>BU19TS(1)</td>\n",
       "      <td>BU19TS(1)-rutile1.4</td>\n",
       "      <td>Ore1</td>\n",
       "      <td>Rutile</td>\n",
       "      <td>core</td>\n",
       "    </tr>\n",
       "    <tr>\n",
       "      <th>4</th>\n",
       "      <td>3.761790</td>\n",
       "      <td>92.776628</td>\n",
       "      <td>3.461583</td>\n",
       "      <td>BU19TS(1)</td>\n",
       "      <td>BU19TS(1)-Rut2.1</td>\n",
       "      <td>Ore2</td>\n",
       "      <td>Rutile</td>\n",
       "      <td>core</td>\n",
       "    </tr>\n",
       "    <tr>\n",
       "      <th>...</th>\n",
       "      <td>...</td>\n",
       "      <td>...</td>\n",
       "      <td>...</td>\n",
       "      <td>...</td>\n",
       "      <td>...</td>\n",
       "      <td>...</td>\n",
       "      <td>...</td>\n",
       "      <td>...</td>\n",
       "    </tr>\n",
       "    <tr>\n",
       "      <th>87</th>\n",
       "      <td>68.267545</td>\n",
       "      <td>0.893222</td>\n",
       "      <td>30.839233</td>\n",
       "      <td>BU24</td>\n",
       "      <td>BU24-Ore4.3</td>\n",
       "      <td>Ore4</td>\n",
       "      <td>CGM</td>\n",
       "      <td>core</td>\n",
       "    </tr>\n",
       "    <tr>\n",
       "      <th>88</th>\n",
       "      <td>68.958706</td>\n",
       "      <td>0.456646</td>\n",
       "      <td>30.584648</td>\n",
       "      <td>BU24</td>\n",
       "      <td>BU24-Ore4.4</td>\n",
       "      <td>Ore4</td>\n",
       "      <td>CGM</td>\n",
       "      <td>rim</td>\n",
       "    </tr>\n",
       "    <tr>\n",
       "      <th>89</th>\n",
       "      <td>67.918439</td>\n",
       "      <td>1.387856</td>\n",
       "      <td>30.693705</td>\n",
       "      <td>BU24</td>\n",
       "      <td>BU24-Ore4.5</td>\n",
       "      <td>Ore4</td>\n",
       "      <td>CGM</td>\n",
       "      <td>core</td>\n",
       "    </tr>\n",
       "    <tr>\n",
       "      <th>90</th>\n",
       "      <td>68.868604</td>\n",
       "      <td>0.515774</td>\n",
       "      <td>30.615621</td>\n",
       "      <td>BU24</td>\n",
       "      <td>BU24-Ore4.6</td>\n",
       "      <td>Ore4</td>\n",
       "      <td>CGM</td>\n",
       "      <td>rim</td>\n",
       "    </tr>\n",
       "    <tr>\n",
       "      <th>91</th>\n",
       "      <td>67.484782</td>\n",
       "      <td>1.496131</td>\n",
       "      <td>31.019087</td>\n",
       "      <td>BU24</td>\n",
       "      <td>BU24-Ore4.7</td>\n",
       "      <td>Ore4</td>\n",
       "      <td>CGM</td>\n",
       "      <td>core</td>\n",
       "    </tr>\n",
       "  </tbody>\n",
       "</table>\n",
       "<p>92 rows × 8 columns</p>\n",
       "</div>"
      ],
      "text/plain": [
       "         NbTa       TiSn       FeMn     Sample              Comment  Area  \\\n",
       "0   15.485012  74.341703  10.173285       BU04          BU04-Rut2.2  Ore2   \n",
       "1   13.278524  78.374263   8.347213       BU04          BU04-Rut2.3  Ore2   \n",
       "2    6.746373  88.371670   4.881958  BU19TS(1)  BU19TS(1)-rutile1.3  Ore1   \n",
       "3    6.297844  88.849586   4.852571  BU19TS(1)  BU19TS(1)-rutile1.4  Ore1   \n",
       "4    3.761790  92.776628   3.461583  BU19TS(1)     BU19TS(1)-Rut2.1  Ore2   \n",
       "..        ...        ...        ...        ...                  ...   ...   \n",
       "87  68.267545   0.893222  30.839233       BU24          BU24-Ore4.3  Ore4   \n",
       "88  68.958706   0.456646  30.584648       BU24          BU24-Ore4.4  Ore4   \n",
       "89  67.918439   1.387856  30.693705       BU24          BU24-Ore4.5  Ore4   \n",
       "90  68.868604   0.515774  30.615621       BU24          BU24-Ore4.6  Ore4   \n",
       "91  67.484782   1.496131  31.019087       BU24          BU24-Ore4.7  Ore4   \n",
       "\n",
       "   Mineral Texture  \n",
       "0   Rutile     rim  \n",
       "1   Rutile    core  \n",
       "2   Rutile    core  \n",
       "3   Rutile    core  \n",
       "4   Rutile    core  \n",
       "..     ...     ...  \n",
       "87     CGM    core  \n",
       "88     CGM     rim  \n",
       "89     CGM    core  \n",
       "90     CGM     rim  \n",
       "91     CGM    core  \n",
       "\n",
       "[92 rows x 8 columns]"
      ]
     },
     "execution_count": 53,
     "metadata": {},
     "output_type": "execute_result"
    }
   ],
   "source": [
    "# --- define subset within dataset for ternary normalization\n",
    "A = \"NbTa\"\n",
    "B = \"TiSn\"\n",
    "C = \"FeMn\"\n",
    "\n",
    "df_subset = df_analysis.loc[:, [A, B, C]]\n",
    "\n",
    "\n",
    "# --- normalize subset using function defined above\n",
    "\n",
    "df_subset_normalized = normalize(df_subset)\n",
    "\n",
    "\n",
    "# --- combine calculated data with metadata\n",
    "\n",
    "df_subset_normalized['Sample'] = df_analysis['Sample']\n",
    "df_subset_normalized['Comment'] = df_analysis['Comment']\n",
    "df_subset_normalized['Area'] = df_analysis['Area']\n",
    "df_subset_normalized['Mineral'] = df_analysis['Mineral']\n",
    "df_subset_normalized['Texture'] = df_analysis['Texture']\n",
    "\n",
    "df_subset_normalized"
   ]
  },
  {
   "cell_type": "code",
   "execution_count": 54,
   "metadata": {},
   "outputs": [
    {
     "data": {
      "application/vnd.plotly.v1+json": {
       "config": {
        "plotlyServerURL": "https://plot.ly"
       },
       "data": [
        {
         "a": [
          15.48501194666671,
          67.48647236391861,
          67.23897204102862,
          66.02532073398059,
          28.82024265906758
         ],
         "b": [
          74.3417032046194,
          2.5550295254528184,
          2.9031320821453757,
          3.930763547612279,
          55.66156428535529
         ],
         "c": [
          10.173284848713902,
          29.958498110628582,
          29.857895876826014,
          30.043915718407128,
          15.518193055577115
         ],
         "customdata": [
          [
           "BU04-Rut2.2"
          ],
          [
           "BU04-Ore1.3 "
          ],
          [
           "BU04-Ore1.4 "
          ],
          [
           "BU04-Ore1.9 "
          ],
          [
           "BU04-Ore2_coltan1 "
          ]
         ],
         "hovertemplate": "Sample=BU04<br>Texture=rim<br>NbTa=%{a}<br>TiSn=%{b}<br>FeMn=%{c}<br>Comment=%{customdata[0]}<extra></extra>",
         "legendgroup": "BU04, rim",
         "marker": {
          "color": "#636efa",
          "size": 10,
          "symbol": "circle"
         },
         "mode": "markers",
         "name": "BU04, rim",
         "showlegend": true,
         "subplot": "ternary",
         "type": "scatterternary"
        },
        {
         "a": [
          13.27852400572336,
          66.97501060349857,
          65.81355056242866,
          66.24179024109455,
          61.19718463784092
         ],
         "b": [
          78.3742630243518,
          2.874658924017065,
          3.4789292302173402,
          3.61286567282963,
          10.776130407775513
         ],
         "c": [
          8.347212969924822,
          30.150330472484377,
          30.707520207354,
          30.145344086075827,
          28.02668495438357
         ],
         "customdata": [
          [
           "BU04-Rut2.3"
          ],
          [
           "BU04-Ore1.5 "
          ],
          [
           "BU04-Ore1.6 "
          ],
          [
           "BU04-Ore1.7 "
          ],
          [
           "BU04-Ore2_coltan2 "
          ]
         ],
         "hovertemplate": "Sample=BU04<br>Texture=core<br>NbTa=%{a}<br>TiSn=%{b}<br>FeMn=%{c}<br>Comment=%{customdata[0]}<extra></extra>",
         "legendgroup": "BU04, core",
         "marker": {
          "color": "#636efa",
          "size": 10,
          "symbol": "diamond"
         },
         "mode": "markers",
         "name": "BU04, core",
         "showlegend": true,
         "subplot": "ternary",
         "type": "scatterternary"
        },
        {
         "a": [
          68.03632031083622,
          67.46718672848081,
          68.23438545425404
         ],
         "b": [
          1.391117416714895,
          2.2915491829093764,
          1.29391975582382
         ],
         "c": [
          30.572562272448877,
          30.24126408860982,
          30.47169478992215
         ],
         "customdata": [
          [
           "BU04-Ore1.2 "
          ],
          [
           "BU04-Ore1.8 "
          ],
          [
           "BU04-Ore1.10 "
          ]
         ],
         "hovertemplate": "Sample=BU04<br>Texture=patchy<br>NbTa=%{a}<br>TiSn=%{b}<br>FeMn=%{c}<br>Comment=%{customdata[0]}<extra></extra>",
         "legendgroup": "BU04, patchy",
         "marker": {
          "color": "#636efa",
          "size": 10,
          "symbol": "square"
         },
         "mode": "markers",
         "name": "BU04, patchy",
         "showlegend": true,
         "subplot": "ternary",
         "type": "scatterternary"
        },
        {
         "a": [
          3.0683110106542424
         ],
         "b": [
          93.9482482947499
         ],
         "c": [
          2.9834406945958447
         ],
         "customdata": [
          [
           "BU19TS(1)-Rut2.2"
          ]
         ],
         "hovertemplate": "Sample=BU19TS(1)<br>Texture=rim<br>NbTa=%{a}<br>TiSn=%{b}<br>FeMn=%{c}<br>Comment=%{customdata[0]}<extra></extra>",
         "legendgroup": "BU19TS(1), rim",
         "marker": {
          "color": "#EF553B",
          "size": 10,
          "symbol": "circle"
         },
         "mode": "markers",
         "name": "BU19TS(1), rim",
         "showlegend": true,
         "subplot": "ternary",
         "type": "scatterternary"
        },
        {
         "a": [
          6.746372555456478,
          6.297843809311946,
          3.7617896230230756
         ],
         "b": [
          88.3716699177764,
          88.84958565505607,
          92.77662786403563
         ],
         "c": [
          4.881957526767125,
          4.85257053563197,
          3.461582512941301
         ],
         "customdata": [
          [
           "BU19TS(1)-rutile1.3"
          ],
          [
           "BU19TS(1)-rutile1.4"
          ],
          [
           "BU19TS(1)-Rut2.1"
          ]
         ],
         "hovertemplate": "Sample=BU19TS(1)<br>Texture=core<br>NbTa=%{a}<br>TiSn=%{b}<br>FeMn=%{c}<br>Comment=%{customdata[0]}<extra></extra>",
         "legendgroup": "BU19TS(1), core",
         "marker": {
          "color": "#EF553B",
          "size": 10,
          "symbol": "diamond"
         },
         "mode": "markers",
         "name": "BU19TS(1), core",
         "showlegend": true,
         "subplot": "ternary",
         "type": "scatterternary"
        },
        {
         "a": [
          10.910039758186105,
          9.590143477312733,
          14.765489662354629,
          10.35839938367452,
          11.045640850839575,
          9.750907093444813,
          7.005727324150729
         ],
         "b": [
          81.14986695559732,
          84.05098713468085,
          75.56407641708307,
          81.56021722894427,
          82.7667007442088,
          84.80555918124868,
          87.82497523216176
         ],
         "c": [
          7.940093286216573,
          6.35886938800641,
          9.670433920562296,
          8.081383387381216,
          6.187658404951609,
          5.443533725306507,
          5.169297443687519
         ],
         "customdata": [
          [
           "BU19TS(2)-ore1.3"
          ],
          [
           "BU19TS(2)-ore1.5"
          ],
          [
           "BU19TS(2)-ore2.1"
          ],
          [
           "BU19TS(2)-ore2.5"
          ],
          [
           "BU19TS(2)-ore3a.3"
          ],
          [
           "BU19TS(2)-ore3b.2"
          ],
          [
           "BU19TS(2)-ore3d.1"
          ]
         ],
         "hovertemplate": "Sample=BU19TS(2)<br>Texture=rim<br>NbTa=%{a}<br>TiSn=%{b}<br>FeMn=%{c}<br>Comment=%{customdata[0]}<extra></extra>",
         "legendgroup": "BU19TS(2), rim",
         "marker": {
          "color": "#00cc96",
          "size": 10,
          "symbol": "circle"
         },
         "mode": "markers",
         "name": "BU19TS(2), rim",
         "showlegend": true,
         "subplot": "ternary",
         "type": "scatterternary"
        },
        {
         "a": [
          8.386688582818817,
          8.17818686450595,
          8.135859944101037,
          11.971276163393044,
          10.596243534097285,
          8.590642678800366,
          9.726450842020034,
          10.388648725138392,
          12.4632843384814,
          8.953199034937658,
          12.397550837330375,
          9.055646504216455,
          11.669817356381474,
          8.999697258419877
         ],
         "b": [
          85.5243197300548,
          86.07376573722394,
          86.96385376469505,
          81.10779096323427,
          83.21922705708096,
          84.87150145050923,
          84.8405808135817,
          83.66672128478658,
          80.2506309313852,
          85.92857867509345,
          80.77797517762293,
          85.37560889628652,
          79.95335207057319,
          85.01745402561001
         ],
         "c": [
          6.088991687126392,
          5.748047398270117,
          4.900286291203929,
          6.920932873372684,
          6.184529408821762,
          6.537855870690406,
          5.432968344398273,
          5.944629990075033,
          7.286084730133396,
          5.118222289968892,
          6.824473985046681,
          5.568744599497014,
          8.376830573045321,
          5.982848715970126
         ],
         "customdata": [
          [
           "BU19TS(2)-ore1.2"
          ],
          [
           "BU19TS(2)-ore1.4"
          ],
          [
           "BU19TS(2)-ore2.2"
          ],
          [
           "BU19TS(2)-ore2.3"
          ],
          [
           "BU19TS(2)-ore3a.1"
          ],
          [
           "BU19TS(2)-ore3a.2"
          ],
          [
           "BU19TS(2)-ore3b.1"
          ],
          [
           "BU19TS(2)-ore3c.1"
          ],
          [
           "BU19TS(2)-ore3c.2"
          ],
          [
           "BU19TS(2)-ore3d.2"
          ],
          [
           "BU19TS(2)-ore3d.3"
          ],
          [
           "BU19TS(2)-Ore4.1"
          ],
          [
           "BU19TS(2)-Ore4.2"
          ],
          [
           "BU19TS(2)-Ore4.4"
          ]
         ],
         "hovertemplate": "Sample=BU19TS(2)<br>Texture=core<br>NbTa=%{a}<br>TiSn=%{b}<br>FeMn=%{c}<br>Comment=%{customdata[0]}<extra></extra>",
         "legendgroup": "BU19TS(2), core",
         "marker": {
          "color": "#00cc96",
          "size": 10,
          "symbol": "diamond"
         },
         "mode": "markers",
         "name": "BU19TS(2), core",
         "showlegend": true,
         "subplot": "ternary",
         "type": "scatterternary"
        },
        {
         "a": [
          10.040541486769783,
          9.01357323252808,
          10.35933949089939,
          10.099361516836874
         ],
         "b": [
          81.94812403968078,
          84.45117802707472,
          81.70627436936024,
          83.54178870918106
         ],
         "c": [
          8.01133447354943,
          6.535248740397181,
          7.934386139740377,
          6.358849773982062
         ],
         "customdata": [
          [
           "BU19TS(2)-ore1.1"
          ],
          [
           "BU19TS(2)-ore1.6"
          ],
          [
           "BU19TS(2)-ore2.4"
          ],
          [
           "BU19TS(2)-Ore4.3"
          ]
         ],
         "hovertemplate": "Sample=BU19TS(2)<br>Texture=patchy<br>NbTa=%{a}<br>TiSn=%{b}<br>FeMn=%{c}<br>Comment=%{customdata[0]}<extra></extra>",
         "legendgroup": "BU19TS(2), patchy",
         "marker": {
          "color": "#00cc96",
          "size": 10,
          "symbol": "square"
         },
         "mode": "markers",
         "name": "BU19TS(2), patchy",
         "showlegend": true,
         "subplot": "ternary",
         "type": "scatterternary"
        },
        {
         "a": [
          8.662988959314887,
          8.426764912420918,
          10.515240960296003,
          9.28008237495644,
          5.817183464664135,
          8.79820896672955
         ],
         "b": [
          85.51614669065349,
          85.64600958762203,
          81.8500067920797,
          83.62385575702635,
          89.9045719937578,
          85.35253292835834
         ],
         "c": [
          5.820864350031628,
          5.927225499957042,
          7.634752247624296,
          7.096061868017195,
          4.2782445415780606,
          5.849258104912106
         ],
         "customdata": [
          [
           "BU19w-Rut2.5 "
          ],
          [
           "BU19w-Rut2.8 "
          ],
          [
           "BU19w-Rut3.2 "
          ],
          [
           "BU19w-Rut3.4 "
          ],
          [
           "BU19w-Rut4.1 "
          ],
          [
           "BU19w-Area7_ore.3 "
          ]
         ],
         "hovertemplate": "Sample=BU19w<br>Texture=rim<br>NbTa=%{a}<br>TiSn=%{b}<br>FeMn=%{c}<br>Comment=%{customdata[0]}<extra></extra>",
         "legendgroup": "BU19w, rim",
         "marker": {
          "color": "#ab63fa",
          "size": 10,
          "symbol": "circle"
         },
         "mode": "markers",
         "name": "BU19w, rim",
         "showlegend": true,
         "subplot": "ternary",
         "type": "scatterternary"
        },
        {
         "a": [
          4.372483478576038,
          9.009761000619363,
          3.9423824996016954,
          6.730845016032028,
          5.015945217413213,
          2.9423698962468245,
          4.358801458515487,
          3.345059927802478,
          3.590208404726715,
          7.696517634227431
         ],
         "b": [
          92.61036152198614,
          84.84330700398792,
          93.9064755543709,
          88.62684166346965,
          91.35236862018937,
          95.25848036595941,
          92.32895427624513,
          94.10621727422208,
          93.7990633092153,
          87.35585420080955
         ],
         "c": [
          3.0171549994378273,
          6.146931995392716,
          2.1511419460274115,
          4.642313320498325,
          3.6316861623974246,
          1.7991497377937489,
          3.312244265239391,
          2.54872279797544,
          2.6107282860579764,
          4.94762816496302
         ],
         "customdata": [
          [
           "BU19w-Rut2.1"
          ],
          [
           "BU19w-Rut2.2"
          ],
          [
           "BU19w-Rut2.4 "
          ],
          [
           "BU19w-Rut2.6 "
          ],
          [
           "BU19w-Rut2.7 "
          ],
          [
           "BU19w-Rut2b.2 "
          ],
          [
           "BU19w-Rut2b.4 "
          ],
          [
           "BU19w-Rut2b.5 "
          ],
          [
           "BU19w-Rut4.2 "
          ],
          [
           "BU19w-Area7_ore.2 "
          ]
         ],
         "hovertemplate": "Sample=BU19w<br>Texture=core<br>NbTa=%{a}<br>TiSn=%{b}<br>FeMn=%{c}<br>Comment=%{customdata[0]}<extra></extra>",
         "legendgroup": "BU19w, core",
         "marker": {
          "color": "#ab63fa",
          "size": 10,
          "symbol": "diamond"
         },
         "mode": "markers",
         "name": "BU19w, core",
         "showlegend": true,
         "subplot": "ternary",
         "type": "scatterternary"
        },
        {
         "a": [
          8.876218463195025
         ],
         "b": [
          85.29151620504982
         ],
         "c": [
          5.832265331755147
         ],
         "customdata": [
          [
           "BU19w-Rut4.3 "
          ]
         ],
         "hovertemplate": "Sample=BU19w<br>Texture=patchy<br>NbTa=%{a}<br>TiSn=%{b}<br>FeMn=%{c}<br>Comment=%{customdata[0]}<extra></extra>",
         "legendgroup": "BU19w, patchy",
         "marker": {
          "color": "#ab63fa",
          "size": 10,
          "symbol": "square"
         },
         "mode": "markers",
         "name": "BU19w, patchy",
         "showlegend": true,
         "subplot": "ternary",
         "type": "scatterternary"
        },
        {
         "a": [
          65.51411904948931,
          65.15196203741804,
          64.93043753781986,
          65.7033846719184,
          65.94722329257571
         ],
         "b": [
          4.887561703633801,
          5.262087874549505,
          5.593104660334339,
          4.124216341081518,
          3.714693572377977
         ],
         "c": [
          29.598319246876887,
          29.585950088032448,
          29.476457801845807,
          30.172398987000093,
          30.33808313504631
         ],
         "customdata": [
          [
           "BU19TS-coltan1.1 "
          ],
          [
           "BU19TS-coltan1.5 "
          ],
          [
           "BU19TS-coltan1.6 "
          ],
          [
           "BU19TS-coltan2.6 "
          ],
          [
           "BU19TS-coltan3.1 "
          ]
         ],
         "hovertemplate": "Sample=BU19TS<br>Texture=rim<br>NbTa=%{a}<br>TiSn=%{b}<br>FeMn=%{c}<br>Comment=%{customdata[0]}<extra></extra>",
         "legendgroup": "BU19TS, rim",
         "marker": {
          "color": "#FFA15A",
          "size": 10,
          "symbol": "circle"
         },
         "mode": "markers",
         "name": "BU19TS, rim",
         "showlegend": true,
         "subplot": "ternary",
         "type": "scatterternary"
        },
        {
         "a": [
          66.37766245567931,
          65.90937065757359,
          65.07287860038089,
          66.4812915742209,
          66.79618375201387,
          64.27181364874272,
          65.51845860497887
         ],
         "b": [
          3.7735865273942815,
          4.249546764712898,
          5.69790118376441,
          3.2767756865493984,
          3.2271069638617638,
          6.270026092292985,
          4.712873904748656
         ],
         "c": [
          29.8487510169264,
          29.841082577713525,
          29.229220215854696,
          30.241932739229703,
          29.976709284124357,
          29.458160258964305,
          29.76866749027247
         ],
         "customdata": [
          [
           "BU19TS-coltan1.2 "
          ],
          [
           "BU19TS-coltan1.4 "
          ],
          [
           "BU19TS-coltan1.7 "
          ],
          [
           "BU19TS-coltan2.2 "
          ],
          [
           "BU19TS-coltan2.3 "
          ],
          [
           "BU19TS-coltan3.2 "
          ],
          [
           "BU19TS-coltan3.3 "
          ]
         ],
         "hovertemplate": "Sample=BU19TS<br>Texture=core<br>NbTa=%{a}<br>TiSn=%{b}<br>FeMn=%{c}<br>Comment=%{customdata[0]}<extra></extra>",
         "legendgroup": "BU19TS, core",
         "marker": {
          "color": "#FFA15A",
          "size": 10,
          "symbol": "diamond"
         },
         "mode": "markers",
         "name": "BU19TS, core",
         "showlegend": true,
         "subplot": "ternary",
         "type": "scatterternary"
        },
        {
         "a": [
          65.52842839186737,
          63.734704990468025,
          66.77232269094702
         ],
         "b": [
          3.7340931076725337,
          2.977952503370984,
          2.93375198589845
         ],
         "c": [
          30.737478500460096,
          33.287342506161,
          30.293925323154504
         ],
         "customdata": [
          [
           "BU19TS-coltan1.3 "
          ],
          [
           "BU19TS-coltan2.4 "
          ],
          [
           "BU19TS-coltan2.5 "
          ]
         ],
         "hovertemplate": "Sample=BU19TS<br>Texture=patchy<br>NbTa=%{a}<br>TiSn=%{b}<br>FeMn=%{c}<br>Comment=%{customdata[0]}<extra></extra>",
         "legendgroup": "BU19TS, patchy",
         "marker": {
          "color": "#FFA15A",
          "size": 10,
          "symbol": "square"
         },
         "mode": "markers",
         "name": "BU19TS, patchy",
         "showlegend": true,
         "subplot": "ternary",
         "type": "scatterternary"
        },
        {
         "a": [
          68.32952792166934,
          67.7485650261398,
          68.37144452237142,
          67.41707059119602,
          68.70086805158046,
          69.02240413983655,
          68.95870644444727,
          68.86860434587211
         ],
         "b": [
          0.8029332787830064,
          1.379512151062571,
          0.8613110226339853,
          1.8891396203931723,
          1.012608423119209,
          0.5979338530154055,
          0.4566456569973884,
          0.5157742546719332
         ],
         "c": [
          30.867538799547646,
          30.87192282279765,
          30.76724445499459,
          30.693789788410818,
          30.286523525300318,
          30.379662007148045,
          30.584647898555346,
          30.61562139945595
         ],
         "customdata": [
          [
           "BU24-coltan1.1 "
          ],
          [
           "BU24-coltan2.1 "
          ],
          [
           "BU24-coltan3.2 "
          ],
          [
           "BU24-coltan3.3 "
          ],
          [
           "BU24-coltan3.6 "
          ],
          [
           "BU24-Ore4.1"
          ],
          [
           "BU24-Ore4.4"
          ],
          [
           "BU24-Ore4.6"
          ]
         ],
         "hovertemplate": "Sample=BU24<br>Texture=rim<br>NbTa=%{a}<br>TiSn=%{b}<br>FeMn=%{c}<br>Comment=%{customdata[0]}<extra></extra>",
         "legendgroup": "BU24, rim",
         "marker": {
          "color": "#19d3f3",
          "size": 10,
          "symbol": "circle"
         },
         "mode": "markers",
         "name": "BU24, rim",
         "showlegend": true,
         "subplot": "ternary",
         "type": "scatterternary"
        },
        {
         "a": [
          68.50867983447544,
          68.12203846612161,
          68.13258267011244,
          67.35015570981781,
          68.34502718229882,
          68.43970705130572,
          67.71437751462236,
          68.26754545480725,
          67.91843923285688,
          67.48478226228498
         ],
         "b": [
          0.7634314708504811,
          1.376882832554704,
          1.3454882970865298,
          0.9082021211442396,
          0.8065711819239204,
          0.8149325509896937,
          1.442856298648471,
          0.8932220133680163,
          1.3878559574049492,
          1.4961306036410513
         ],
         "c": [
          30.72788869467409,
          30.501078701323696,
          30.521929032801026,
          31.741642169037938,
          30.84840163577725,
          30.745360397704584,
          30.842766186729165,
          30.839232531824738,
          30.693704809738172,
          31.019087134073963
         ],
         "customdata": [
          [
           "BU24-coltan1.2 "
          ],
          [
           "BU24-coltan2.2 "
          ],
          [
           "BU24-coltan2.3 "
          ],
          [
           "BU24-coltan3.1 "
          ],
          [
           "BU24-coltan3.4 "
          ],
          [
           "BU24-coltan3.5 "
          ],
          [
           "BU24-Ore4.2"
          ],
          [
           "BU24-Ore4.3"
          ],
          [
           "BU24-Ore4.5"
          ],
          [
           "BU24-Ore4.7"
          ]
         ],
         "hovertemplate": "Sample=BU24<br>Texture=core<br>NbTa=%{a}<br>TiSn=%{b}<br>FeMn=%{c}<br>Comment=%{customdata[0]}<extra></extra>",
         "legendgroup": "BU24, core",
         "marker": {
          "color": "#19d3f3",
          "size": 10,
          "symbol": "diamond"
         },
         "mode": "markers",
         "name": "BU24, core",
         "showlegend": true,
         "subplot": "ternary",
         "type": "scatterternary"
        }
       ],
       "layout": {
        "legend": {
         "title": {
          "text": "Sample, Texture"
         },
         "tracegroupgap": 0
        },
        "margin": {
         "t": 60
        },
        "template": {
         "data": {
          "bar": [
           {
            "error_x": {
             "color": "#2a3f5f"
            },
            "error_y": {
             "color": "#2a3f5f"
            },
            "marker": {
             "line": {
              "color": "#E5ECF6",
              "width": 0.5
             }
            },
            "type": "bar"
           }
          ],
          "barpolar": [
           {
            "marker": {
             "line": {
              "color": "#E5ECF6",
              "width": 0.5
             }
            },
            "type": "barpolar"
           }
          ],
          "carpet": [
           {
            "aaxis": {
             "endlinecolor": "#2a3f5f",
             "gridcolor": "white",
             "linecolor": "white",
             "minorgridcolor": "white",
             "startlinecolor": "#2a3f5f"
            },
            "baxis": {
             "endlinecolor": "#2a3f5f",
             "gridcolor": "white",
             "linecolor": "white",
             "minorgridcolor": "white",
             "startlinecolor": "#2a3f5f"
            },
            "type": "carpet"
           }
          ],
          "choropleth": [
           {
            "colorbar": {
             "outlinewidth": 0,
             "ticks": ""
            },
            "type": "choropleth"
           }
          ],
          "contour": [
           {
            "colorbar": {
             "outlinewidth": 0,
             "ticks": ""
            },
            "colorscale": [
             [
              0,
              "#0d0887"
             ],
             [
              0.1111111111111111,
              "#46039f"
             ],
             [
              0.2222222222222222,
              "#7201a8"
             ],
             [
              0.3333333333333333,
              "#9c179e"
             ],
             [
              0.4444444444444444,
              "#bd3786"
             ],
             [
              0.5555555555555556,
              "#d8576b"
             ],
             [
              0.6666666666666666,
              "#ed7953"
             ],
             [
              0.7777777777777778,
              "#fb9f3a"
             ],
             [
              0.8888888888888888,
              "#fdca26"
             ],
             [
              1,
              "#f0f921"
             ]
            ],
            "type": "contour"
           }
          ],
          "contourcarpet": [
           {
            "colorbar": {
             "outlinewidth": 0,
             "ticks": ""
            },
            "type": "contourcarpet"
           }
          ],
          "heatmap": [
           {
            "colorbar": {
             "outlinewidth": 0,
             "ticks": ""
            },
            "colorscale": [
             [
              0,
              "#0d0887"
             ],
             [
              0.1111111111111111,
              "#46039f"
             ],
             [
              0.2222222222222222,
              "#7201a8"
             ],
             [
              0.3333333333333333,
              "#9c179e"
             ],
             [
              0.4444444444444444,
              "#bd3786"
             ],
             [
              0.5555555555555556,
              "#d8576b"
             ],
             [
              0.6666666666666666,
              "#ed7953"
             ],
             [
              0.7777777777777778,
              "#fb9f3a"
             ],
             [
              0.8888888888888888,
              "#fdca26"
             ],
             [
              1,
              "#f0f921"
             ]
            ],
            "type": "heatmap"
           }
          ],
          "heatmapgl": [
           {
            "colorbar": {
             "outlinewidth": 0,
             "ticks": ""
            },
            "colorscale": [
             [
              0,
              "#0d0887"
             ],
             [
              0.1111111111111111,
              "#46039f"
             ],
             [
              0.2222222222222222,
              "#7201a8"
             ],
             [
              0.3333333333333333,
              "#9c179e"
             ],
             [
              0.4444444444444444,
              "#bd3786"
             ],
             [
              0.5555555555555556,
              "#d8576b"
             ],
             [
              0.6666666666666666,
              "#ed7953"
             ],
             [
              0.7777777777777778,
              "#fb9f3a"
             ],
             [
              0.8888888888888888,
              "#fdca26"
             ],
             [
              1,
              "#f0f921"
             ]
            ],
            "type": "heatmapgl"
           }
          ],
          "histogram": [
           {
            "marker": {
             "colorbar": {
              "outlinewidth": 0,
              "ticks": ""
             }
            },
            "type": "histogram"
           }
          ],
          "histogram2d": [
           {
            "colorbar": {
             "outlinewidth": 0,
             "ticks": ""
            },
            "colorscale": [
             [
              0,
              "#0d0887"
             ],
             [
              0.1111111111111111,
              "#46039f"
             ],
             [
              0.2222222222222222,
              "#7201a8"
             ],
             [
              0.3333333333333333,
              "#9c179e"
             ],
             [
              0.4444444444444444,
              "#bd3786"
             ],
             [
              0.5555555555555556,
              "#d8576b"
             ],
             [
              0.6666666666666666,
              "#ed7953"
             ],
             [
              0.7777777777777778,
              "#fb9f3a"
             ],
             [
              0.8888888888888888,
              "#fdca26"
             ],
             [
              1,
              "#f0f921"
             ]
            ],
            "type": "histogram2d"
           }
          ],
          "histogram2dcontour": [
           {
            "colorbar": {
             "outlinewidth": 0,
             "ticks": ""
            },
            "colorscale": [
             [
              0,
              "#0d0887"
             ],
             [
              0.1111111111111111,
              "#46039f"
             ],
             [
              0.2222222222222222,
              "#7201a8"
             ],
             [
              0.3333333333333333,
              "#9c179e"
             ],
             [
              0.4444444444444444,
              "#bd3786"
             ],
             [
              0.5555555555555556,
              "#d8576b"
             ],
             [
              0.6666666666666666,
              "#ed7953"
             ],
             [
              0.7777777777777778,
              "#fb9f3a"
             ],
             [
              0.8888888888888888,
              "#fdca26"
             ],
             [
              1,
              "#f0f921"
             ]
            ],
            "type": "histogram2dcontour"
           }
          ],
          "mesh3d": [
           {
            "colorbar": {
             "outlinewidth": 0,
             "ticks": ""
            },
            "type": "mesh3d"
           }
          ],
          "parcoords": [
           {
            "line": {
             "colorbar": {
              "outlinewidth": 0,
              "ticks": ""
             }
            },
            "type": "parcoords"
           }
          ],
          "pie": [
           {
            "automargin": true,
            "type": "pie"
           }
          ],
          "scatter": [
           {
            "marker": {
             "colorbar": {
              "outlinewidth": 0,
              "ticks": ""
             }
            },
            "type": "scatter"
           }
          ],
          "scatter3d": [
           {
            "line": {
             "colorbar": {
              "outlinewidth": 0,
              "ticks": ""
             }
            },
            "marker": {
             "colorbar": {
              "outlinewidth": 0,
              "ticks": ""
             }
            },
            "type": "scatter3d"
           }
          ],
          "scattercarpet": [
           {
            "marker": {
             "colorbar": {
              "outlinewidth": 0,
              "ticks": ""
             }
            },
            "type": "scattercarpet"
           }
          ],
          "scattergeo": [
           {
            "marker": {
             "colorbar": {
              "outlinewidth": 0,
              "ticks": ""
             }
            },
            "type": "scattergeo"
           }
          ],
          "scattergl": [
           {
            "marker": {
             "colorbar": {
              "outlinewidth": 0,
              "ticks": ""
             }
            },
            "type": "scattergl"
           }
          ],
          "scattermapbox": [
           {
            "marker": {
             "colorbar": {
              "outlinewidth": 0,
              "ticks": ""
             }
            },
            "type": "scattermapbox"
           }
          ],
          "scatterpolar": [
           {
            "marker": {
             "colorbar": {
              "outlinewidth": 0,
              "ticks": ""
             }
            },
            "type": "scatterpolar"
           }
          ],
          "scatterpolargl": [
           {
            "marker": {
             "colorbar": {
              "outlinewidth": 0,
              "ticks": ""
             }
            },
            "type": "scatterpolargl"
           }
          ],
          "scatterternary": [
           {
            "marker": {
             "colorbar": {
              "outlinewidth": 0,
              "ticks": ""
             }
            },
            "type": "scatterternary"
           }
          ],
          "surface": [
           {
            "colorbar": {
             "outlinewidth": 0,
             "ticks": ""
            },
            "colorscale": [
             [
              0,
              "#0d0887"
             ],
             [
              0.1111111111111111,
              "#46039f"
             ],
             [
              0.2222222222222222,
              "#7201a8"
             ],
             [
              0.3333333333333333,
              "#9c179e"
             ],
             [
              0.4444444444444444,
              "#bd3786"
             ],
             [
              0.5555555555555556,
              "#d8576b"
             ],
             [
              0.6666666666666666,
              "#ed7953"
             ],
             [
              0.7777777777777778,
              "#fb9f3a"
             ],
             [
              0.8888888888888888,
              "#fdca26"
             ],
             [
              1,
              "#f0f921"
             ]
            ],
            "type": "surface"
           }
          ],
          "table": [
           {
            "cells": {
             "fill": {
              "color": "#EBF0F8"
             },
             "line": {
              "color": "white"
             }
            },
            "header": {
             "fill": {
              "color": "#C8D4E3"
             },
             "line": {
              "color": "white"
             }
            },
            "type": "table"
           }
          ]
         },
         "layout": {
          "annotationdefaults": {
           "arrowcolor": "#2a3f5f",
           "arrowhead": 0,
           "arrowwidth": 1
          },
          "autotypenumbers": "strict",
          "coloraxis": {
           "colorbar": {
            "outlinewidth": 0,
            "ticks": ""
           }
          },
          "colorscale": {
           "diverging": [
            [
             0,
             "#8e0152"
            ],
            [
             0.1,
             "#c51b7d"
            ],
            [
             0.2,
             "#de77ae"
            ],
            [
             0.3,
             "#f1b6da"
            ],
            [
             0.4,
             "#fde0ef"
            ],
            [
             0.5,
             "#f7f7f7"
            ],
            [
             0.6,
             "#e6f5d0"
            ],
            [
             0.7,
             "#b8e186"
            ],
            [
             0.8,
             "#7fbc41"
            ],
            [
             0.9,
             "#4d9221"
            ],
            [
             1,
             "#276419"
            ]
           ],
           "sequential": [
            [
             0,
             "#0d0887"
            ],
            [
             0.1111111111111111,
             "#46039f"
            ],
            [
             0.2222222222222222,
             "#7201a8"
            ],
            [
             0.3333333333333333,
             "#9c179e"
            ],
            [
             0.4444444444444444,
             "#bd3786"
            ],
            [
             0.5555555555555556,
             "#d8576b"
            ],
            [
             0.6666666666666666,
             "#ed7953"
            ],
            [
             0.7777777777777778,
             "#fb9f3a"
            ],
            [
             0.8888888888888888,
             "#fdca26"
            ],
            [
             1,
             "#f0f921"
            ]
           ],
           "sequentialminus": [
            [
             0,
             "#0d0887"
            ],
            [
             0.1111111111111111,
             "#46039f"
            ],
            [
             0.2222222222222222,
             "#7201a8"
            ],
            [
             0.3333333333333333,
             "#9c179e"
            ],
            [
             0.4444444444444444,
             "#bd3786"
            ],
            [
             0.5555555555555556,
             "#d8576b"
            ],
            [
             0.6666666666666666,
             "#ed7953"
            ],
            [
             0.7777777777777778,
             "#fb9f3a"
            ],
            [
             0.8888888888888888,
             "#fdca26"
            ],
            [
             1,
             "#f0f921"
            ]
           ]
          },
          "colorway": [
           "#636efa",
           "#EF553B",
           "#00cc96",
           "#ab63fa",
           "#FFA15A",
           "#19d3f3",
           "#FF6692",
           "#B6E880",
           "#FF97FF",
           "#FECB52"
          ],
          "font": {
           "color": "#2a3f5f"
          },
          "geo": {
           "bgcolor": "white",
           "lakecolor": "white",
           "landcolor": "#E5ECF6",
           "showlakes": true,
           "showland": true,
           "subunitcolor": "white"
          },
          "hoverlabel": {
           "align": "left"
          },
          "hovermode": "closest",
          "mapbox": {
           "style": "light"
          },
          "paper_bgcolor": "white",
          "plot_bgcolor": "#E5ECF6",
          "polar": {
           "angularaxis": {
            "gridcolor": "white",
            "linecolor": "white",
            "ticks": ""
           },
           "bgcolor": "#E5ECF6",
           "radialaxis": {
            "gridcolor": "white",
            "linecolor": "white",
            "ticks": ""
           }
          },
          "scene": {
           "xaxis": {
            "backgroundcolor": "#E5ECF6",
            "gridcolor": "white",
            "gridwidth": 2,
            "linecolor": "white",
            "showbackground": true,
            "ticks": "",
            "zerolinecolor": "white"
           },
           "yaxis": {
            "backgroundcolor": "#E5ECF6",
            "gridcolor": "white",
            "gridwidth": 2,
            "linecolor": "white",
            "showbackground": true,
            "ticks": "",
            "zerolinecolor": "white"
           },
           "zaxis": {
            "backgroundcolor": "#E5ECF6",
            "gridcolor": "white",
            "gridwidth": 2,
            "linecolor": "white",
            "showbackground": true,
            "ticks": "",
            "zerolinecolor": "white"
           }
          },
          "shapedefaults": {
           "line": {
            "color": "#2a3f5f"
           }
          },
          "ternary": {
           "aaxis": {
            "gridcolor": "white",
            "linecolor": "white",
            "ticks": ""
           },
           "baxis": {
            "gridcolor": "white",
            "linecolor": "white",
            "ticks": ""
           },
           "bgcolor": "#E5ECF6",
           "caxis": {
            "gridcolor": "white",
            "linecolor": "white",
            "ticks": ""
           }
          },
          "title": {
           "x": 0.05
          },
          "xaxis": {
           "automargin": true,
           "gridcolor": "white",
           "linecolor": "white",
           "ticks": "",
           "title": {
            "standoff": 15
           },
           "zerolinecolor": "white",
           "zerolinewidth": 2
          },
          "yaxis": {
           "automargin": true,
           "gridcolor": "white",
           "linecolor": "white",
           "ticks": "",
           "title": {
            "standoff": 15
           },
           "zerolinecolor": "white",
           "zerolinewidth": 2
          }
         }
        },
        "ternary": {
         "aaxis": {
          "linecolor": "black",
          "min": 0.6,
          "showgrid": false,
          "tickcolor": "black",
          "ticks": "inside",
          "title": {
           "text": "NbTa"
          }
         },
         "baxis": {
          "linecolor": "black",
          "min": 0,
          "showgrid": false,
          "tickcolor": "black",
          "ticks": "inside",
          "title": {
           "text": "TiSn"
          }
         },
         "bgcolor": "white",
         "caxis": {
          "linecolor": "black",
          "min": 0.25,
          "showgrid": false,
          "tickcolor": "black",
          "ticks": "inside",
          "title": {
           "text": "FeMn"
          }
         },
         "domain": {
          "x": [
           0,
           1
          ],
          "y": [
           0,
           1
          ]
         }
        }
       }
      },
      "text/html": [
       "<div>                            <div id=\"5cc97510-44b9-4221-a832-7f429ab97b5e\" class=\"plotly-graph-div\" style=\"height:525px; width:100%;\"></div>            <script type=\"text/javascript\">                require([\"plotly\"], function(Plotly) {                    window.PLOTLYENV=window.PLOTLYENV || {};                                    if (document.getElementById(\"5cc97510-44b9-4221-a832-7f429ab97b5e\")) {                    Plotly.newPlot(                        \"5cc97510-44b9-4221-a832-7f429ab97b5e\",                        [{\"a\": [15.48501194666671, 67.48647236391861, 67.23897204102862, 66.02532073398059, 28.82024265906758], \"b\": [74.3417032046194, 2.5550295254528184, 2.9031320821453757, 3.930763547612279, 55.66156428535529], \"c\": [10.173284848713902, 29.958498110628582, 29.857895876826014, 30.043915718407128, 15.518193055577115], \"customdata\": [[\"BU04-Rut2.2\"], [\"BU04-Ore1.3 \"], [\"BU04-Ore1.4 \"], [\"BU04-Ore1.9 \"], [\"BU04-Ore2_coltan1 \"]], \"hovertemplate\": \"Sample=BU04<br>Texture=rim<br>NbTa=%{a}<br>TiSn=%{b}<br>FeMn=%{c}<br>Comment=%{customdata[0]}<extra></extra>\", \"legendgroup\": \"BU04, rim\", \"marker\": {\"color\": \"#636efa\", \"size\": 10, \"symbol\": \"circle\"}, \"mode\": \"markers\", \"name\": \"BU04, rim\", \"showlegend\": true, \"subplot\": \"ternary\", \"type\": \"scatterternary\"}, {\"a\": [13.27852400572336, 66.97501060349857, 65.81355056242866, 66.24179024109455, 61.19718463784092], \"b\": [78.3742630243518, 2.874658924017065, 3.4789292302173402, 3.61286567282963, 10.776130407775513], \"c\": [8.347212969924822, 30.150330472484377, 30.707520207354, 30.145344086075827, 28.02668495438357], \"customdata\": [[\"BU04-Rut2.3\"], [\"BU04-Ore1.5 \"], [\"BU04-Ore1.6 \"], [\"BU04-Ore1.7 \"], [\"BU04-Ore2_coltan2 \"]], \"hovertemplate\": \"Sample=BU04<br>Texture=core<br>NbTa=%{a}<br>TiSn=%{b}<br>FeMn=%{c}<br>Comment=%{customdata[0]}<extra></extra>\", \"legendgroup\": \"BU04, core\", \"marker\": {\"color\": \"#636efa\", \"size\": 10, \"symbol\": \"diamond\"}, \"mode\": \"markers\", \"name\": \"BU04, core\", \"showlegend\": true, \"subplot\": \"ternary\", \"type\": \"scatterternary\"}, {\"a\": [68.03632031083622, 67.46718672848081, 68.23438545425404], \"b\": [1.391117416714895, 2.2915491829093764, 1.29391975582382], \"c\": [30.572562272448877, 30.24126408860982, 30.47169478992215], \"customdata\": [[\"BU04-Ore1.2 \"], [\"BU04-Ore1.8 \"], [\"BU04-Ore1.10 \"]], \"hovertemplate\": \"Sample=BU04<br>Texture=patchy<br>NbTa=%{a}<br>TiSn=%{b}<br>FeMn=%{c}<br>Comment=%{customdata[0]}<extra></extra>\", \"legendgroup\": \"BU04, patchy\", \"marker\": {\"color\": \"#636efa\", \"size\": 10, \"symbol\": \"square\"}, \"mode\": \"markers\", \"name\": \"BU04, patchy\", \"showlegend\": true, \"subplot\": \"ternary\", \"type\": \"scatterternary\"}, {\"a\": [3.0683110106542424], \"b\": [93.9482482947499], \"c\": [2.9834406945958447], \"customdata\": [[\"BU19TS(1)-Rut2.2\"]], \"hovertemplate\": \"Sample=BU19TS(1)<br>Texture=rim<br>NbTa=%{a}<br>TiSn=%{b}<br>FeMn=%{c}<br>Comment=%{customdata[0]}<extra></extra>\", \"legendgroup\": \"BU19TS(1), rim\", \"marker\": {\"color\": \"#EF553B\", \"size\": 10, \"symbol\": \"circle\"}, \"mode\": \"markers\", \"name\": \"BU19TS(1), rim\", \"showlegend\": true, \"subplot\": \"ternary\", \"type\": \"scatterternary\"}, {\"a\": [6.746372555456478, 6.297843809311946, 3.7617896230230756], \"b\": [88.3716699177764, 88.84958565505607, 92.77662786403563], \"c\": [4.881957526767125, 4.85257053563197, 3.461582512941301], \"customdata\": [[\"BU19TS(1)-rutile1.3\"], [\"BU19TS(1)-rutile1.4\"], [\"BU19TS(1)-Rut2.1\"]], \"hovertemplate\": \"Sample=BU19TS(1)<br>Texture=core<br>NbTa=%{a}<br>TiSn=%{b}<br>FeMn=%{c}<br>Comment=%{customdata[0]}<extra></extra>\", \"legendgroup\": \"BU19TS(1), core\", \"marker\": {\"color\": \"#EF553B\", \"size\": 10, \"symbol\": \"diamond\"}, \"mode\": \"markers\", \"name\": \"BU19TS(1), core\", \"showlegend\": true, \"subplot\": \"ternary\", \"type\": \"scatterternary\"}, {\"a\": [10.910039758186105, 9.590143477312733, 14.765489662354629, 10.35839938367452, 11.045640850839575, 9.750907093444813, 7.005727324150729], \"b\": [81.14986695559732, 84.05098713468085, 75.56407641708307, 81.56021722894427, 82.7667007442088, 84.80555918124868, 87.82497523216176], \"c\": [7.940093286216573, 6.35886938800641, 9.670433920562296, 8.081383387381216, 6.187658404951609, 5.443533725306507, 5.169297443687519], \"customdata\": [[\"BU19TS(2)-ore1.3\"], [\"BU19TS(2)-ore1.5\"], [\"BU19TS(2)-ore2.1\"], [\"BU19TS(2)-ore2.5\"], [\"BU19TS(2)-ore3a.3\"], [\"BU19TS(2)-ore3b.2\"], [\"BU19TS(2)-ore3d.1\"]], \"hovertemplate\": \"Sample=BU19TS(2)<br>Texture=rim<br>NbTa=%{a}<br>TiSn=%{b}<br>FeMn=%{c}<br>Comment=%{customdata[0]}<extra></extra>\", \"legendgroup\": \"BU19TS(2), rim\", \"marker\": {\"color\": \"#00cc96\", \"size\": 10, \"symbol\": \"circle\"}, \"mode\": \"markers\", \"name\": \"BU19TS(2), rim\", \"showlegend\": true, \"subplot\": \"ternary\", \"type\": \"scatterternary\"}, {\"a\": [8.386688582818817, 8.17818686450595, 8.135859944101037, 11.971276163393044, 10.596243534097285, 8.590642678800366, 9.726450842020034, 10.388648725138392, 12.4632843384814, 8.953199034937658, 12.397550837330375, 9.055646504216455, 11.669817356381474, 8.999697258419877], \"b\": [85.5243197300548, 86.07376573722394, 86.96385376469505, 81.10779096323427, 83.21922705708096, 84.87150145050923, 84.8405808135817, 83.66672128478658, 80.2506309313852, 85.92857867509345, 80.77797517762293, 85.37560889628652, 79.95335207057319, 85.01745402561001], \"c\": [6.088991687126392, 5.748047398270117, 4.900286291203929, 6.920932873372684, 6.184529408821762, 6.537855870690406, 5.432968344398273, 5.944629990075033, 7.286084730133396, 5.118222289968892, 6.824473985046681, 5.568744599497014, 8.376830573045321, 5.982848715970126], \"customdata\": [[\"BU19TS(2)-ore1.2\"], [\"BU19TS(2)-ore1.4\"], [\"BU19TS(2)-ore2.2\"], [\"BU19TS(2)-ore2.3\"], [\"BU19TS(2)-ore3a.1\"], [\"BU19TS(2)-ore3a.2\"], [\"BU19TS(2)-ore3b.1\"], [\"BU19TS(2)-ore3c.1\"], [\"BU19TS(2)-ore3c.2\"], [\"BU19TS(2)-ore3d.2\"], [\"BU19TS(2)-ore3d.3\"], [\"BU19TS(2)-Ore4.1\"], [\"BU19TS(2)-Ore4.2\"], [\"BU19TS(2)-Ore4.4\"]], \"hovertemplate\": \"Sample=BU19TS(2)<br>Texture=core<br>NbTa=%{a}<br>TiSn=%{b}<br>FeMn=%{c}<br>Comment=%{customdata[0]}<extra></extra>\", \"legendgroup\": \"BU19TS(2), core\", \"marker\": {\"color\": \"#00cc96\", \"size\": 10, \"symbol\": \"diamond\"}, \"mode\": \"markers\", \"name\": \"BU19TS(2), core\", \"showlegend\": true, \"subplot\": \"ternary\", \"type\": \"scatterternary\"}, {\"a\": [10.040541486769783, 9.01357323252808, 10.35933949089939, 10.099361516836874], \"b\": [81.94812403968078, 84.45117802707472, 81.70627436936024, 83.54178870918106], \"c\": [8.01133447354943, 6.535248740397181, 7.934386139740377, 6.358849773982062], \"customdata\": [[\"BU19TS(2)-ore1.1\"], [\"BU19TS(2)-ore1.6\"], [\"BU19TS(2)-ore2.4\"], [\"BU19TS(2)-Ore4.3\"]], \"hovertemplate\": \"Sample=BU19TS(2)<br>Texture=patchy<br>NbTa=%{a}<br>TiSn=%{b}<br>FeMn=%{c}<br>Comment=%{customdata[0]}<extra></extra>\", \"legendgroup\": \"BU19TS(2), patchy\", \"marker\": {\"color\": \"#00cc96\", \"size\": 10, \"symbol\": \"square\"}, \"mode\": \"markers\", \"name\": \"BU19TS(2), patchy\", \"showlegend\": true, \"subplot\": \"ternary\", \"type\": \"scatterternary\"}, {\"a\": [8.662988959314887, 8.426764912420918, 10.515240960296003, 9.28008237495644, 5.817183464664135, 8.79820896672955], \"b\": [85.51614669065349, 85.64600958762203, 81.8500067920797, 83.62385575702635, 89.9045719937578, 85.35253292835834], \"c\": [5.820864350031628, 5.927225499957042, 7.634752247624296, 7.096061868017195, 4.2782445415780606, 5.849258104912106], \"customdata\": [[\"BU19w-Rut2.5 \"], [\"BU19w-Rut2.8 \"], [\"BU19w-Rut3.2 \"], [\"BU19w-Rut3.4 \"], [\"BU19w-Rut4.1 \"], [\"BU19w-Area7_ore.3 \"]], \"hovertemplate\": \"Sample=BU19w<br>Texture=rim<br>NbTa=%{a}<br>TiSn=%{b}<br>FeMn=%{c}<br>Comment=%{customdata[0]}<extra></extra>\", \"legendgroup\": \"BU19w, rim\", \"marker\": {\"color\": \"#ab63fa\", \"size\": 10, \"symbol\": \"circle\"}, \"mode\": \"markers\", \"name\": \"BU19w, rim\", \"showlegend\": true, \"subplot\": \"ternary\", \"type\": \"scatterternary\"}, {\"a\": [4.372483478576038, 9.009761000619363, 3.9423824996016954, 6.730845016032028, 5.015945217413213, 2.9423698962468245, 4.358801458515487, 3.345059927802478, 3.590208404726715, 7.696517634227431], \"b\": [92.61036152198614, 84.84330700398792, 93.9064755543709, 88.62684166346965, 91.35236862018937, 95.25848036595941, 92.32895427624513, 94.10621727422208, 93.7990633092153, 87.35585420080955], \"c\": [3.0171549994378273, 6.146931995392716, 2.1511419460274115, 4.642313320498325, 3.6316861623974246, 1.7991497377937489, 3.312244265239391, 2.54872279797544, 2.6107282860579764, 4.94762816496302], \"customdata\": [[\"BU19w-Rut2.1\"], [\"BU19w-Rut2.2\"], [\"BU19w-Rut2.4 \"], [\"BU19w-Rut2.6 \"], [\"BU19w-Rut2.7 \"], [\"BU19w-Rut2b.2 \"], [\"BU19w-Rut2b.4 \"], [\"BU19w-Rut2b.5 \"], [\"BU19w-Rut4.2 \"], [\"BU19w-Area7_ore.2 \"]], \"hovertemplate\": \"Sample=BU19w<br>Texture=core<br>NbTa=%{a}<br>TiSn=%{b}<br>FeMn=%{c}<br>Comment=%{customdata[0]}<extra></extra>\", \"legendgroup\": \"BU19w, core\", \"marker\": {\"color\": \"#ab63fa\", \"size\": 10, \"symbol\": \"diamond\"}, \"mode\": \"markers\", \"name\": \"BU19w, core\", \"showlegend\": true, \"subplot\": \"ternary\", \"type\": \"scatterternary\"}, {\"a\": [8.876218463195025], \"b\": [85.29151620504982], \"c\": [5.832265331755147], \"customdata\": [[\"BU19w-Rut4.3 \"]], \"hovertemplate\": \"Sample=BU19w<br>Texture=patchy<br>NbTa=%{a}<br>TiSn=%{b}<br>FeMn=%{c}<br>Comment=%{customdata[0]}<extra></extra>\", \"legendgroup\": \"BU19w, patchy\", \"marker\": {\"color\": \"#ab63fa\", \"size\": 10, \"symbol\": \"square\"}, \"mode\": \"markers\", \"name\": \"BU19w, patchy\", \"showlegend\": true, \"subplot\": \"ternary\", \"type\": \"scatterternary\"}, {\"a\": [65.51411904948931, 65.15196203741804, 64.93043753781986, 65.7033846719184, 65.94722329257571], \"b\": [4.887561703633801, 5.262087874549505, 5.593104660334339, 4.124216341081518, 3.714693572377977], \"c\": [29.598319246876887, 29.585950088032448, 29.476457801845807, 30.172398987000093, 30.33808313504631], \"customdata\": [[\"BU19TS-coltan1.1 \"], [\"BU19TS-coltan1.5 \"], [\"BU19TS-coltan1.6 \"], [\"BU19TS-coltan2.6 \"], [\"BU19TS-coltan3.1 \"]], \"hovertemplate\": \"Sample=BU19TS<br>Texture=rim<br>NbTa=%{a}<br>TiSn=%{b}<br>FeMn=%{c}<br>Comment=%{customdata[0]}<extra></extra>\", \"legendgroup\": \"BU19TS, rim\", \"marker\": {\"color\": \"#FFA15A\", \"size\": 10, \"symbol\": \"circle\"}, \"mode\": \"markers\", \"name\": \"BU19TS, rim\", \"showlegend\": true, \"subplot\": \"ternary\", \"type\": \"scatterternary\"}, {\"a\": [66.37766245567931, 65.90937065757359, 65.07287860038089, 66.4812915742209, 66.79618375201387, 64.27181364874272, 65.51845860497887], \"b\": [3.7735865273942815, 4.249546764712898, 5.69790118376441, 3.2767756865493984, 3.2271069638617638, 6.270026092292985, 4.712873904748656], \"c\": [29.8487510169264, 29.841082577713525, 29.229220215854696, 30.241932739229703, 29.976709284124357, 29.458160258964305, 29.76866749027247], \"customdata\": [[\"BU19TS-coltan1.2 \"], [\"BU19TS-coltan1.4 \"], [\"BU19TS-coltan1.7 \"], [\"BU19TS-coltan2.2 \"], [\"BU19TS-coltan2.3 \"], [\"BU19TS-coltan3.2 \"], [\"BU19TS-coltan3.3 \"]], \"hovertemplate\": \"Sample=BU19TS<br>Texture=core<br>NbTa=%{a}<br>TiSn=%{b}<br>FeMn=%{c}<br>Comment=%{customdata[0]}<extra></extra>\", \"legendgroup\": \"BU19TS, core\", \"marker\": {\"color\": \"#FFA15A\", \"size\": 10, \"symbol\": \"diamond\"}, \"mode\": \"markers\", \"name\": \"BU19TS, core\", \"showlegend\": true, \"subplot\": \"ternary\", \"type\": \"scatterternary\"}, {\"a\": [65.52842839186737, 63.734704990468025, 66.77232269094702], \"b\": [3.7340931076725337, 2.977952503370984, 2.93375198589845], \"c\": [30.737478500460096, 33.287342506161, 30.293925323154504], \"customdata\": [[\"BU19TS-coltan1.3 \"], [\"BU19TS-coltan2.4 \"], [\"BU19TS-coltan2.5 \"]], \"hovertemplate\": \"Sample=BU19TS<br>Texture=patchy<br>NbTa=%{a}<br>TiSn=%{b}<br>FeMn=%{c}<br>Comment=%{customdata[0]}<extra></extra>\", \"legendgroup\": \"BU19TS, patchy\", \"marker\": {\"color\": \"#FFA15A\", \"size\": 10, \"symbol\": \"square\"}, \"mode\": \"markers\", \"name\": \"BU19TS, patchy\", \"showlegend\": true, \"subplot\": \"ternary\", \"type\": \"scatterternary\"}, {\"a\": [68.32952792166934, 67.7485650261398, 68.37144452237142, 67.41707059119602, 68.70086805158046, 69.02240413983655, 68.95870644444727, 68.86860434587211], \"b\": [0.8029332787830064, 1.379512151062571, 0.8613110226339853, 1.8891396203931723, 1.012608423119209, 0.5979338530154055, 0.4566456569973884, 0.5157742546719332], \"c\": [30.867538799547646, 30.87192282279765, 30.76724445499459, 30.693789788410818, 30.286523525300318, 30.379662007148045, 30.584647898555346, 30.61562139945595], \"customdata\": [[\"BU24-coltan1.1 \"], [\"BU24-coltan2.1 \"], [\"BU24-coltan3.2 \"], [\"BU24-coltan3.3 \"], [\"BU24-coltan3.6 \"], [\"BU24-Ore4.1\"], [\"BU24-Ore4.4\"], [\"BU24-Ore4.6\"]], \"hovertemplate\": \"Sample=BU24<br>Texture=rim<br>NbTa=%{a}<br>TiSn=%{b}<br>FeMn=%{c}<br>Comment=%{customdata[0]}<extra></extra>\", \"legendgroup\": \"BU24, rim\", \"marker\": {\"color\": \"#19d3f3\", \"size\": 10, \"symbol\": \"circle\"}, \"mode\": \"markers\", \"name\": \"BU24, rim\", \"showlegend\": true, \"subplot\": \"ternary\", \"type\": \"scatterternary\"}, {\"a\": [68.50867983447544, 68.12203846612161, 68.13258267011244, 67.35015570981781, 68.34502718229882, 68.43970705130572, 67.71437751462236, 68.26754545480725, 67.91843923285688, 67.48478226228498], \"b\": [0.7634314708504811, 1.376882832554704, 1.3454882970865298, 0.9082021211442396, 0.8065711819239204, 0.8149325509896937, 1.442856298648471, 0.8932220133680163, 1.3878559574049492, 1.4961306036410513], \"c\": [30.72788869467409, 30.501078701323696, 30.521929032801026, 31.741642169037938, 30.84840163577725, 30.745360397704584, 30.842766186729165, 30.839232531824738, 30.693704809738172, 31.019087134073963], \"customdata\": [[\"BU24-coltan1.2 \"], [\"BU24-coltan2.2 \"], [\"BU24-coltan2.3 \"], [\"BU24-coltan3.1 \"], [\"BU24-coltan3.4 \"], [\"BU24-coltan3.5 \"], [\"BU24-Ore4.2\"], [\"BU24-Ore4.3\"], [\"BU24-Ore4.5\"], [\"BU24-Ore4.7\"]], \"hovertemplate\": \"Sample=BU24<br>Texture=core<br>NbTa=%{a}<br>TiSn=%{b}<br>FeMn=%{c}<br>Comment=%{customdata[0]}<extra></extra>\", \"legendgroup\": \"BU24, core\", \"marker\": {\"color\": \"#19d3f3\", \"size\": 10, \"symbol\": \"diamond\"}, \"mode\": \"markers\", \"name\": \"BU24, core\", \"showlegend\": true, \"subplot\": \"ternary\", \"type\": \"scatterternary\"}],                        {\"legend\": {\"title\": {\"text\": \"Sample, Texture\"}, \"tracegroupgap\": 0}, \"margin\": {\"t\": 60}, \"template\": {\"data\": {\"bar\": [{\"error_x\": {\"color\": \"#2a3f5f\"}, \"error_y\": {\"color\": \"#2a3f5f\"}, \"marker\": {\"line\": {\"color\": \"#E5ECF6\", \"width\": 0.5}}, \"type\": \"bar\"}], \"barpolar\": [{\"marker\": {\"line\": {\"color\": \"#E5ECF6\", \"width\": 0.5}}, \"type\": \"barpolar\"}], \"carpet\": [{\"aaxis\": {\"endlinecolor\": \"#2a3f5f\", \"gridcolor\": \"white\", \"linecolor\": \"white\", \"minorgridcolor\": \"white\", \"startlinecolor\": \"#2a3f5f\"}, \"baxis\": {\"endlinecolor\": \"#2a3f5f\", \"gridcolor\": \"white\", \"linecolor\": \"white\", \"minorgridcolor\": \"white\", \"startlinecolor\": \"#2a3f5f\"}, \"type\": \"carpet\"}], \"choropleth\": [{\"colorbar\": {\"outlinewidth\": 0, \"ticks\": \"\"}, \"type\": \"choropleth\"}], \"contour\": [{\"colorbar\": {\"outlinewidth\": 0, \"ticks\": \"\"}, \"colorscale\": [[0.0, \"#0d0887\"], [0.1111111111111111, \"#46039f\"], [0.2222222222222222, \"#7201a8\"], [0.3333333333333333, \"#9c179e\"], [0.4444444444444444, \"#bd3786\"], [0.5555555555555556, \"#d8576b\"], [0.6666666666666666, \"#ed7953\"], [0.7777777777777778, \"#fb9f3a\"], [0.8888888888888888, \"#fdca26\"], [1.0, \"#f0f921\"]], \"type\": \"contour\"}], \"contourcarpet\": [{\"colorbar\": {\"outlinewidth\": 0, \"ticks\": \"\"}, \"type\": \"contourcarpet\"}], \"heatmap\": [{\"colorbar\": {\"outlinewidth\": 0, \"ticks\": \"\"}, \"colorscale\": [[0.0, \"#0d0887\"], [0.1111111111111111, \"#46039f\"], [0.2222222222222222, \"#7201a8\"], [0.3333333333333333, \"#9c179e\"], [0.4444444444444444, \"#bd3786\"], [0.5555555555555556, \"#d8576b\"], [0.6666666666666666, \"#ed7953\"], [0.7777777777777778, \"#fb9f3a\"], [0.8888888888888888, \"#fdca26\"], [1.0, \"#f0f921\"]], \"type\": \"heatmap\"}], \"heatmapgl\": [{\"colorbar\": {\"outlinewidth\": 0, \"ticks\": \"\"}, \"colorscale\": [[0.0, \"#0d0887\"], [0.1111111111111111, \"#46039f\"], [0.2222222222222222, \"#7201a8\"], [0.3333333333333333, \"#9c179e\"], [0.4444444444444444, \"#bd3786\"], [0.5555555555555556, \"#d8576b\"], [0.6666666666666666, \"#ed7953\"], [0.7777777777777778, \"#fb9f3a\"], [0.8888888888888888, \"#fdca26\"], [1.0, \"#f0f921\"]], \"type\": \"heatmapgl\"}], \"histogram\": [{\"marker\": {\"colorbar\": {\"outlinewidth\": 0, \"ticks\": \"\"}}, \"type\": \"histogram\"}], \"histogram2d\": [{\"colorbar\": {\"outlinewidth\": 0, \"ticks\": \"\"}, \"colorscale\": [[0.0, \"#0d0887\"], [0.1111111111111111, \"#46039f\"], [0.2222222222222222, \"#7201a8\"], [0.3333333333333333, \"#9c179e\"], [0.4444444444444444, \"#bd3786\"], [0.5555555555555556, \"#d8576b\"], [0.6666666666666666, \"#ed7953\"], [0.7777777777777778, \"#fb9f3a\"], [0.8888888888888888, \"#fdca26\"], [1.0, \"#f0f921\"]], \"type\": \"histogram2d\"}], \"histogram2dcontour\": [{\"colorbar\": {\"outlinewidth\": 0, \"ticks\": \"\"}, \"colorscale\": [[0.0, \"#0d0887\"], [0.1111111111111111, \"#46039f\"], [0.2222222222222222, \"#7201a8\"], [0.3333333333333333, \"#9c179e\"], [0.4444444444444444, \"#bd3786\"], [0.5555555555555556, \"#d8576b\"], [0.6666666666666666, \"#ed7953\"], [0.7777777777777778, \"#fb9f3a\"], [0.8888888888888888, \"#fdca26\"], [1.0, \"#f0f921\"]], \"type\": \"histogram2dcontour\"}], \"mesh3d\": [{\"colorbar\": {\"outlinewidth\": 0, \"ticks\": \"\"}, \"type\": \"mesh3d\"}], \"parcoords\": [{\"line\": {\"colorbar\": {\"outlinewidth\": 0, \"ticks\": \"\"}}, \"type\": \"parcoords\"}], \"pie\": [{\"automargin\": true, \"type\": \"pie\"}], \"scatter\": [{\"marker\": {\"colorbar\": {\"outlinewidth\": 0, \"ticks\": \"\"}}, \"type\": \"scatter\"}], \"scatter3d\": [{\"line\": {\"colorbar\": {\"outlinewidth\": 0, \"ticks\": \"\"}}, \"marker\": {\"colorbar\": {\"outlinewidth\": 0, \"ticks\": \"\"}}, \"type\": \"scatter3d\"}], \"scattercarpet\": [{\"marker\": {\"colorbar\": {\"outlinewidth\": 0, \"ticks\": \"\"}}, \"type\": \"scattercarpet\"}], \"scattergeo\": [{\"marker\": {\"colorbar\": {\"outlinewidth\": 0, \"ticks\": \"\"}}, \"type\": \"scattergeo\"}], \"scattergl\": [{\"marker\": {\"colorbar\": {\"outlinewidth\": 0, \"ticks\": \"\"}}, \"type\": \"scattergl\"}], \"scattermapbox\": [{\"marker\": {\"colorbar\": {\"outlinewidth\": 0, \"ticks\": \"\"}}, \"type\": \"scattermapbox\"}], \"scatterpolar\": [{\"marker\": {\"colorbar\": {\"outlinewidth\": 0, \"ticks\": \"\"}}, \"type\": \"scatterpolar\"}], \"scatterpolargl\": [{\"marker\": {\"colorbar\": {\"outlinewidth\": 0, \"ticks\": \"\"}}, \"type\": \"scatterpolargl\"}], \"scatterternary\": [{\"marker\": {\"colorbar\": {\"outlinewidth\": 0, \"ticks\": \"\"}}, \"type\": \"scatterternary\"}], \"surface\": [{\"colorbar\": {\"outlinewidth\": 0, \"ticks\": \"\"}, \"colorscale\": [[0.0, \"#0d0887\"], [0.1111111111111111, \"#46039f\"], [0.2222222222222222, \"#7201a8\"], [0.3333333333333333, \"#9c179e\"], [0.4444444444444444, \"#bd3786\"], [0.5555555555555556, \"#d8576b\"], [0.6666666666666666, \"#ed7953\"], [0.7777777777777778, \"#fb9f3a\"], [0.8888888888888888, \"#fdca26\"], [1.0, \"#f0f921\"]], \"type\": \"surface\"}], \"table\": [{\"cells\": {\"fill\": {\"color\": \"#EBF0F8\"}, \"line\": {\"color\": \"white\"}}, \"header\": {\"fill\": {\"color\": \"#C8D4E3\"}, \"line\": {\"color\": \"white\"}}, \"type\": \"table\"}]}, \"layout\": {\"annotationdefaults\": {\"arrowcolor\": \"#2a3f5f\", \"arrowhead\": 0, \"arrowwidth\": 1}, \"autotypenumbers\": \"strict\", \"coloraxis\": {\"colorbar\": {\"outlinewidth\": 0, \"ticks\": \"\"}}, \"colorscale\": {\"diverging\": [[0, \"#8e0152\"], [0.1, \"#c51b7d\"], [0.2, \"#de77ae\"], [0.3, \"#f1b6da\"], [0.4, \"#fde0ef\"], [0.5, \"#f7f7f7\"], [0.6, \"#e6f5d0\"], [0.7, \"#b8e186\"], [0.8, \"#7fbc41\"], [0.9, \"#4d9221\"], [1, \"#276419\"]], \"sequential\": [[0.0, \"#0d0887\"], [0.1111111111111111, \"#46039f\"], [0.2222222222222222, \"#7201a8\"], [0.3333333333333333, \"#9c179e\"], [0.4444444444444444, \"#bd3786\"], [0.5555555555555556, \"#d8576b\"], [0.6666666666666666, \"#ed7953\"], [0.7777777777777778, \"#fb9f3a\"], [0.8888888888888888, \"#fdca26\"], [1.0, \"#f0f921\"]], \"sequentialminus\": [[0.0, \"#0d0887\"], [0.1111111111111111, \"#46039f\"], [0.2222222222222222, \"#7201a8\"], [0.3333333333333333, \"#9c179e\"], [0.4444444444444444, \"#bd3786\"], [0.5555555555555556, \"#d8576b\"], [0.6666666666666666, \"#ed7953\"], [0.7777777777777778, \"#fb9f3a\"], [0.8888888888888888, \"#fdca26\"], [1.0, \"#f0f921\"]]}, \"colorway\": [\"#636efa\", \"#EF553B\", \"#00cc96\", \"#ab63fa\", \"#FFA15A\", \"#19d3f3\", \"#FF6692\", \"#B6E880\", \"#FF97FF\", \"#FECB52\"], \"font\": {\"color\": \"#2a3f5f\"}, \"geo\": {\"bgcolor\": \"white\", \"lakecolor\": \"white\", \"landcolor\": \"#E5ECF6\", \"showlakes\": true, \"showland\": true, \"subunitcolor\": \"white\"}, \"hoverlabel\": {\"align\": \"left\"}, \"hovermode\": \"closest\", \"mapbox\": {\"style\": \"light\"}, \"paper_bgcolor\": \"white\", \"plot_bgcolor\": \"#E5ECF6\", \"polar\": {\"angularaxis\": {\"gridcolor\": \"white\", \"linecolor\": \"white\", \"ticks\": \"\"}, \"bgcolor\": \"#E5ECF6\", \"radialaxis\": {\"gridcolor\": \"white\", \"linecolor\": \"white\", \"ticks\": \"\"}}, \"scene\": {\"xaxis\": {\"backgroundcolor\": \"#E5ECF6\", \"gridcolor\": \"white\", \"gridwidth\": 2, \"linecolor\": \"white\", \"showbackground\": true, \"ticks\": \"\", \"zerolinecolor\": \"white\"}, \"yaxis\": {\"backgroundcolor\": \"#E5ECF6\", \"gridcolor\": \"white\", \"gridwidth\": 2, \"linecolor\": \"white\", \"showbackground\": true, \"ticks\": \"\", \"zerolinecolor\": \"white\"}, \"zaxis\": {\"backgroundcolor\": \"#E5ECF6\", \"gridcolor\": \"white\", \"gridwidth\": 2, \"linecolor\": \"white\", \"showbackground\": true, \"ticks\": \"\", \"zerolinecolor\": \"white\"}}, \"shapedefaults\": {\"line\": {\"color\": \"#2a3f5f\"}}, \"ternary\": {\"aaxis\": {\"gridcolor\": \"white\", \"linecolor\": \"white\", \"ticks\": \"\"}, \"baxis\": {\"gridcolor\": \"white\", \"linecolor\": \"white\", \"ticks\": \"\"}, \"bgcolor\": \"#E5ECF6\", \"caxis\": {\"gridcolor\": \"white\", \"linecolor\": \"white\", \"ticks\": \"\"}}, \"title\": {\"x\": 0.05}, \"xaxis\": {\"automargin\": true, \"gridcolor\": \"white\", \"linecolor\": \"white\", \"ticks\": \"\", \"title\": {\"standoff\": 15}, \"zerolinecolor\": \"white\", \"zerolinewidth\": 2}, \"yaxis\": {\"automargin\": true, \"gridcolor\": \"white\", \"linecolor\": \"white\", \"ticks\": \"\", \"title\": {\"standoff\": 15}, \"zerolinecolor\": \"white\", \"zerolinewidth\": 2}}}, \"ternary\": {\"aaxis\": {\"linecolor\": \"black\", \"min\": 0.6, \"showgrid\": false, \"tickcolor\": \"black\", \"ticks\": \"inside\", \"title\": {\"text\": \"NbTa\"}}, \"baxis\": {\"linecolor\": \"black\", \"min\": 0, \"showgrid\": false, \"tickcolor\": \"black\", \"ticks\": \"inside\", \"title\": {\"text\": \"TiSn\"}}, \"bgcolor\": \"white\", \"caxis\": {\"linecolor\": \"black\", \"min\": 0.25, \"showgrid\": false, \"tickcolor\": \"black\", \"ticks\": \"inside\", \"title\": {\"text\": \"FeMn\"}}, \"domain\": {\"x\": [0.0, 1.0], \"y\": [0.0, 1.0]}}},                        {\"responsive\": true}                    ).then(function(){\n",
       "                            \n",
       "var gd = document.getElementById('5cc97510-44b9-4221-a832-7f429ab97b5e');\n",
       "var x = new MutationObserver(function (mutations, observer) {{\n",
       "        var display = window.getComputedStyle(gd).display;\n",
       "        if (!display || display === 'none') {{\n",
       "            console.log([gd, 'removed!']);\n",
       "            Plotly.purge(gd);\n",
       "            observer.disconnect();\n",
       "        }}\n",
       "}});\n",
       "\n",
       "// Listen for the removal of the full notebook cells\n",
       "var notebookContainer = gd.closest('#notebook-container');\n",
       "if (notebookContainer) {{\n",
       "    x.observe(notebookContainer, {childList: true});\n",
       "}}\n",
       "\n",
       "// Listen for the clearing of the current output cell\n",
       "var outputEl = gd.closest('.output');\n",
       "if (outputEl) {{\n",
       "    x.observe(outputEl, {childList: true});\n",
       "}}\n",
       "\n",
       "                        })                };                });            </script>        </div>"
      ]
     },
     "metadata": {},
     "output_type": "display_data"
    }
   ],
   "source": [
    "# --- ternary plot of normalized subset\n",
    "\n",
    "fig2 = px.scatter_ternary(df_subset_normalized, a=A, b=B, c=C,\n",
    "                          color=\"Sample\",hover_data=['Comment'],symbol=\"Texture\")#,range_color=[1,5],color_continuous_scale='Inferno'))\n",
    "\n",
    "fig2.update_traces(marker=dict(size=10),\n",
    "                  selector=dict(mode='markers'))\n",
    "\n",
    "fig2.update_ternaries(bgcolor=\"white\")\n",
    "\n",
    "fig2.update_ternaries(aaxis_linecolor='black',aaxis_tickcolor='black',aaxis_ticks='inside',aaxis_showgrid=False,\n",
    "                      baxis_linecolor='black',baxis_tickcolor='black',baxis_ticks='inside',baxis_showgrid=False,\n",
    "                      caxis_linecolor='black',caxis_tickcolor='black',caxis_ticks='inside',caxis_showgrid=False)\n",
    "\n",
    "# fig2.update_ternaries(aaxis_min=0,baxis_min=0.7,caxis_min=0)\n",
    "fig2.update_ternaries(aaxis_min=0.6,baxis_min=0,caxis_min=0.25)\n",
    "\n",
    "fig2.write_image(\"CGM_ternary_NbTa-TiSn-FeMn.pdf\")\n",
    "fig2.show()"
   ]
  },
  {
   "cell_type": "markdown",
   "metadata": {},
   "source": [
    "# This section works for molar% data"
   ]
  },
  {
   "cell_type": "code",
   "execution_count": 6,
   "metadata": {},
   "outputs": [
    {
     "data": {
      "text/html": [
       "<div>\n",
       "<style scoped>\n",
       "    .dataframe tbody tr th:only-of-type {\n",
       "        vertical-align: middle;\n",
       "    }\n",
       "\n",
       "    .dataframe tbody tr th {\n",
       "        vertical-align: top;\n",
       "    }\n",
       "\n",
       "    .dataframe thead th {\n",
       "        text-align: right;\n",
       "    }\n",
       "</style>\n",
       "<table border=\"1\" class=\"dataframe\">\n",
       "  <thead>\n",
       "    <tr style=\"text-align: right;\">\n",
       "      <th></th>\n",
       "      <th>Facies</th>\n",
       "      <th>Sample</th>\n",
       "      <th>Area</th>\n",
       "      <th>Comment</th>\n",
       "      <th>Mineral</th>\n",
       "      <th>Texture</th>\n",
       "      <th>Ta2O5</th>\n",
       "      <th>Nb2O5</th>\n",
       "      <th>SnO2</th>\n",
       "      <th>TiO2</th>\n",
       "      <th>Al2O3</th>\n",
       "      <th>FeO</th>\n",
       "      <th>MnO</th>\n",
       "      <th>CaO</th>\n",
       "      <th>MgO</th>\n",
       "      <th>Total_mol</th>\n",
       "      <th>NbTa</th>\n",
       "      <th>FeMn</th>\n",
       "      <th>TiSn</th>\n",
       "    </tr>\n",
       "  </thead>\n",
       "  <tbody>\n",
       "    <tr>\n",
       "      <th>0</th>\n",
       "      <td>SAPN</td>\n",
       "      <td>BU04</td>\n",
       "      <td>Ore2</td>\n",
       "      <td>BU04-Rut2.2</td>\n",
       "      <td>Rutile</td>\n",
       "      <td>rim</td>\n",
       "      <td>3.951993</td>\n",
       "      <td>4.408476</td>\n",
       "      <td>1.227491</td>\n",
       "      <td>79.047743</td>\n",
       "      <td>0.379038</td>\n",
       "      <td>10.858962</td>\n",
       "      <td>0.126296</td>\n",
       "      <td>0.000000</td>\n",
       "      <td>0.000000</td>\n",
       "      <td>100.0</td>\n",
       "      <td>8.360469</td>\n",
       "      <td>10.985259</td>\n",
       "      <td>80.275235</td>\n",
       "    </tr>\n",
       "    <tr>\n",
       "      <th>1</th>\n",
       "      <td>SAPN</td>\n",
       "      <td>BU04</td>\n",
       "      <td>Ore2</td>\n",
       "      <td>BU04-Rut2.3</td>\n",
       "      <td>Rutile</td>\n",
       "      <td>core</td>\n",
       "      <td>2.337544</td>\n",
       "      <td>4.748365</td>\n",
       "      <td>1.255745</td>\n",
       "      <td>82.391039</td>\n",
       "      <td>0.358546</td>\n",
       "      <td>8.878785</td>\n",
       "      <td>0.029975</td>\n",
       "      <td>0.000000</td>\n",
       "      <td>0.000000</td>\n",
       "      <td>100.0</td>\n",
       "      <td>7.085909</td>\n",
       "      <td>8.908760</td>\n",
       "      <td>83.646784</td>\n",
       "    </tr>\n",
       "    <tr>\n",
       "      <th>2</th>\n",
       "      <td>SAPN</td>\n",
       "      <td>BU04</td>\n",
       "      <td>Ore2</td>\n",
       "      <td>BU04-Ore2_coltan1</td>\n",
       "      <td>NaN</td>\n",
       "      <td>rim</td>\n",
       "      <td>5.594418</td>\n",
       "      <td>10.716565</td>\n",
       "      <td>1.328765</td>\n",
       "      <td>61.675203</td>\n",
       "      <td>3.041449</td>\n",
       "      <td>13.247483</td>\n",
       "      <td>4.317739</td>\n",
       "      <td>0.078379</td>\n",
       "      <td>0.000000</td>\n",
       "      <td>100.0</td>\n",
       "      <td>16.310983</td>\n",
       "      <td>17.565222</td>\n",
       "      <td>63.003968</td>\n",
       "    </tr>\n",
       "    <tr>\n",
       "      <th>3</th>\n",
       "      <td>PAPN</td>\n",
       "      <td>BU19TS(1)</td>\n",
       "      <td>Ore1</td>\n",
       "      <td>BU19TS(1)-rutile1.3</td>\n",
       "      <td>Rutile</td>\n",
       "      <td>core</td>\n",
       "      <td>2.878096</td>\n",
       "      <td>0.561230</td>\n",
       "      <td>0.766428</td>\n",
       "      <td>89.337993</td>\n",
       "      <td>1.478573</td>\n",
       "      <td>4.809841</td>\n",
       "      <td>0.167840</td>\n",
       "      <td>0.000000</td>\n",
       "      <td>0.000000</td>\n",
       "      <td>100.0</td>\n",
       "      <td>3.439326</td>\n",
       "      <td>4.977681</td>\n",
       "      <td>90.104420</td>\n",
       "    </tr>\n",
       "    <tr>\n",
       "      <th>4</th>\n",
       "      <td>PAPN</td>\n",
       "      <td>BU19TS(1)</td>\n",
       "      <td>Ore1</td>\n",
       "      <td>BU19TS(1)-rutile1.4</td>\n",
       "      <td>Rutile</td>\n",
       "      <td>core</td>\n",
       "      <td>2.512587</td>\n",
       "      <td>0.703681</td>\n",
       "      <td>0.752833</td>\n",
       "      <td>89.996981</td>\n",
       "      <td>0.972633</td>\n",
       "      <td>4.783599</td>\n",
       "      <td>0.172754</td>\n",
       "      <td>0.000000</td>\n",
       "      <td>0.104933</td>\n",
       "      <td>100.0</td>\n",
       "      <td>3.216268</td>\n",
       "      <td>4.956353</td>\n",
       "      <td>90.749814</td>\n",
       "    </tr>\n",
       "    <tr>\n",
       "      <th>...</th>\n",
       "      <td>...</td>\n",
       "      <td>...</td>\n",
       "      <td>...</td>\n",
       "      <td>...</td>\n",
       "      <td>...</td>\n",
       "      <td>...</td>\n",
       "      <td>...</td>\n",
       "      <td>...</td>\n",
       "      <td>...</td>\n",
       "      <td>...</td>\n",
       "      <td>...</td>\n",
       "      <td>...</td>\n",
       "      <td>...</td>\n",
       "      <td>...</td>\n",
       "      <td>...</td>\n",
       "      <td>...</td>\n",
       "      <td>...</td>\n",
       "      <td>...</td>\n",
       "      <td>...</td>\n",
       "    </tr>\n",
       "    <tr>\n",
       "      <th>87</th>\n",
       "      <td>Albitized</td>\n",
       "      <td>BU24</td>\n",
       "      <td>Ore4</td>\n",
       "      <td>BU24-Ore4.3</td>\n",
       "      <td>CGM</td>\n",
       "      <td>core</td>\n",
       "      <td>3.672511</td>\n",
       "      <td>48.111772</td>\n",
       "      <td>0.106394</td>\n",
       "      <td>1.248712</td>\n",
       "      <td>0.000000</td>\n",
       "      <td>37.352448</td>\n",
       "      <td>9.433694</td>\n",
       "      <td>0.074394</td>\n",
       "      <td>0.000075</td>\n",
       "      <td>100.0</td>\n",
       "      <td>51.784283</td>\n",
       "      <td>46.786142</td>\n",
       "      <td>1.355105</td>\n",
       "    </tr>\n",
       "    <tr>\n",
       "      <th>88</th>\n",
       "      <td>Albitized</td>\n",
       "      <td>BU24</td>\n",
       "      <td>Ore4</td>\n",
       "      <td>BU24-Ore4.4</td>\n",
       "      <td>CGM</td>\n",
       "      <td>rim</td>\n",
       "      <td>7.882567</td>\n",
       "      <td>44.643181</td>\n",
       "      <td>0.037477</td>\n",
       "      <td>0.658176</td>\n",
       "      <td>0.000000</td>\n",
       "      <td>33.529954</td>\n",
       "      <td>13.062611</td>\n",
       "      <td>0.185956</td>\n",
       "      <td>0.000078</td>\n",
       "      <td>100.0</td>\n",
       "      <td>52.525748</td>\n",
       "      <td>46.592565</td>\n",
       "      <td>0.695653</td>\n",
       "    </tr>\n",
       "    <tr>\n",
       "      <th>89</th>\n",
       "      <td>Albitized</td>\n",
       "      <td>BU24</td>\n",
       "      <td>Ore4</td>\n",
       "      <td>BU24-Ore4.5</td>\n",
       "      <td>CGM</td>\n",
       "      <td>core</td>\n",
       "      <td>4.775464</td>\n",
       "      <td>46.603284</td>\n",
       "      <td>0.226583</td>\n",
       "      <td>1.873180</td>\n",
       "      <td>0.000000</td>\n",
       "      <td>35.597771</td>\n",
       "      <td>10.840403</td>\n",
       "      <td>0.083239</td>\n",
       "      <td>0.000076</td>\n",
       "      <td>100.0</td>\n",
       "      <td>51.378749</td>\n",
       "      <td>46.438174</td>\n",
       "      <td>2.099763</td>\n",
       "    </tr>\n",
       "    <tr>\n",
       "      <th>90</th>\n",
       "      <td>Albitized</td>\n",
       "      <td>BU24</td>\n",
       "      <td>Ore4</td>\n",
       "      <td>BU24-Ore4.6</td>\n",
       "      <td>CGM</td>\n",
       "      <td>rim</td>\n",
       "      <td>7.620343</td>\n",
       "      <td>44.891468</td>\n",
       "      <td>0.057512</td>\n",
       "      <td>0.729036</td>\n",
       "      <td>0.000000</td>\n",
       "      <td>37.046787</td>\n",
       "      <td>9.641591</td>\n",
       "      <td>0.013185</td>\n",
       "      <td>0.000078</td>\n",
       "      <td>100.0</td>\n",
       "      <td>52.511811</td>\n",
       "      <td>46.688378</td>\n",
       "      <td>0.786548</td>\n",
       "    </tr>\n",
       "    <tr>\n",
       "      <th>91</th>\n",
       "      <td>Albitized</td>\n",
       "      <td>BU24</td>\n",
       "      <td>Ore4</td>\n",
       "      <td>BU24-Ore4.7</td>\n",
       "      <td>CGM</td>\n",
       "      <td>core</td>\n",
       "      <td>5.148156</td>\n",
       "      <td>45.752948</td>\n",
       "      <td>0.222909</td>\n",
       "      <td>2.034035</td>\n",
       "      <td>0.000000</td>\n",
       "      <td>37.733816</td>\n",
       "      <td>9.059127</td>\n",
       "      <td>0.048931</td>\n",
       "      <td>0.000076</td>\n",
       "      <td>100.0</td>\n",
       "      <td>50.901105</td>\n",
       "      <td>46.792943</td>\n",
       "      <td>2.256944</td>\n",
       "    </tr>\n",
       "  </tbody>\n",
       "</table>\n",
       "<p>92 rows × 19 columns</p>\n",
       "</div>"
      ],
      "text/plain": [
       "       Facies     Sample  Area              Comment Mineral Texture     Ta2O5  \\\n",
       "0        SAPN       BU04  Ore2          BU04-Rut2.2  Rutile     rim  3.951993   \n",
       "1        SAPN       BU04  Ore2          BU04-Rut2.3  Rutile    core  2.337544   \n",
       "2        SAPN       BU04  Ore2   BU04-Ore2_coltan1      NaN     rim  5.594418   \n",
       "3        PAPN  BU19TS(1)  Ore1  BU19TS(1)-rutile1.3  Rutile    core  2.878096   \n",
       "4        PAPN  BU19TS(1)  Ore1  BU19TS(1)-rutile1.4  Rutile    core  2.512587   \n",
       "..        ...        ...   ...                  ...     ...     ...       ...   \n",
       "87  Albitized       BU24  Ore4          BU24-Ore4.3     CGM    core  3.672511   \n",
       "88  Albitized       BU24  Ore4          BU24-Ore4.4     CGM     rim  7.882567   \n",
       "89  Albitized       BU24  Ore4          BU24-Ore4.5     CGM    core  4.775464   \n",
       "90  Albitized       BU24  Ore4          BU24-Ore4.6     CGM     rim  7.620343   \n",
       "91  Albitized       BU24  Ore4          BU24-Ore4.7     CGM    core  5.148156   \n",
       "\n",
       "        Nb2O5      SnO2       TiO2     Al2O3        FeO        MnO       CaO  \\\n",
       "0    4.408476  1.227491  79.047743  0.379038  10.858962   0.126296  0.000000   \n",
       "1    4.748365  1.255745  82.391039  0.358546   8.878785   0.029975  0.000000   \n",
       "2   10.716565  1.328765  61.675203  3.041449  13.247483   4.317739  0.078379   \n",
       "3    0.561230  0.766428  89.337993  1.478573   4.809841   0.167840  0.000000   \n",
       "4    0.703681  0.752833  89.996981  0.972633   4.783599   0.172754  0.000000   \n",
       "..        ...       ...        ...       ...        ...        ...       ...   \n",
       "87  48.111772  0.106394   1.248712  0.000000  37.352448   9.433694  0.074394   \n",
       "88  44.643181  0.037477   0.658176  0.000000  33.529954  13.062611  0.185956   \n",
       "89  46.603284  0.226583   1.873180  0.000000  35.597771  10.840403  0.083239   \n",
       "90  44.891468  0.057512   0.729036  0.000000  37.046787   9.641591  0.013185   \n",
       "91  45.752948  0.222909   2.034035  0.000000  37.733816   9.059127  0.048931   \n",
       "\n",
       "         MgO  Total_mol       NbTa       FeMn       TiSn  \n",
       "0   0.000000      100.0   8.360469  10.985259  80.275235  \n",
       "1   0.000000      100.0   7.085909   8.908760  83.646784  \n",
       "2   0.000000      100.0  16.310983  17.565222  63.003968  \n",
       "3   0.000000      100.0   3.439326   4.977681  90.104420  \n",
       "4   0.104933      100.0   3.216268   4.956353  90.749814  \n",
       "..       ...        ...        ...        ...        ...  \n",
       "87  0.000075      100.0  51.784283  46.786142   1.355105  \n",
       "88  0.000078      100.0  52.525748  46.592565   0.695653  \n",
       "89  0.000076      100.0  51.378749  46.438174   2.099763  \n",
       "90  0.000078      100.0  52.511811  46.688378   0.786548  \n",
       "91  0.000076      100.0  50.901105  46.792943   2.256944  \n",
       "\n",
       "[92 rows x 19 columns]"
      ]
     },
     "execution_count": 6,
     "metadata": {},
     "output_type": "execute_result"
    }
   ],
   "source": [
    "# --- create dataframe from excel spreadsheet using pandas import command \n",
    "\n",
    "df_moles = pd.read_csv('./_DATA/EPMA_moles.csv', \n",
    "                          encoding = \"ANSI\")\n",
    "\n",
    "df_moles['NbTa'] = df_moles['Nb2O5'] + df_moles['Ta2O5']\n",
    "df_moles['FeMn'] = df_moles['FeO'] + df_moles['MnO']\n",
    "df_moles['TiSn'] = df_moles['TiO2'] + df_moles['SnO2']\n",
    "\n",
    "\n",
    "df_moles\n"
   ]
  },
  {
   "cell_type": "code",
   "execution_count": 13,
   "metadata": {},
   "outputs": [
    {
     "data": {
      "application/vnd.plotly.v1+json": {
       "config": {
        "plotlyServerURL": "https://plot.ly"
       },
       "data": [
        {
         "a": [
          8.392278649033557,
          16.836244604359013,
          50.92798717822606,
          50.6466190227212,
          49.28193976331981
         ],
         "b": [
          80.58066608998855,
          65.03288139905025,
          3.8562546345753215,
          4.373470327515938,
          5.867920071385097
         ],
         "c": [
          11.027055260977882,
          18.130873996590733,
          45.21575818719861,
          44.979910649762864,
          44.8501401652951
         ],
         "customdata": [
          [
           "BU04-Rut2.2"
          ],
          [
           "BU04-Ore2_coltan1 "
          ],
          [
           "BU04-Ore1.3 "
          ],
          [
           "BU04-Ore1.4 "
          ],
          [
           "BU04-Ore1.9 "
          ]
         ],
         "hovertemplate": "Facies=SAPN<br>Texture=rim<br>NbTa=%{a}<br>TiSn=%{b}<br>FeMn=%{c}<br>Comment=%{customdata[0]}<extra></extra>",
         "legendgroup": "SAPN, rim",
         "marker": {
          "color": "#636efa",
          "size": 10,
          "symbol": "circle"
         },
         "mode": "markers",
         "name": "SAPN, rim",
         "showlegend": true,
         "subplot": "ternary",
         "type": "scatterternary"
        },
        {
         "a": [
          7.11140694181872,
          50.34769099200545,
          49.04634621325727,
          49.523532320366044,
          44.08929637209989
         ],
         "b": [
          83.94777580566483,
          4.321983316155285,
          5.185216904983943,
          5.402084372004822,
          15.52725048070364
         ],
         "c": [
          8.94081725251645,
          45.33032569183927,
          45.768436881758774,
          45.074383307629134,
          40.38345314719648
         ],
         "customdata": [
          [
           "BU04-Rut2.3"
          ],
          [
           "BU04-Ore1.5 "
          ],
          [
           "BU04-Ore1.6 "
          ],
          [
           "BU04-Ore1.7 "
          ],
          [
           "BU04-Ore2_coltan2 "
          ]
         ],
         "hovertemplate": "Facies=SAPN<br>Texture=core<br>NbTa=%{a}<br>TiSn=%{b}<br>FeMn=%{c}<br>Comment=%{customdata[0]}<extra></extra>",
         "legendgroup": "SAPN, core",
         "marker": {
          "color": "#636efa",
          "size": 10,
          "symbol": "diamond"
         },
         "mode": "markers",
         "name": "SAPN, core",
         "showlegend": true,
         "subplot": "ternary",
         "type": "scatterternary"
        },
        {
         "a": [
          51.55685296976683,
          50.90602475196929,
          51.78466756254123
         ],
         "b": [
          2.1083337778874136,
          3.4580857771647744,
          1.963971799903231
         ],
         "c": [
          46.33481325234576,
          45.63588947086593,
          46.251360637555536
         ],
         "customdata": [
          [
           "BU04-Ore1.2 "
          ],
          [
           "BU04-Ore1.8 "
          ],
          [
           "BU04-Ore1.10 "
          ]
         ],
         "hovertemplate": "Facies=SAPN<br>Texture=patchy<br>NbTa=%{a}<br>TiSn=%{b}<br>FeMn=%{c}<br>Comment=%{customdata[0]}<extra></extra>",
         "legendgroup": "SAPN, patchy",
         "marker": {
          "color": "#636efa",
          "size": 10,
          "symbol": "square"
         },
         "mode": "markers",
         "name": "SAPN, patchy",
         "showlegend": true,
         "subplot": "ternary",
         "type": "scatterternary"
        },
        {
         "a": [
          1.5580585462912686,
          5.769761516811375,
          5.036579330739671,
          7.971241231150772,
          5.462092362651578,
          5.845666064851225,
          5.125336969797893,
          3.630018252364131,
          4.527607550780034,
          4.398717236553719,
          5.549386142498496,
          4.865817105270113,
          2.9957251462595655,
          4.6015306233185855,
          48.71449596526625,
          48.31509825563545,
          48.07185005578185,
          48.92408085744193,
          49.19497000536456
         ],
         "b": [
          95.4120170063972,
          85.832020750145,
          88.28428177998885,
          81.58747123237987,
          86.01511162516846,
          87.60496568261,
          89.15212985840904,
          91.0130378632235,
          89.38798220535564,
          89.41333537377322,
          86.39217972663346,
          87.69283963453816,
          92.59786586461183,
          89.28005586883484,
          7.268512752550388,
          7.8044708014359765,
          8.281813546113211,
          6.141951278528074,
          5.54213596110053
         ],
         "c": [
          3.0299244473115277,
          8.398217733043625,
          6.679138889271474,
          10.441287536469348,
          8.522796012179962,
          6.549368252538781,
          5.722533171793058,
          5.35694388441237,
          6.084410243864323,
          6.18794738967306,
          8.058434130868049,
          7.441343260191727,
          4.406408989128592,
          6.118413507846582,
          44.016991282183355,
          43.88043094292858,
          43.64633639810494,
          44.93396786403,
          45.262894033534906
         ],
         "customdata": [
          [
           "BU19TS(1)-Rut2.2"
          ],
          [
           "BU19TS(2)-ore1.3"
          ],
          [
           "BU19TS(2)-ore1.5"
          ],
          [
           "BU19TS(2)-ore2.1"
          ],
          [
           "BU19TS(2)-ore2.5"
          ],
          [
           "BU19TS(2)-ore3a.3"
          ],
          [
           "BU19TS(2)-ore3b.2"
          ],
          [
           "BU19TS(2)-ore3d.1"
          ],
          [
           "BU19w-Rut2.5 "
          ],
          [
           "BU19w-Rut2.8 "
          ],
          [
           "BU19w-Rut3.2 "
          ],
          [
           "BU19w-Rut3.4 "
          ],
          [
           "BU19w-Rut4.1 "
          ],
          [
           "BU19w-Area7_ore.3 "
          ],
          [
           "BU19TS-coltan1.1 "
          ],
          [
           "BU19TS-coltan1.5 "
          ],
          [
           "BU19TS-coltan1.6 "
          ],
          [
           "BU19TS-coltan2.6 "
          ],
          [
           "BU19TS-coltan3.1 "
          ]
         ],
         "hovertemplate": "Facies=PAPN<br>Texture=rim<br>NbTa=%{a}<br>TiSn=%{b}<br>FeMn=%{c}<br>Comment=%{customdata[0]}<extra></extra>",
         "legendgroup": "PAPN, rim",
         "marker": {
          "color": "#EF553B",
          "size": 10,
          "symbol": "circle"
         },
         "mode": "markers",
         "name": "PAPN, rim",
         "showlegend": true,
         "subplot": "ternary",
         "type": "scatterternary"
        },
        {
         "a": [
          3.4909422631109117,
          3.2513028936611827,
          1.9169506365740978,
          4.376882023900359,
          4.263429028652364,
          4.240427597220972,
          6.36672733778475,
          5.594526598528612,
          4.488099641014209,
          5.111824993575104,
          5.478917087658404,
          6.645783624032394,
          4.68639044972806,
          6.608416304085927,
          4.742557891043591,
          6.19646686079232,
          4.711875912886013,
          2.2351065720845007,
          4.71739343739372,
          2.01082852574891,
          3.482627642569433,
          2.5724899520661566,
          1.493151975235687,
          2.2279568368066553,
          1.7009793532643591,
          1.8279172212171502,
          4.002276786432915,
          49.67557346739482,
          49.15285354449432,
          48.22816786230244,
          49.79174256405931,
          50.14584839495825,
          47.35332827804144,
          48.719294800858485
         ],
         "b": [
          91.45667389155292,
          91.73835480446488,
          94.55511002246723,
          89.26761830638263,
          89.74345965171898,
          90.65149301934005,
          86.27170286356382,
          87.87494884987926,
          88.68061900243289,
          89.17748282830465,
          88.25075157394228,
          85.58391422000588,
          89.9555273797101,
          86.11612005937147,
          89.42459657302389,
          84.90763503571887,
          89.02337096359165,
          94.68030179879527,
          88.84569960066186,
          95.79477375234362,
          91.71338454997787,
          93.70239912391817,
          96.68083424712326,
          94.38600352539483,
          95.7069446001947,
          95.51363254078483,
          90.85207727507874,
          5.648137275165741,
          6.338320262277026,
          8.445894531298432,
          4.908339400797762,
          4.845367129503025,
          9.239092130895338,
          7.008952835995885
         ],
         "c": [
          5.052383845336162,
          5.010342301873922,
          3.527939340958667,
          6.355499669717019,
          5.993111319628661,
          5.108079383438975,
          7.361569798651435,
          6.530524551592121,
          6.83128135655289,
          5.710692178120248,
          6.270331338399318,
          7.770302155961728,
          5.358082170561847,
          7.275463636542609,
          5.832845535932522,
          8.895898103488793,
          6.2647531235223335,
          3.084591629120238,
          6.436906961944426,
          2.194397721907481,
          4.803987807452683,
          3.725110924015676,
          1.826013777641064,
          3.386039637798529,
          2.5920760465409445,
          2.6584502379980175,
          5.145645938488352,
          44.676289257439436,
          44.50882619322866,
          43.32593760639914,
          45.29991803514293,
          45.008784475538725,
          43.40757959106322,
          44.27175236314563
         ],
         "customdata": [
          [
           "BU19TS(1)-rutile1.3"
          ],
          [
           "BU19TS(1)-rutile1.4"
          ],
          [
           "BU19TS(1)-Rut2.1"
          ],
          [
           "BU19TS(2)-ore1.2"
          ],
          [
           "BU19TS(2)-ore1.4"
          ],
          [
           "BU19TS(2)-ore2.2"
          ],
          [
           "BU19TS(2)-ore2.3"
          ],
          [
           "BU19TS(2)-ore3a.1"
          ],
          [
           "BU19TS(2)-ore3a.2"
          ],
          [
           "BU19TS(2)-ore3b.1"
          ],
          [
           "BU19TS(2)-ore3c.1"
          ],
          [
           "BU19TS(2)-ore3c.2"
          ],
          [
           "BU19TS(2)-ore3d.2"
          ],
          [
           "BU19TS(2)-ore3d.3"
          ],
          [
           "BU19TS(2)-Ore4.1"
          ],
          [
           "BU19TS(2)-Ore4.2"
          ],
          [
           "BU19TS(2)-Ore4.4"
          ],
          [
           "BU19w-Rut2.1"
          ],
          [
           "BU19w-Rut2.2"
          ],
          [
           "BU19w-Rut2.4 "
          ],
          [
           "BU19w-Rut2.6 "
          ],
          [
           "BU19w-Rut2.7 "
          ],
          [
           "BU19w-Rut2b.2 "
          ],
          [
           "BU19w-Rut2b.4 "
          ],
          [
           "BU19w-Rut2b.5 "
          ],
          [
           "BU19w-Rut4.2 "
          ],
          [
           "BU19w-Area7_ore.2 "
          ],
          [
           "BU19TS-coltan1.2 "
          ],
          [
           "BU19TS-coltan1.4 "
          ],
          [
           "BU19TS-coltan1.7 "
          ],
          [
           "BU19TS-coltan2.2 "
          ],
          [
           "BU19TS-coltan2.3 "
          ],
          [
           "BU19TS-coltan3.2 "
          ],
          [
           "BU19TS-coltan3.3 "
          ]
         ],
         "hovertemplate": "Facies=PAPN<br>Texture=core<br>NbTa=%{a}<br>TiSn=%{b}<br>FeMn=%{c}<br>Comment=%{customdata[0]}<extra></extra>",
         "legendgroup": "PAPN, core",
         "marker": {
          "color": "#EF553B",
          "size": 10,
          "symbol": "diamond"
         },
         "mode": "markers",
         "name": "PAPN, core",
         "showlegend": true,
         "subplot": "ternary",
         "type": "scatterternary"
        },
        {
         "a": [
          5.285623345820648,
          4.719483674880312,
          5.462615170759891,
          5.318234629175455,
          4.644225010525819,
          48.730320920785836,
          46.772514590754504,
          50.118957291474
         ],
         "b": [
          86.27959321538422,
          88.43683758730664,
          86.1695737085236,
          87.98473704614531,
          89.25264613250143,
          5.553728662522306,
          4.3708157725159165,
          4.404117890748666
         ],
         "c": [
          8.43478343879514,
          6.843678737813047,
          8.367811120716505,
          6.697028324679222,
          6.103128856972745,
          45.715950416691854,
          48.856669636729585,
          45.47692481777734
         ],
         "customdata": [
          [
           "BU19TS(2)-ore1.1"
          ],
          [
           "BU19TS(2)-ore1.6"
          ],
          [
           "BU19TS(2)-ore2.4"
          ],
          [
           "BU19TS(2)-Ore4.3"
          ],
          [
           "BU19w-Rut4.3 "
          ],
          [
           "BU19TS-coltan1.3 "
          ],
          [
           "BU19TS-coltan2.4 "
          ],
          [
           "BU19TS-coltan2.5 "
          ]
         ],
         "hovertemplate": "Facies=PAPN<br>Texture=patchy<br>NbTa=%{a}<br>TiSn=%{b}<br>FeMn=%{c}<br>Comment=%{customdata[0]}<extra></extra>",
         "legendgroup": "PAPN, patchy",
         "marker": {
          "color": "#EF553B",
          "size": 10,
          "symbol": "square"
         },
         "mode": "markers",
         "name": "PAPN, patchy",
         "showlegend": true,
         "subplot": "ternary",
         "type": "scatterternary"
        },
        {
         "a": [
          51.894344148033554,
          51.22709257523779,
          51.94271431018761,
          50.84898251367138,
          52.323931645313074,
          52.69787072097998,
          52.62364600759485,
          52.51877630245004
         ],
         "b": [
          1.2196102377537492,
          2.086196117774049,
          1.3086993464429122,
          2.8497478956257356,
          1.5424449622667875,
          0.9130322618744401,
          0.6969492510447501,
          0.7866525817087151
         ],
         "c": [
          46.886045614212705,
          46.68671130698816,
          46.74858634336948,
          46.301269590702894,
          46.133623392420134,
          46.38909701714559,
          46.6794047413604,
          46.69457111584125
         ],
         "customdata": [
          [
           "BU24-coltan1.1 "
          ],
          [
           "BU24-coltan2.1 "
          ],
          [
           "BU24-coltan3.2 "
          ],
          [
           "BU24-coltan3.3 "
          ],
          [
           "BU24-coltan3.6 "
          ],
          [
           "BU24-Ore4.1"
          ],
          [
           "BU24-Ore4.4"
          ],
          [
           "BU24-Ore4.6"
          ]
         ],
         "hovertemplate": "Facies=Albitized<br>Texture=rim<br>NbTa=%{a}<br>TiSn=%{b}<br>FeMn=%{c}<br>Comment=%{customdata[0]}<extra></extra>",
         "legendgroup": "Albitized, rim",
         "marker": {
          "color": "#00cc96",
          "size": 10,
          "symbol": "circle"
         },
         "mode": "markers",
         "name": "Albitized, rim",
         "showlegend": true,
         "subplot": "ternary",
         "type": "scatterternary"
        },
        {
         "a": [
          52.10129440348991,
          51.65536202849298,
          51.66748848934216,
          50.77288712264444,
          51.91222611616365,
          52.0215526412637,
          51.18800988528231,
          51.82287515290096,
          51.42159044637245,
          50.92606223977717
         ],
         "b": [
          1.1611891490471837,
          2.088116644419007,
          2.0406683081091606,
          1.369322558958268,
          1.2252802376720806,
          1.2388731169935923,
          2.18142572343107,
          1.3561153421939527,
          2.1015135638073046,
          2.258051006039649
         ],
         "c": [
          46.73751644746291,
          46.25652132708801,
          46.29184320254868,
          47.85779031839729,
          46.862493646164275,
          46.73957424174271,
          46.63056439128661,
          46.82100950490509,
          46.47689598982026,
          46.81588675418319
         ],
         "customdata": [
          [
           "BU24-coltan1.2 "
          ],
          [
           "BU24-coltan2.2 "
          ],
          [
           "BU24-coltan2.3 "
          ],
          [
           "BU24-coltan3.1 "
          ],
          [
           "BU24-coltan3.4 "
          ],
          [
           "BU24-coltan3.5 "
          ],
          [
           "BU24-Ore4.2"
          ],
          [
           "BU24-Ore4.3"
          ],
          [
           "BU24-Ore4.5"
          ],
          [
           "BU24-Ore4.7"
          ]
         ],
         "hovertemplate": "Facies=Albitized<br>Texture=core<br>NbTa=%{a}<br>TiSn=%{b}<br>FeMn=%{c}<br>Comment=%{customdata[0]}<extra></extra>",
         "legendgroup": "Albitized, core",
         "marker": {
          "color": "#00cc96",
          "size": 10,
          "symbol": "diamond"
         },
         "mode": "markers",
         "name": "Albitized, core",
         "showlegend": true,
         "subplot": "ternary",
         "type": "scatterternary"
        }
       ],
       "layout": {
        "legend": {
         "title": {
          "text": "Facies, Texture"
         },
         "tracegroupgap": 0
        },
        "margin": {
         "t": 60
        },
        "template": {
         "data": {
          "bar": [
           {
            "error_x": {
             "color": "#2a3f5f"
            },
            "error_y": {
             "color": "#2a3f5f"
            },
            "marker": {
             "line": {
              "color": "#E5ECF6",
              "width": 0.5
             }
            },
            "type": "bar"
           }
          ],
          "barpolar": [
           {
            "marker": {
             "line": {
              "color": "#E5ECF6",
              "width": 0.5
             }
            },
            "type": "barpolar"
           }
          ],
          "carpet": [
           {
            "aaxis": {
             "endlinecolor": "#2a3f5f",
             "gridcolor": "white",
             "linecolor": "white",
             "minorgridcolor": "white",
             "startlinecolor": "#2a3f5f"
            },
            "baxis": {
             "endlinecolor": "#2a3f5f",
             "gridcolor": "white",
             "linecolor": "white",
             "minorgridcolor": "white",
             "startlinecolor": "#2a3f5f"
            },
            "type": "carpet"
           }
          ],
          "choropleth": [
           {
            "colorbar": {
             "outlinewidth": 0,
             "ticks": ""
            },
            "type": "choropleth"
           }
          ],
          "contour": [
           {
            "colorbar": {
             "outlinewidth": 0,
             "ticks": ""
            },
            "colorscale": [
             [
              0,
              "#0d0887"
             ],
             [
              0.1111111111111111,
              "#46039f"
             ],
             [
              0.2222222222222222,
              "#7201a8"
             ],
             [
              0.3333333333333333,
              "#9c179e"
             ],
             [
              0.4444444444444444,
              "#bd3786"
             ],
             [
              0.5555555555555556,
              "#d8576b"
             ],
             [
              0.6666666666666666,
              "#ed7953"
             ],
             [
              0.7777777777777778,
              "#fb9f3a"
             ],
             [
              0.8888888888888888,
              "#fdca26"
             ],
             [
              1,
              "#f0f921"
             ]
            ],
            "type": "contour"
           }
          ],
          "contourcarpet": [
           {
            "colorbar": {
             "outlinewidth": 0,
             "ticks": ""
            },
            "type": "contourcarpet"
           }
          ],
          "heatmap": [
           {
            "colorbar": {
             "outlinewidth": 0,
             "ticks": ""
            },
            "colorscale": [
             [
              0,
              "#0d0887"
             ],
             [
              0.1111111111111111,
              "#46039f"
             ],
             [
              0.2222222222222222,
              "#7201a8"
             ],
             [
              0.3333333333333333,
              "#9c179e"
             ],
             [
              0.4444444444444444,
              "#bd3786"
             ],
             [
              0.5555555555555556,
              "#d8576b"
             ],
             [
              0.6666666666666666,
              "#ed7953"
             ],
             [
              0.7777777777777778,
              "#fb9f3a"
             ],
             [
              0.8888888888888888,
              "#fdca26"
             ],
             [
              1,
              "#f0f921"
             ]
            ],
            "type": "heatmap"
           }
          ],
          "heatmapgl": [
           {
            "colorbar": {
             "outlinewidth": 0,
             "ticks": ""
            },
            "colorscale": [
             [
              0,
              "#0d0887"
             ],
             [
              0.1111111111111111,
              "#46039f"
             ],
             [
              0.2222222222222222,
              "#7201a8"
             ],
             [
              0.3333333333333333,
              "#9c179e"
             ],
             [
              0.4444444444444444,
              "#bd3786"
             ],
             [
              0.5555555555555556,
              "#d8576b"
             ],
             [
              0.6666666666666666,
              "#ed7953"
             ],
             [
              0.7777777777777778,
              "#fb9f3a"
             ],
             [
              0.8888888888888888,
              "#fdca26"
             ],
             [
              1,
              "#f0f921"
             ]
            ],
            "type": "heatmapgl"
           }
          ],
          "histogram": [
           {
            "marker": {
             "colorbar": {
              "outlinewidth": 0,
              "ticks": ""
             }
            },
            "type": "histogram"
           }
          ],
          "histogram2d": [
           {
            "colorbar": {
             "outlinewidth": 0,
             "ticks": ""
            },
            "colorscale": [
             [
              0,
              "#0d0887"
             ],
             [
              0.1111111111111111,
              "#46039f"
             ],
             [
              0.2222222222222222,
              "#7201a8"
             ],
             [
              0.3333333333333333,
              "#9c179e"
             ],
             [
              0.4444444444444444,
              "#bd3786"
             ],
             [
              0.5555555555555556,
              "#d8576b"
             ],
             [
              0.6666666666666666,
              "#ed7953"
             ],
             [
              0.7777777777777778,
              "#fb9f3a"
             ],
             [
              0.8888888888888888,
              "#fdca26"
             ],
             [
              1,
              "#f0f921"
             ]
            ],
            "type": "histogram2d"
           }
          ],
          "histogram2dcontour": [
           {
            "colorbar": {
             "outlinewidth": 0,
             "ticks": ""
            },
            "colorscale": [
             [
              0,
              "#0d0887"
             ],
             [
              0.1111111111111111,
              "#46039f"
             ],
             [
              0.2222222222222222,
              "#7201a8"
             ],
             [
              0.3333333333333333,
              "#9c179e"
             ],
             [
              0.4444444444444444,
              "#bd3786"
             ],
             [
              0.5555555555555556,
              "#d8576b"
             ],
             [
              0.6666666666666666,
              "#ed7953"
             ],
             [
              0.7777777777777778,
              "#fb9f3a"
             ],
             [
              0.8888888888888888,
              "#fdca26"
             ],
             [
              1,
              "#f0f921"
             ]
            ],
            "type": "histogram2dcontour"
           }
          ],
          "mesh3d": [
           {
            "colorbar": {
             "outlinewidth": 0,
             "ticks": ""
            },
            "type": "mesh3d"
           }
          ],
          "parcoords": [
           {
            "line": {
             "colorbar": {
              "outlinewidth": 0,
              "ticks": ""
             }
            },
            "type": "parcoords"
           }
          ],
          "pie": [
           {
            "automargin": true,
            "type": "pie"
           }
          ],
          "scatter": [
           {
            "marker": {
             "colorbar": {
              "outlinewidth": 0,
              "ticks": ""
             }
            },
            "type": "scatter"
           }
          ],
          "scatter3d": [
           {
            "line": {
             "colorbar": {
              "outlinewidth": 0,
              "ticks": ""
             }
            },
            "marker": {
             "colorbar": {
              "outlinewidth": 0,
              "ticks": ""
             }
            },
            "type": "scatter3d"
           }
          ],
          "scattercarpet": [
           {
            "marker": {
             "colorbar": {
              "outlinewidth": 0,
              "ticks": ""
             }
            },
            "type": "scattercarpet"
           }
          ],
          "scattergeo": [
           {
            "marker": {
             "colorbar": {
              "outlinewidth": 0,
              "ticks": ""
             }
            },
            "type": "scattergeo"
           }
          ],
          "scattergl": [
           {
            "marker": {
             "colorbar": {
              "outlinewidth": 0,
              "ticks": ""
             }
            },
            "type": "scattergl"
           }
          ],
          "scattermapbox": [
           {
            "marker": {
             "colorbar": {
              "outlinewidth": 0,
              "ticks": ""
             }
            },
            "type": "scattermapbox"
           }
          ],
          "scatterpolar": [
           {
            "marker": {
             "colorbar": {
              "outlinewidth": 0,
              "ticks": ""
             }
            },
            "type": "scatterpolar"
           }
          ],
          "scatterpolargl": [
           {
            "marker": {
             "colorbar": {
              "outlinewidth": 0,
              "ticks": ""
             }
            },
            "type": "scatterpolargl"
           }
          ],
          "scatterternary": [
           {
            "marker": {
             "colorbar": {
              "outlinewidth": 0,
              "ticks": ""
             }
            },
            "type": "scatterternary"
           }
          ],
          "surface": [
           {
            "colorbar": {
             "outlinewidth": 0,
             "ticks": ""
            },
            "colorscale": [
             [
              0,
              "#0d0887"
             ],
             [
              0.1111111111111111,
              "#46039f"
             ],
             [
              0.2222222222222222,
              "#7201a8"
             ],
             [
              0.3333333333333333,
              "#9c179e"
             ],
             [
              0.4444444444444444,
              "#bd3786"
             ],
             [
              0.5555555555555556,
              "#d8576b"
             ],
             [
              0.6666666666666666,
              "#ed7953"
             ],
             [
              0.7777777777777778,
              "#fb9f3a"
             ],
             [
              0.8888888888888888,
              "#fdca26"
             ],
             [
              1,
              "#f0f921"
             ]
            ],
            "type": "surface"
           }
          ],
          "table": [
           {
            "cells": {
             "fill": {
              "color": "#EBF0F8"
             },
             "line": {
              "color": "white"
             }
            },
            "header": {
             "fill": {
              "color": "#C8D4E3"
             },
             "line": {
              "color": "white"
             }
            },
            "type": "table"
           }
          ]
         },
         "layout": {
          "annotationdefaults": {
           "arrowcolor": "#2a3f5f",
           "arrowhead": 0,
           "arrowwidth": 1
          },
          "autotypenumbers": "strict",
          "coloraxis": {
           "colorbar": {
            "outlinewidth": 0,
            "ticks": ""
           }
          },
          "colorscale": {
           "diverging": [
            [
             0,
             "#8e0152"
            ],
            [
             0.1,
             "#c51b7d"
            ],
            [
             0.2,
             "#de77ae"
            ],
            [
             0.3,
             "#f1b6da"
            ],
            [
             0.4,
             "#fde0ef"
            ],
            [
             0.5,
             "#f7f7f7"
            ],
            [
             0.6,
             "#e6f5d0"
            ],
            [
             0.7,
             "#b8e186"
            ],
            [
             0.8,
             "#7fbc41"
            ],
            [
             0.9,
             "#4d9221"
            ],
            [
             1,
             "#276419"
            ]
           ],
           "sequential": [
            [
             0,
             "#0d0887"
            ],
            [
             0.1111111111111111,
             "#46039f"
            ],
            [
             0.2222222222222222,
             "#7201a8"
            ],
            [
             0.3333333333333333,
             "#9c179e"
            ],
            [
             0.4444444444444444,
             "#bd3786"
            ],
            [
             0.5555555555555556,
             "#d8576b"
            ],
            [
             0.6666666666666666,
             "#ed7953"
            ],
            [
             0.7777777777777778,
             "#fb9f3a"
            ],
            [
             0.8888888888888888,
             "#fdca26"
            ],
            [
             1,
             "#f0f921"
            ]
           ],
           "sequentialminus": [
            [
             0,
             "#0d0887"
            ],
            [
             0.1111111111111111,
             "#46039f"
            ],
            [
             0.2222222222222222,
             "#7201a8"
            ],
            [
             0.3333333333333333,
             "#9c179e"
            ],
            [
             0.4444444444444444,
             "#bd3786"
            ],
            [
             0.5555555555555556,
             "#d8576b"
            ],
            [
             0.6666666666666666,
             "#ed7953"
            ],
            [
             0.7777777777777778,
             "#fb9f3a"
            ],
            [
             0.8888888888888888,
             "#fdca26"
            ],
            [
             1,
             "#f0f921"
            ]
           ]
          },
          "colorway": [
           "#636efa",
           "#EF553B",
           "#00cc96",
           "#ab63fa",
           "#FFA15A",
           "#19d3f3",
           "#FF6692",
           "#B6E880",
           "#FF97FF",
           "#FECB52"
          ],
          "font": {
           "color": "#2a3f5f"
          },
          "geo": {
           "bgcolor": "white",
           "lakecolor": "white",
           "landcolor": "#E5ECF6",
           "showlakes": true,
           "showland": true,
           "subunitcolor": "white"
          },
          "hoverlabel": {
           "align": "left"
          },
          "hovermode": "closest",
          "mapbox": {
           "style": "light"
          },
          "paper_bgcolor": "white",
          "plot_bgcolor": "#E5ECF6",
          "polar": {
           "angularaxis": {
            "gridcolor": "white",
            "linecolor": "white",
            "ticks": ""
           },
           "bgcolor": "#E5ECF6",
           "radialaxis": {
            "gridcolor": "white",
            "linecolor": "white",
            "ticks": ""
           }
          },
          "scene": {
           "xaxis": {
            "backgroundcolor": "#E5ECF6",
            "gridcolor": "white",
            "gridwidth": 2,
            "linecolor": "white",
            "showbackground": true,
            "ticks": "",
            "zerolinecolor": "white"
           },
           "yaxis": {
            "backgroundcolor": "#E5ECF6",
            "gridcolor": "white",
            "gridwidth": 2,
            "linecolor": "white",
            "showbackground": true,
            "ticks": "",
            "zerolinecolor": "white"
           },
           "zaxis": {
            "backgroundcolor": "#E5ECF6",
            "gridcolor": "white",
            "gridwidth": 2,
            "linecolor": "white",
            "showbackground": true,
            "ticks": "",
            "zerolinecolor": "white"
           }
          },
          "shapedefaults": {
           "line": {
            "color": "#2a3f5f"
           }
          },
          "ternary": {
           "aaxis": {
            "gridcolor": "white",
            "linecolor": "white",
            "ticks": ""
           },
           "baxis": {
            "gridcolor": "white",
            "linecolor": "white",
            "ticks": ""
           },
           "bgcolor": "#E5ECF6",
           "caxis": {
            "gridcolor": "white",
            "linecolor": "white",
            "ticks": ""
           }
          },
          "title": {
           "x": 0.05
          },
          "xaxis": {
           "automargin": true,
           "gridcolor": "white",
           "linecolor": "white",
           "ticks": "",
           "title": {
            "standoff": 15
           },
           "zerolinecolor": "white",
           "zerolinewidth": 2
          },
          "yaxis": {
           "automargin": true,
           "gridcolor": "white",
           "linecolor": "white",
           "ticks": "",
           "title": {
            "standoff": 15
           },
           "zerolinecolor": "white",
           "zerolinewidth": 2
          }
         }
        },
        "ternary": {
         "aaxis": {
          "linecolor": "black",
          "showgrid": false,
          "tickcolor": "black",
          "ticks": "inside",
          "title": {
           "text": "NbTa"
          }
         },
         "baxis": {
          "linecolor": "black",
          "showgrid": false,
          "tickcolor": "black",
          "ticks": "inside",
          "title": {
           "text": "TiSn"
          }
         },
         "bgcolor": "white",
         "caxis": {
          "linecolor": "black",
          "showgrid": false,
          "tickcolor": "black",
          "ticks": "inside",
          "title": {
           "text": "FeMn"
          }
         },
         "domain": {
          "x": [
           0,
           1
          ],
          "y": [
           0,
           1
          ]
         }
        }
       }
      },
      "text/html": [
       "<div>                            <div id=\"65d598c0-6f59-44a5-bc38-ca769109ef11\" class=\"plotly-graph-div\" style=\"height:525px; width:100%;\"></div>            <script type=\"text/javascript\">                require([\"plotly\"], function(Plotly) {                    window.PLOTLYENV=window.PLOTLYENV || {};                                    if (document.getElementById(\"65d598c0-6f59-44a5-bc38-ca769109ef11\")) {                    Plotly.newPlot(                        \"65d598c0-6f59-44a5-bc38-ca769109ef11\",                        [{\"a\": [8.392278649033557, 16.836244604359013, 50.92798717822606, 50.6466190227212, 49.28193976331981], \"b\": [80.58066608998855, 65.03288139905025, 3.8562546345753215, 4.373470327515938, 5.867920071385097], \"c\": [11.027055260977882, 18.130873996590733, 45.21575818719861, 44.979910649762864, 44.8501401652951], \"customdata\": [[\"BU04-Rut2.2\"], [\"BU04-Ore2_coltan1 \"], [\"BU04-Ore1.3 \"], [\"BU04-Ore1.4 \"], [\"BU04-Ore1.9 \"]], \"hovertemplate\": \"Facies=SAPN<br>Texture=rim<br>NbTa=%{a}<br>TiSn=%{b}<br>FeMn=%{c}<br>Comment=%{customdata[0]}<extra></extra>\", \"legendgroup\": \"SAPN, rim\", \"marker\": {\"color\": \"#636efa\", \"size\": 10, \"symbol\": \"circle\"}, \"mode\": \"markers\", \"name\": \"SAPN, rim\", \"showlegend\": true, \"subplot\": \"ternary\", \"type\": \"scatterternary\"}, {\"a\": [7.11140694181872, 50.34769099200545, 49.04634621325727, 49.523532320366044, 44.08929637209989], \"b\": [83.94777580566483, 4.321983316155285, 5.185216904983943, 5.402084372004822, 15.52725048070364], \"c\": [8.94081725251645, 45.33032569183927, 45.768436881758774, 45.074383307629134, 40.38345314719648], \"customdata\": [[\"BU04-Rut2.3\"], [\"BU04-Ore1.5 \"], [\"BU04-Ore1.6 \"], [\"BU04-Ore1.7 \"], [\"BU04-Ore2_coltan2 \"]], \"hovertemplate\": \"Facies=SAPN<br>Texture=core<br>NbTa=%{a}<br>TiSn=%{b}<br>FeMn=%{c}<br>Comment=%{customdata[0]}<extra></extra>\", \"legendgroup\": \"SAPN, core\", \"marker\": {\"color\": \"#636efa\", \"size\": 10, \"symbol\": \"diamond\"}, \"mode\": \"markers\", \"name\": \"SAPN, core\", \"showlegend\": true, \"subplot\": \"ternary\", \"type\": \"scatterternary\"}, {\"a\": [51.55685296976683, 50.90602475196929, 51.78466756254123], \"b\": [2.1083337778874136, 3.4580857771647744, 1.963971799903231], \"c\": [46.33481325234576, 45.63588947086593, 46.251360637555536], \"customdata\": [[\"BU04-Ore1.2 \"], [\"BU04-Ore1.8 \"], [\"BU04-Ore1.10 \"]], \"hovertemplate\": \"Facies=SAPN<br>Texture=patchy<br>NbTa=%{a}<br>TiSn=%{b}<br>FeMn=%{c}<br>Comment=%{customdata[0]}<extra></extra>\", \"legendgroup\": \"SAPN, patchy\", \"marker\": {\"color\": \"#636efa\", \"size\": 10, \"symbol\": \"square\"}, \"mode\": \"markers\", \"name\": \"SAPN, patchy\", \"showlegend\": true, \"subplot\": \"ternary\", \"type\": \"scatterternary\"}, {\"a\": [1.5580585462912686, 5.769761516811375, 5.036579330739671, 7.971241231150772, 5.462092362651578, 5.845666064851225, 5.125336969797893, 3.630018252364131, 4.527607550780034, 4.398717236553719, 5.549386142498496, 4.865817105270113, 2.9957251462595655, 4.6015306233185855, 48.71449596526625, 48.31509825563545, 48.07185005578185, 48.92408085744193, 49.19497000536456], \"b\": [95.4120170063972, 85.832020750145, 88.28428177998885, 81.58747123237987, 86.01511162516846, 87.60496568261, 89.15212985840904, 91.0130378632235, 89.38798220535564, 89.41333537377322, 86.39217972663346, 87.69283963453816, 92.59786586461183, 89.28005586883484, 7.268512752550388, 7.8044708014359765, 8.281813546113211, 6.141951278528074, 5.54213596110053], \"c\": [3.0299244473115277, 8.398217733043625, 6.679138889271474, 10.441287536469348, 8.522796012179962, 6.549368252538781, 5.722533171793058, 5.35694388441237, 6.084410243864323, 6.18794738967306, 8.058434130868049, 7.441343260191727, 4.406408989128592, 6.118413507846582, 44.016991282183355, 43.88043094292858, 43.64633639810494, 44.93396786403, 45.262894033534906], \"customdata\": [[\"BU19TS(1)-Rut2.2\"], [\"BU19TS(2)-ore1.3\"], [\"BU19TS(2)-ore1.5\"], [\"BU19TS(2)-ore2.1\"], [\"BU19TS(2)-ore2.5\"], [\"BU19TS(2)-ore3a.3\"], [\"BU19TS(2)-ore3b.2\"], [\"BU19TS(2)-ore3d.1\"], [\"BU19w-Rut2.5 \"], [\"BU19w-Rut2.8 \"], [\"BU19w-Rut3.2 \"], [\"BU19w-Rut3.4 \"], [\"BU19w-Rut4.1 \"], [\"BU19w-Area7_ore.3 \"], [\"BU19TS-coltan1.1 \"], [\"BU19TS-coltan1.5 \"], [\"BU19TS-coltan1.6 \"], [\"BU19TS-coltan2.6 \"], [\"BU19TS-coltan3.1 \"]], \"hovertemplate\": \"Facies=PAPN<br>Texture=rim<br>NbTa=%{a}<br>TiSn=%{b}<br>FeMn=%{c}<br>Comment=%{customdata[0]}<extra></extra>\", \"legendgroup\": \"PAPN, rim\", \"marker\": {\"color\": \"#EF553B\", \"size\": 10, \"symbol\": \"circle\"}, \"mode\": \"markers\", \"name\": \"PAPN, rim\", \"showlegend\": true, \"subplot\": \"ternary\", \"type\": \"scatterternary\"}, {\"a\": [3.4909422631109117, 3.2513028936611827, 1.9169506365740978, 4.376882023900359, 4.263429028652364, 4.240427597220972, 6.36672733778475, 5.594526598528612, 4.488099641014209, 5.111824993575104, 5.478917087658404, 6.645783624032394, 4.68639044972806, 6.608416304085927, 4.742557891043591, 6.19646686079232, 4.711875912886013, 2.2351065720845007, 4.71739343739372, 2.01082852574891, 3.482627642569433, 2.5724899520661566, 1.493151975235687, 2.2279568368066553, 1.7009793532643591, 1.8279172212171502, 4.002276786432915, 49.67557346739482, 49.15285354449432, 48.22816786230244, 49.79174256405931, 50.14584839495825, 47.35332827804144, 48.719294800858485], \"b\": [91.45667389155292, 91.73835480446488, 94.55511002246723, 89.26761830638263, 89.74345965171898, 90.65149301934005, 86.27170286356382, 87.87494884987926, 88.68061900243289, 89.17748282830465, 88.25075157394228, 85.58391422000588, 89.9555273797101, 86.11612005937147, 89.42459657302389, 84.90763503571887, 89.02337096359165, 94.68030179879527, 88.84569960066186, 95.79477375234362, 91.71338454997787, 93.70239912391817, 96.68083424712326, 94.38600352539483, 95.7069446001947, 95.51363254078483, 90.85207727507874, 5.648137275165741, 6.338320262277026, 8.445894531298432, 4.908339400797762, 4.845367129503025, 9.239092130895338, 7.008952835995885], \"c\": [5.052383845336162, 5.010342301873922, 3.527939340958667, 6.355499669717019, 5.993111319628661, 5.108079383438975, 7.361569798651435, 6.530524551592121, 6.83128135655289, 5.710692178120248, 6.270331338399318, 7.770302155961728, 5.358082170561847, 7.275463636542609, 5.832845535932522, 8.895898103488793, 6.2647531235223335, 3.084591629120238, 6.436906961944426, 2.194397721907481, 4.803987807452683, 3.725110924015676, 1.826013777641064, 3.386039637798529, 2.5920760465409445, 2.6584502379980175, 5.145645938488352, 44.676289257439436, 44.50882619322866, 43.32593760639914, 45.29991803514293, 45.008784475538725, 43.40757959106322, 44.27175236314563], \"customdata\": [[\"BU19TS(1)-rutile1.3\"], [\"BU19TS(1)-rutile1.4\"], [\"BU19TS(1)-Rut2.1\"], [\"BU19TS(2)-ore1.2\"], [\"BU19TS(2)-ore1.4\"], [\"BU19TS(2)-ore2.2\"], [\"BU19TS(2)-ore2.3\"], [\"BU19TS(2)-ore3a.1\"], [\"BU19TS(2)-ore3a.2\"], [\"BU19TS(2)-ore3b.1\"], [\"BU19TS(2)-ore3c.1\"], [\"BU19TS(2)-ore3c.2\"], [\"BU19TS(2)-ore3d.2\"], [\"BU19TS(2)-ore3d.3\"], [\"BU19TS(2)-Ore4.1\"], [\"BU19TS(2)-Ore4.2\"], [\"BU19TS(2)-Ore4.4\"], [\"BU19w-Rut2.1\"], [\"BU19w-Rut2.2\"], [\"BU19w-Rut2.4 \"], [\"BU19w-Rut2.6 \"], [\"BU19w-Rut2.7 \"], [\"BU19w-Rut2b.2 \"], [\"BU19w-Rut2b.4 \"], [\"BU19w-Rut2b.5 \"], [\"BU19w-Rut4.2 \"], [\"BU19w-Area7_ore.2 \"], [\"BU19TS-coltan1.2 \"], [\"BU19TS-coltan1.4 \"], [\"BU19TS-coltan1.7 \"], [\"BU19TS-coltan2.2 \"], [\"BU19TS-coltan2.3 \"], [\"BU19TS-coltan3.2 \"], [\"BU19TS-coltan3.3 \"]], \"hovertemplate\": \"Facies=PAPN<br>Texture=core<br>NbTa=%{a}<br>TiSn=%{b}<br>FeMn=%{c}<br>Comment=%{customdata[0]}<extra></extra>\", \"legendgroup\": \"PAPN, core\", \"marker\": {\"color\": \"#EF553B\", \"size\": 10, \"symbol\": \"diamond\"}, \"mode\": \"markers\", \"name\": \"PAPN, core\", \"showlegend\": true, \"subplot\": \"ternary\", \"type\": \"scatterternary\"}, {\"a\": [5.285623345820648, 4.719483674880312, 5.462615170759891, 5.318234629175455, 4.644225010525819, 48.730320920785836, 46.772514590754504, 50.118957291474], \"b\": [86.27959321538422, 88.43683758730664, 86.1695737085236, 87.98473704614531, 89.25264613250143, 5.553728662522306, 4.3708157725159165, 4.404117890748666], \"c\": [8.43478343879514, 6.843678737813047, 8.367811120716505, 6.697028324679222, 6.103128856972745, 45.715950416691854, 48.856669636729585, 45.47692481777734], \"customdata\": [[\"BU19TS(2)-ore1.1\"], [\"BU19TS(2)-ore1.6\"], [\"BU19TS(2)-ore2.4\"], [\"BU19TS(2)-Ore4.3\"], [\"BU19w-Rut4.3 \"], [\"BU19TS-coltan1.3 \"], [\"BU19TS-coltan2.4 \"], [\"BU19TS-coltan2.5 \"]], \"hovertemplate\": \"Facies=PAPN<br>Texture=patchy<br>NbTa=%{a}<br>TiSn=%{b}<br>FeMn=%{c}<br>Comment=%{customdata[0]}<extra></extra>\", \"legendgroup\": \"PAPN, patchy\", \"marker\": {\"color\": \"#EF553B\", \"size\": 10, \"symbol\": \"square\"}, \"mode\": \"markers\", \"name\": \"PAPN, patchy\", \"showlegend\": true, \"subplot\": \"ternary\", \"type\": \"scatterternary\"}, {\"a\": [51.894344148033554, 51.22709257523779, 51.94271431018761, 50.84898251367138, 52.323931645313074, 52.69787072097998, 52.62364600759485, 52.51877630245004], \"b\": [1.2196102377537492, 2.086196117774049, 1.3086993464429122, 2.8497478956257356, 1.5424449622667875, 0.9130322618744401, 0.6969492510447501, 0.7866525817087151], \"c\": [46.886045614212705, 46.68671130698816, 46.74858634336948, 46.301269590702894, 46.133623392420134, 46.38909701714559, 46.6794047413604, 46.69457111584125], \"customdata\": [[\"BU24-coltan1.1 \"], [\"BU24-coltan2.1 \"], [\"BU24-coltan3.2 \"], [\"BU24-coltan3.3 \"], [\"BU24-coltan3.6 \"], [\"BU24-Ore4.1\"], [\"BU24-Ore4.4\"], [\"BU24-Ore4.6\"]], \"hovertemplate\": \"Facies=Albitized<br>Texture=rim<br>NbTa=%{a}<br>TiSn=%{b}<br>FeMn=%{c}<br>Comment=%{customdata[0]}<extra></extra>\", \"legendgroup\": \"Albitized, rim\", \"marker\": {\"color\": \"#00cc96\", \"size\": 10, \"symbol\": \"circle\"}, \"mode\": \"markers\", \"name\": \"Albitized, rim\", \"showlegend\": true, \"subplot\": \"ternary\", \"type\": \"scatterternary\"}, {\"a\": [52.10129440348991, 51.65536202849298, 51.66748848934216, 50.77288712264444, 51.91222611616365, 52.0215526412637, 51.18800988528231, 51.82287515290096, 51.42159044637245, 50.92606223977717], \"b\": [1.1611891490471837, 2.088116644419007, 2.0406683081091606, 1.369322558958268, 1.2252802376720806, 1.2388731169935923, 2.18142572343107, 1.3561153421939527, 2.1015135638073046, 2.258051006039649], \"c\": [46.73751644746291, 46.25652132708801, 46.29184320254868, 47.85779031839729, 46.862493646164275, 46.73957424174271, 46.63056439128661, 46.82100950490509, 46.47689598982026, 46.81588675418319], \"customdata\": [[\"BU24-coltan1.2 \"], [\"BU24-coltan2.2 \"], [\"BU24-coltan2.3 \"], [\"BU24-coltan3.1 \"], [\"BU24-coltan3.4 \"], [\"BU24-coltan3.5 \"], [\"BU24-Ore4.2\"], [\"BU24-Ore4.3\"], [\"BU24-Ore4.5\"], [\"BU24-Ore4.7\"]], \"hovertemplate\": \"Facies=Albitized<br>Texture=core<br>NbTa=%{a}<br>TiSn=%{b}<br>FeMn=%{c}<br>Comment=%{customdata[0]}<extra></extra>\", \"legendgroup\": \"Albitized, core\", \"marker\": {\"color\": \"#00cc96\", \"size\": 10, \"symbol\": \"diamond\"}, \"mode\": \"markers\", \"name\": \"Albitized, core\", \"showlegend\": true, \"subplot\": \"ternary\", \"type\": \"scatterternary\"}],                        {\"legend\": {\"title\": {\"text\": \"Facies, Texture\"}, \"tracegroupgap\": 0}, \"margin\": {\"t\": 60}, \"template\": {\"data\": {\"bar\": [{\"error_x\": {\"color\": \"#2a3f5f\"}, \"error_y\": {\"color\": \"#2a3f5f\"}, \"marker\": {\"line\": {\"color\": \"#E5ECF6\", \"width\": 0.5}}, \"type\": \"bar\"}], \"barpolar\": [{\"marker\": {\"line\": {\"color\": \"#E5ECF6\", \"width\": 0.5}}, \"type\": \"barpolar\"}], \"carpet\": [{\"aaxis\": {\"endlinecolor\": \"#2a3f5f\", \"gridcolor\": \"white\", \"linecolor\": \"white\", \"minorgridcolor\": \"white\", \"startlinecolor\": \"#2a3f5f\"}, \"baxis\": {\"endlinecolor\": \"#2a3f5f\", \"gridcolor\": \"white\", \"linecolor\": \"white\", \"minorgridcolor\": \"white\", \"startlinecolor\": \"#2a3f5f\"}, \"type\": \"carpet\"}], \"choropleth\": [{\"colorbar\": {\"outlinewidth\": 0, \"ticks\": \"\"}, \"type\": \"choropleth\"}], \"contour\": [{\"colorbar\": {\"outlinewidth\": 0, \"ticks\": \"\"}, \"colorscale\": [[0.0, \"#0d0887\"], [0.1111111111111111, \"#46039f\"], [0.2222222222222222, \"#7201a8\"], [0.3333333333333333, \"#9c179e\"], [0.4444444444444444, \"#bd3786\"], [0.5555555555555556, \"#d8576b\"], [0.6666666666666666, \"#ed7953\"], [0.7777777777777778, \"#fb9f3a\"], [0.8888888888888888, \"#fdca26\"], [1.0, \"#f0f921\"]], \"type\": \"contour\"}], \"contourcarpet\": [{\"colorbar\": {\"outlinewidth\": 0, \"ticks\": \"\"}, \"type\": \"contourcarpet\"}], \"heatmap\": [{\"colorbar\": {\"outlinewidth\": 0, \"ticks\": \"\"}, \"colorscale\": [[0.0, \"#0d0887\"], [0.1111111111111111, \"#46039f\"], [0.2222222222222222, \"#7201a8\"], [0.3333333333333333, \"#9c179e\"], [0.4444444444444444, \"#bd3786\"], [0.5555555555555556, \"#d8576b\"], [0.6666666666666666, \"#ed7953\"], [0.7777777777777778, \"#fb9f3a\"], [0.8888888888888888, \"#fdca26\"], [1.0, \"#f0f921\"]], \"type\": \"heatmap\"}], \"heatmapgl\": [{\"colorbar\": {\"outlinewidth\": 0, \"ticks\": \"\"}, \"colorscale\": [[0.0, \"#0d0887\"], [0.1111111111111111, \"#46039f\"], [0.2222222222222222, \"#7201a8\"], [0.3333333333333333, \"#9c179e\"], [0.4444444444444444, \"#bd3786\"], [0.5555555555555556, \"#d8576b\"], [0.6666666666666666, \"#ed7953\"], [0.7777777777777778, \"#fb9f3a\"], [0.8888888888888888, \"#fdca26\"], [1.0, \"#f0f921\"]], \"type\": \"heatmapgl\"}], \"histogram\": [{\"marker\": {\"colorbar\": {\"outlinewidth\": 0, \"ticks\": \"\"}}, \"type\": \"histogram\"}], \"histogram2d\": [{\"colorbar\": {\"outlinewidth\": 0, \"ticks\": \"\"}, \"colorscale\": [[0.0, \"#0d0887\"], [0.1111111111111111, \"#46039f\"], [0.2222222222222222, \"#7201a8\"], [0.3333333333333333, \"#9c179e\"], [0.4444444444444444, \"#bd3786\"], [0.5555555555555556, \"#d8576b\"], [0.6666666666666666, \"#ed7953\"], [0.7777777777777778, \"#fb9f3a\"], [0.8888888888888888, \"#fdca26\"], [1.0, \"#f0f921\"]], \"type\": \"histogram2d\"}], \"histogram2dcontour\": [{\"colorbar\": {\"outlinewidth\": 0, \"ticks\": \"\"}, \"colorscale\": [[0.0, \"#0d0887\"], [0.1111111111111111, \"#46039f\"], [0.2222222222222222, \"#7201a8\"], [0.3333333333333333, \"#9c179e\"], [0.4444444444444444, \"#bd3786\"], [0.5555555555555556, \"#d8576b\"], [0.6666666666666666, \"#ed7953\"], [0.7777777777777778, \"#fb9f3a\"], [0.8888888888888888, \"#fdca26\"], [1.0, \"#f0f921\"]], \"type\": \"histogram2dcontour\"}], \"mesh3d\": [{\"colorbar\": {\"outlinewidth\": 0, \"ticks\": \"\"}, \"type\": \"mesh3d\"}], \"parcoords\": [{\"line\": {\"colorbar\": {\"outlinewidth\": 0, \"ticks\": \"\"}}, \"type\": \"parcoords\"}], \"pie\": [{\"automargin\": true, \"type\": \"pie\"}], \"scatter\": [{\"marker\": {\"colorbar\": {\"outlinewidth\": 0, \"ticks\": \"\"}}, \"type\": \"scatter\"}], \"scatter3d\": [{\"line\": {\"colorbar\": {\"outlinewidth\": 0, \"ticks\": \"\"}}, \"marker\": {\"colorbar\": {\"outlinewidth\": 0, \"ticks\": \"\"}}, \"type\": \"scatter3d\"}], \"scattercarpet\": [{\"marker\": {\"colorbar\": {\"outlinewidth\": 0, \"ticks\": \"\"}}, \"type\": \"scattercarpet\"}], \"scattergeo\": [{\"marker\": {\"colorbar\": {\"outlinewidth\": 0, \"ticks\": \"\"}}, \"type\": \"scattergeo\"}], \"scattergl\": [{\"marker\": {\"colorbar\": {\"outlinewidth\": 0, \"ticks\": \"\"}}, \"type\": \"scattergl\"}], \"scattermapbox\": [{\"marker\": {\"colorbar\": {\"outlinewidth\": 0, \"ticks\": \"\"}}, \"type\": \"scattermapbox\"}], \"scatterpolar\": [{\"marker\": {\"colorbar\": {\"outlinewidth\": 0, \"ticks\": \"\"}}, \"type\": \"scatterpolar\"}], \"scatterpolargl\": [{\"marker\": {\"colorbar\": {\"outlinewidth\": 0, \"ticks\": \"\"}}, \"type\": \"scatterpolargl\"}], \"scatterternary\": [{\"marker\": {\"colorbar\": {\"outlinewidth\": 0, \"ticks\": \"\"}}, \"type\": \"scatterternary\"}], \"surface\": [{\"colorbar\": {\"outlinewidth\": 0, \"ticks\": \"\"}, \"colorscale\": [[0.0, \"#0d0887\"], [0.1111111111111111, \"#46039f\"], [0.2222222222222222, \"#7201a8\"], [0.3333333333333333, \"#9c179e\"], [0.4444444444444444, \"#bd3786\"], [0.5555555555555556, \"#d8576b\"], [0.6666666666666666, \"#ed7953\"], [0.7777777777777778, \"#fb9f3a\"], [0.8888888888888888, \"#fdca26\"], [1.0, \"#f0f921\"]], \"type\": \"surface\"}], \"table\": [{\"cells\": {\"fill\": {\"color\": \"#EBF0F8\"}, \"line\": {\"color\": \"white\"}}, \"header\": {\"fill\": {\"color\": \"#C8D4E3\"}, \"line\": {\"color\": \"white\"}}, \"type\": \"table\"}]}, \"layout\": {\"annotationdefaults\": {\"arrowcolor\": \"#2a3f5f\", \"arrowhead\": 0, \"arrowwidth\": 1}, \"autotypenumbers\": \"strict\", \"coloraxis\": {\"colorbar\": {\"outlinewidth\": 0, \"ticks\": \"\"}}, \"colorscale\": {\"diverging\": [[0, \"#8e0152\"], [0.1, \"#c51b7d\"], [0.2, \"#de77ae\"], [0.3, \"#f1b6da\"], [0.4, \"#fde0ef\"], [0.5, \"#f7f7f7\"], [0.6, \"#e6f5d0\"], [0.7, \"#b8e186\"], [0.8, \"#7fbc41\"], [0.9, \"#4d9221\"], [1, \"#276419\"]], \"sequential\": [[0.0, \"#0d0887\"], [0.1111111111111111, \"#46039f\"], [0.2222222222222222, \"#7201a8\"], [0.3333333333333333, \"#9c179e\"], [0.4444444444444444, \"#bd3786\"], [0.5555555555555556, \"#d8576b\"], [0.6666666666666666, \"#ed7953\"], [0.7777777777777778, \"#fb9f3a\"], [0.8888888888888888, \"#fdca26\"], [1.0, \"#f0f921\"]], \"sequentialminus\": [[0.0, \"#0d0887\"], [0.1111111111111111, \"#46039f\"], [0.2222222222222222, \"#7201a8\"], [0.3333333333333333, \"#9c179e\"], [0.4444444444444444, \"#bd3786\"], [0.5555555555555556, \"#d8576b\"], [0.6666666666666666, \"#ed7953\"], [0.7777777777777778, \"#fb9f3a\"], [0.8888888888888888, \"#fdca26\"], [1.0, \"#f0f921\"]]}, \"colorway\": [\"#636efa\", \"#EF553B\", \"#00cc96\", \"#ab63fa\", \"#FFA15A\", \"#19d3f3\", \"#FF6692\", \"#B6E880\", \"#FF97FF\", \"#FECB52\"], \"font\": {\"color\": \"#2a3f5f\"}, \"geo\": {\"bgcolor\": \"white\", \"lakecolor\": \"white\", \"landcolor\": \"#E5ECF6\", \"showlakes\": true, \"showland\": true, \"subunitcolor\": \"white\"}, \"hoverlabel\": {\"align\": \"left\"}, \"hovermode\": \"closest\", \"mapbox\": {\"style\": \"light\"}, \"paper_bgcolor\": \"white\", \"plot_bgcolor\": \"#E5ECF6\", \"polar\": {\"angularaxis\": {\"gridcolor\": \"white\", \"linecolor\": \"white\", \"ticks\": \"\"}, \"bgcolor\": \"#E5ECF6\", \"radialaxis\": {\"gridcolor\": \"white\", \"linecolor\": \"white\", \"ticks\": \"\"}}, \"scene\": {\"xaxis\": {\"backgroundcolor\": \"#E5ECF6\", \"gridcolor\": \"white\", \"gridwidth\": 2, \"linecolor\": \"white\", \"showbackground\": true, \"ticks\": \"\", \"zerolinecolor\": \"white\"}, \"yaxis\": {\"backgroundcolor\": \"#E5ECF6\", \"gridcolor\": \"white\", \"gridwidth\": 2, \"linecolor\": \"white\", \"showbackground\": true, \"ticks\": \"\", \"zerolinecolor\": \"white\"}, \"zaxis\": {\"backgroundcolor\": \"#E5ECF6\", \"gridcolor\": \"white\", \"gridwidth\": 2, \"linecolor\": \"white\", \"showbackground\": true, \"ticks\": \"\", \"zerolinecolor\": \"white\"}}, \"shapedefaults\": {\"line\": {\"color\": \"#2a3f5f\"}}, \"ternary\": {\"aaxis\": {\"gridcolor\": \"white\", \"linecolor\": \"white\", \"ticks\": \"\"}, \"baxis\": {\"gridcolor\": \"white\", \"linecolor\": \"white\", \"ticks\": \"\"}, \"bgcolor\": \"#E5ECF6\", \"caxis\": {\"gridcolor\": \"white\", \"linecolor\": \"white\", \"ticks\": \"\"}}, \"title\": {\"x\": 0.05}, \"xaxis\": {\"automargin\": true, \"gridcolor\": \"white\", \"linecolor\": \"white\", \"ticks\": \"\", \"title\": {\"standoff\": 15}, \"zerolinecolor\": \"white\", \"zerolinewidth\": 2}, \"yaxis\": {\"automargin\": true, \"gridcolor\": \"white\", \"linecolor\": \"white\", \"ticks\": \"\", \"title\": {\"standoff\": 15}, \"zerolinecolor\": \"white\", \"zerolinewidth\": 2}}}, \"ternary\": {\"aaxis\": {\"linecolor\": \"black\", \"showgrid\": false, \"tickcolor\": \"black\", \"ticks\": \"inside\", \"title\": {\"text\": \"NbTa\"}}, \"baxis\": {\"linecolor\": \"black\", \"showgrid\": false, \"tickcolor\": \"black\", \"ticks\": \"inside\", \"title\": {\"text\": \"TiSn\"}}, \"bgcolor\": \"white\", \"caxis\": {\"linecolor\": \"black\", \"showgrid\": false, \"tickcolor\": \"black\", \"ticks\": \"inside\", \"title\": {\"text\": \"FeMn\"}}, \"domain\": {\"x\": [0.0, 1.0], \"y\": [0.0, 1.0]}}},                        {\"responsive\": true}                    ).then(function(){\n",
       "                            \n",
       "var gd = document.getElementById('65d598c0-6f59-44a5-bc38-ca769109ef11');\n",
       "var x = new MutationObserver(function (mutations, observer) {{\n",
       "        var display = window.getComputedStyle(gd).display;\n",
       "        if (!display || display === 'none') {{\n",
       "            console.log([gd, 'removed!']);\n",
       "            Plotly.purge(gd);\n",
       "            observer.disconnect();\n",
       "        }}\n",
       "}});\n",
       "\n",
       "// Listen for the removal of the full notebook cells\n",
       "var notebookContainer = gd.closest('#notebook-container');\n",
       "if (notebookContainer) {{\n",
       "    x.observe(notebookContainer, {childList: true});\n",
       "}}\n",
       "\n",
       "// Listen for the clearing of the current output cell\n",
       "var outputEl = gd.closest('.output');\n",
       "if (outputEl) {{\n",
       "    x.observe(outputEl, {childList: true});\n",
       "}}\n",
       "\n",
       "                        })                };                });            </script>        </div>"
      ]
     },
     "metadata": {},
     "output_type": "display_data"
    }
   ],
   "source": [
    "# --- define subset within dataset for ternary normalization\n",
    "A = \"NbTa\"\n",
    "B = \"TiSn\"\n",
    "C = \"FeMn\"\n",
    "\n",
    "df_set = df_moles.loc[:, [A, B, C]]\n",
    "\n",
    "\n",
    "# --- normalize subset using function defined above\n",
    "\n",
    "df_set_norm = normalize(df_set)\n",
    "\n",
    "\n",
    "# --- combine calculated data with metadata\n",
    "\n",
    "df_set_norm['Facies'] = df_moles['Facies']\n",
    "df_set_norm['Sample'] = df_moles['Sample']\n",
    "df_set_norm['Comment'] = df_moles['Comment']\n",
    "df_set_norm['Area'] = df_moles['Area']\n",
    "df_set_norm['Mineral'] = df_moles['Mineral']\n",
    "df_set_norm['Texture'] = df_moles['Texture']\n",
    "\n",
    "\n",
    "\n",
    "# --- ternary plot of normalized subset\n",
    "\n",
    "fig2 = px.scatter_ternary(df_set_norm, a=A, b=B, c=C,\n",
    "                          color=\"Facies\",hover_data=['Comment'],symbol=\"Texture\")#,range_color=[1,5],color_continuous_scale='Inferno'))\n",
    "\n",
    "fig2.update_traces(marker=dict(size=10),\n",
    "                  selector=dict(mode='markers'))\n",
    "\n",
    "fig2.update_ternaries(bgcolor=\"white\")\n",
    "\n",
    "fig2.update_ternaries(aaxis_linecolor='black',aaxis_tickcolor='black',aaxis_ticks='inside',aaxis_showgrid=False,\n",
    "                      baxis_linecolor='black',baxis_tickcolor='black',baxis_ticks='inside',baxis_showgrid=False,\n",
    "                      caxis_linecolor='black',caxis_tickcolor='black',caxis_ticks='inside',caxis_showgrid=False)\n",
    "\n",
    "# fig2.update_ternaries(aaxis_min=0,baxis_min=0.7,caxis_min=0)\n",
    "# fig2.update_ternaries(aaxis_min=0.6,baxis_min=0,caxis_min=0.25)\n",
    "\n",
    "# fig2.write_image(\"CGM_ternary_NbTa-TiSn-FeMn.pdf\")\n",
    "fig2.show()"
   ]
  },
  {
   "cell_type": "code",
   "execution_count": null,
   "metadata": {},
   "outputs": [],
   "source": [
    "fig = plt.figure(figsize=(8,8))\n",
    "gs = gridspec.GridSpec(1,1)\n",
    "ax1 = fig.add_subplot(gs[0])\n",
    "\n",
    "ax1.plot(df_analysis['Mn#'], df_analysis['Ta#'],'ro')\n",
    "\n",
    "\n",
    "ax1.set_xlim(0,1)\n",
    "ax1.set_ylim(0,1)\n",
    "\n",
    "ax1.set_xlabel(\"Mn#\",family=\"serif\",  fontsize=12)\n",
    "ax1.set_ylabel(\"Ta#\",family=\"serif\",  fontsize=12)\n",
    "\n",
    "ax1.xaxis.set_major_locator(ticker.MultipleLocator(0.1))\n",
    "ax1.yaxis.set_major_locator(ticker.MultipleLocator(0.1))\n",
    "\n",
    "ax1.xaxis.set_minor_locator(AutoMinorLocator(2))\n",
    "ax1.yaxis.set_minor_locator(AutoMinorLocator(2))\n",
    "\n",
    "ax1.tick_params(axis='both',which='major', direction=\"in\", top=True, right=True, bottom=True, length=8, labelsize=12)\n",
    "ax1.tick_params(axis='both',which='minor', direction=\"in\", top=True, right=True, bottom=True, length=4, labelsize=12)\n",
    "\n",
    "fig.tight_layout()"
   ]
  },
  {
   "cell_type": "code",
   "execution_count": null,
   "metadata": {},
   "outputs": [],
   "source": []
  }
 ],
 "metadata": {
  "kernelspec": {
   "display_name": "Python 3",
   "language": "python",
   "name": "python3"
  },
  "language_info": {
   "codemirror_mode": {
    "name": "ipython",
    "version": 3
   },
   "file_extension": ".py",
   "mimetype": "text/x-python",
   "name": "python",
   "nbconvert_exporter": "python",
   "pygments_lexer": "ipython3",
   "version": "3.7.1"
  }
 },
 "nbformat": 4,
 "nbformat_minor": 2
}
